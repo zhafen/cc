{
 "cells": [
  {
   "cell_type": "code",
   "execution_count": 1,
   "metadata": {},
   "outputs": [],
   "source": [
    "import numpy as np\n",
    "import os"
   ]
  },
  {
   "cell_type": "code",
   "execution_count": 2,
   "metadata": {},
   "outputs": [],
   "source": [
    "import verdict"
   ]
  },
  {
   "cell_type": "code",
   "execution_count": 3,
   "metadata": {},
   "outputs": [],
   "source": [
    "import cc.atlas as atlas\n",
    "import cc.cartography as cartography"
   ]
  },
  {
   "cell_type": "markdown",
   "metadata": {},
   "source": [
    "# Load"
   ]
  },
  {
   "cell_type": "code",
   "execution_count": 4,
   "metadata": {},
   "outputs": [
    {
     "name": "stderr",
     "output_type": "stream",
     "text": [
      "100%|██████████| 10/10 [00:00<00:00, 13438.97it/s]"
     ]
    },
    {
     "name": "stdout",
     "output_type": "stream",
     "text": [
      "Loading bibliography entries.\n",
      "Storing bibliography entries.\n",
      "Loading saved atlas data.\n"
     ]
    },
    {
     "name": "stderr",
     "output_type": "stream",
     "text": [
      "\n",
      "100%|██████████| 10/10 [00:00<00:00, 35971.73it/s]\n"
     ]
    }
   ],
   "source": [
    "a = atlas.Atlas(\n",
    "    './example_atlas',\n",
    "    bibtex_fp='../cc/tests/data/example_atlas/example.bib',\n",
    ")"
   ]
  },
  {
   "cell_type": "markdown",
   "metadata": {},
   "source": [
    "#### Process the bibtex notes."
   ]
  },
  {
   "cell_type": "code",
   "execution_count": 5,
   "metadata": {},
   "outputs": [
    {
     "data": {
      "text/plain": [
       "Dict, {\n",
       "'VandeVoort2018a' : None,\n",
       "'Stern2018' : None,\n",
       "'Howk2017' : None,\n",
       "'Garrison-kimmel2017' : None,\n",
       "'Hopkins2017' : None,\n",
       "'Hafen2016' : None,\n",
       "'Muratov2016' : None,\n",
       "'VandeVoort2016' : None,\n",
       "'Hafen2019' : None,\n",
       "'Hafen2019a' : None,\n",
       "}"
      ]
     },
     "execution_count": 5,
     "metadata": {},
     "output_type": "execute_result"
    }
   ],
   "source": [
    "a.data.process_bibtex_annotations()"
   ]
  },
  {
   "cell_type": "code",
   "execution_count": 6,
   "metadata": {},
   "outputs": [
    {
     "name": "stderr",
     "output_type": "stream",
     "text": [
      "100%|██████████| 10/10 [00:00<00:00, 41651.48it/s]\n"
     ]
    }
   ],
   "source": [
    "a.process_abstracts()"
   ]
  },
  {
   "cell_type": "code",
   "execution_count": 7,
   "metadata": {},
   "outputs": [
    {
     "name": "stderr",
     "output_type": "stream",
     "text": [
      "100%|██████████| 10/10 [00:00<00:00, 30954.27it/s]\n"
     ]
    },
    {
     "name": "stdout",
     "output_type": "stream",
     "text": [
      "Preparing to save data.\n",
      "Saving to ./example_atlas/atlas_data.h5\n"
     ]
    }
   ],
   "source": [
    "saved_data = a.save_data()"
   ]
  },
  {
   "cell_type": "code",
   "execution_count": 8,
   "metadata": {},
   "outputs": [
    {
     "name": "stderr",
     "output_type": "stream",
     "text": [
      "100%|██████████| 10/10 [00:00<00:00, 766.81it/s]"
     ]
    },
    {
     "name": "stdout",
     "output_type": "stream",
     "text": [
      "Generating concept projection...\n"
     ]
    },
    {
     "name": "stderr",
     "output_type": "stream",
     "text": [
      "\n"
     ]
    }
   ],
   "source": [
    "cp = a.concept_projection( overwrite=True )"
   ]
  },
  {
   "cell_type": "code",
   "execution_count": 9,
   "metadata": {},
   "outputs": [],
   "source": [
    "fp = os.path.join( a.atlas_dir, 'projection.h5' )\n",
    "c = cartography.Cartographer.from_hdf5( fp )"
   ]
  },
  {
   "cell_type": "code",
   "execution_count": 10,
   "metadata": {},
   "outputs": [
    {
     "data": {
      "text/plain": [
       "array([2.93811637, 3.71037311, 1.83334631, 5.13690326, 3.12930658,\n",
       "              nan,        nan,        nan, 5.06342837, 5.85783426])"
      ]
     },
     "execution_count": 10,
     "metadata": {},
     "output_type": "execute_result"
    }
   ],
   "source": [
    "c.asymmetry_estimator()"
   ]
  },
  {
   "cell_type": "markdown",
   "metadata": {},
   "source": [
    "# Plot"
   ]
  },
  {
   "cell_type": "markdown",
   "metadata": {},
   "source": [
    "%matplotlib inline\n",
    "\n",
    "figure = plt.figure( figsize=(8,8), facecolor='w' )\n",
    "ax = plt.gca()\n",
    "\n",
    "cospsi_a, cospsi_a_abs = a.plot_cospsi2d_custom(\n",
    "    a,\n",
    "    a,\n",
    "    y_kwargs = { 'method': 'abstract similarity'},\n",
    "    ax = ax,\n",
    ")\n",
    "\n",
    "ax.plot(\n",
    "    [ 0, 1 ],\n",
    "    [ 0, 1 ],\n",
    "    linestyle = '--',\n",
    "    linewidth = 2,\n",
    "    color = 'k',\n",
    ")"
   ]
  },
  {
   "cell_type": "markdown",
   "metadata": {},
   "source": [
    "%matplotlib inline\n",
    "\n",
    "cospsi_a, cospsi_h19 = a.plot_cospsi2d_custom(\n",
    "    a,\n",
    "    a.data['Hafen2019'],\n",
    ")"
   ]
  },
  {
   "cell_type": "markdown",
   "metadata": {},
   "source": [
    "figure = plt.figure( figsize=(8,8), facecolor='w' )\n",
    "ax = plt.gca()\n",
    "\n",
    "cospsi_a, cospsi_h19 = a.plot_cospsi2d_custom(\n",
    "    a.data['Hafen2019'],\n",
    "    a.data['Hafen2019'],\n",
    "    y_kwargs = { 'method': 'abstract similarity'},\n",
    "    ax = ax,\n",
    ")\n",
    "\n",
    "ax.plot(\n",
    "    [ 0, 1 ],\n",
    "    [ 0, 1 ],\n",
    "    linestyle = '--',\n",
    "    linewidth = 2,\n",
    "    color = 'k',\n",
    ")"
   ]
  },
  {
   "cell_type": "markdown",
   "metadata": {},
   "source": [
    "# Reference-Based Exploration"
   ]
  },
  {
   "cell_type": "markdown",
   "metadata": {},
   "source": [
    "## Populate"
   ]
  },
  {
   "cell_type": "markdown",
   "metadata": {},
   "source": [
    "#### Populate with Citing Works\n",
    "Can be done iteratively."
   ]
  },
  {
   "cell_type": "code",
   "execution_count": 11,
   "metadata": {},
   "outputs": [
    {
     "name": "stdout",
     "output_type": "stream",
     "text": [
      "Loading bibliography entries.\n"
     ]
    },
    {
     "name": "stderr",
     "output_type": "stream",
     "text": [
      "100%|██████████| 765/765 [00:00<00:00, 357429.27it/s]\n",
      "100%|██████████| 45/45 [00:00<00:00, 225231.12it/s]"
     ]
    },
    {
     "name": "stdout",
     "output_type": "stream",
     "text": [
      "Storing bibliography entries.\n",
      "Loading saved atlas data.\n"
     ]
    },
    {
     "name": "stderr",
     "output_type": "stream",
     "text": [
      "\n"
     ]
    }
   ],
   "source": [
    "# Download a bibtex file for all works that cite Hafen2019 and create a new atlas\n",
    "a_H19_cit = atlas.Atlas.from_bibcodes( atlas_dir=a.atlas_dir, bibcodes=a['Hafen2019'].citations, bibtex_fp='H19_cit.bib' )"
   ]
  },
  {
   "cell_type": "markdown",
   "metadata": {},
   "source": [
    "#### Populate with Referenced Works\n",
    "Can also be done iteratively."
   ]
  },
  {
   "cell_type": "code",
   "execution_count": 12,
   "metadata": {},
   "outputs": [
    {
     "name": "stdout",
     "output_type": "stream",
     "text": [
      "Loading bibliography entries.\n"
     ]
    },
    {
     "name": "stderr",
     "output_type": "stream",
     "text": [
      "100%|██████████| 2520/2520 [00:00<00:00, 352204.13it/s]\n",
      "100%|██████████| 168/168 [00:00<00:00, 438756.58it/s]"
     ]
    },
    {
     "name": "stdout",
     "output_type": "stream",
     "text": [
      "Storing bibliography entries.\n",
      "Loading saved atlas data.\n"
     ]
    },
    {
     "name": "stderr",
     "output_type": "stream",
     "text": [
      "\n"
     ]
    }
   ],
   "source": [
    "# Download a bibtex file for all works that cite Hafen2019 and create a new atlas\n",
    "a_H19_ref = atlas.Atlas.from_bibcodes( atlas_dir=a.atlas_dir, bibcodes=a['Hafen2019'].references, bibtex_fp='H19_ref.bib'  )"
   ]
  },
  {
   "cell_type": "markdown",
   "metadata": {},
   "source": [
    "#### Alternatively, import to the existing atlas"
   ]
  },
  {
   "cell_type": "code",
   "execution_count": 13,
   "metadata": {},
   "outputs": [
    {
     "data": {
      "text/plain": [
       "10"
      ]
     },
     "execution_count": 13,
     "metadata": {},
     "output_type": "execute_result"
    }
   ],
   "source": [
    "len( list( a.data.keys() ) )"
   ]
  },
  {
   "cell_type": "code",
   "execution_count": 14,
   "metadata": {},
   "outputs": [
    {
     "name": "stderr",
     "output_type": "stream",
     "text": [
      "100%|██████████| 45/45 [00:00<00:00, 35431.51it/s]\n"
     ]
    }
   ],
   "source": [
    "a.import_bibcodes( a['Hafen2019'].citations )"
   ]
  },
  {
   "cell_type": "code",
   "execution_count": 15,
   "metadata": {},
   "outputs": [
    {
     "data": {
      "text/plain": [
       "55"
      ]
     },
     "execution_count": 15,
     "metadata": {},
     "output_type": "execute_result"
    }
   ],
   "source": [
    "len( list( a.data.keys() ) )"
   ]
  },
  {
   "cell_type": "markdown",
   "metadata": {},
   "source": [
    "#### See if we can populate a region starting from our small atlas."
   ]
  },
  {
   "cell_type": "code",
   "execution_count": 16,
   "metadata": {},
   "outputs": [
    {
     "name": "stderr",
     "output_type": "stream",
     "text": [
      "/Users/zhafen/repos/cc/cc/cartography.py:198: RuntimeWarning: invalid value encountered in arccos\n",
      "  return np.arccos( cospsi ) / scaling\n"
     ]
    },
    {
     "name": "stdout",
     "output_type": "stream",
     "text": [
      "Importing 150 new publications linked to random publication Hopkins2017...\n"
     ]
    },
    {
     "name": "stderr",
     "output_type": "stream",
     "text": [
      "100%|██████████| 149/149 [00:00<00:00, 36014.02it/s]\n",
      "  0%|          | 0/199 [00:00<?, ?it/s]"
     ]
    },
    {
     "name": "stdout",
     "output_type": "stream",
     "text": [
      "Processing abstracts...\n"
     ]
    },
    {
     "name": "stderr",
     "output_type": "stream",
     "text": [
      " 34%|███▍      | 68/199 [00:26<00:58,  2.26it/s]/Users/zhafen/repos/cc/cc/publication.py:245: UserWarning: Unable to find arxiv ID or DOI for publication 2020ASPC..522..225G.\n",
      "\n",
      "                        Not processing abstract.\n",
      "  warnings.warn( failure_msg )\n",
      " 98%|█████████▊| 196/199 [01:30<00:01,  1.50it/s]/Users/zhafen/repos/cc/cc/publication.py:245: UserWarning: Unable to find arxiv ID or DOI for publication 1988xrec.book.....S.\n",
      "\n",
      "                        Not processing abstract.\n",
      "  warnings.warn( failure_msg )\n",
      "100%|██████████| 199/199 [01:31<00:00,  2.17it/s]\n",
      " 21%|██        | 41/199 [00:00<00:00, 398.04it/s]"
     ]
    },
    {
     "name": "stdout",
     "output_type": "stream",
     "text": [
      "Re-projecting publications...\n"
     ]
    },
    {
     "name": "stderr",
     "output_type": "stream",
     "text": [
      "100%|██████████| 199/199 [00:00<00:00, 218.36it/s]\n"
     ]
    }
   ],
   "source": [
    "a = c.survey( 'Hafen2019', a, 0.6, './example_atlas/survey.bib' )"
   ]
  },
  {
   "cell_type": "code",
   "execution_count": 17,
   "metadata": {},
   "outputs": [
    {
     "name": "stderr",
     "output_type": "stream",
     "text": [
      "/Users/zhafen/repos/cc/cc/cartography.py:164: RuntimeWarning: invalid value encountered in true_divide\n",
      "  return ip_ab / np.sqrt( ip_aa * ip_bb )\n"
     ]
    },
    {
     "data": {
      "text/plain": [
       "169"
      ]
     },
     "execution_count": 17,
     "metadata": {},
     "output_type": "execute_result"
    }
   ],
   "source": [
    "( c.psi( 'Hafen2019', 'all' ) < 0.6 ).sum()"
   ]
  },
  {
   "cell_type": "code",
   "execution_count": 18,
   "metadata": {},
   "outputs": [
    {
     "name": "stdout",
     "output_type": "stream",
     "text": [
      "Importing 150 new publications linked to random publication 2013ApJ...763...51F...\n"
     ]
    },
    {
     "name": "stderr",
     "output_type": "stream",
     "text": [
      "100%|██████████| 298/298 [00:00<00:00, 68144.29it/s]\n",
      "  0%|          | 0/344 [00:00<?, ?it/s]"
     ]
    },
    {
     "name": "stdout",
     "output_type": "stream",
     "text": [
      "Processing abstracts...\n"
     ]
    },
    {
     "name": "stderr",
     "output_type": "stream",
     "text": [
      " 73%|███████▎  | 252/344 [00:24<00:40,  2.30it/s] /Users/zhafen/repos/cc/cc/publication.py:245: UserWarning: Unable to find arxiv ID or DOI for publication 2016PhDT.......154B.\n",
      "\n",
      "                        Not processing abstract.\n",
      "  warnings.warn( failure_msg )\n",
      " 76%|███████▋  | 263/344 [00:29<00:36,  2.21it/s]/Users/zhafen/repos/cc/cc/publication.py:245: UserWarning: Unable to find arxiv ID or DOI for publication 2015Msngr.162...42P.\n",
      "\n",
      "                        Not processing abstract.\n",
      "  warnings.warn( failure_msg )\n",
      " 97%|█████████▋| 334/344 [01:04<00:04,  2.06it/s]/Users/zhafen/repos/cc/cc/publication.py:245: UserWarning: Unable to find arxiv ID or DOI for publication 1998A&A...336..150M.\n",
      "\n",
      "                        Not processing abstract.\n",
      "  warnings.warn( failure_msg )\n",
      " 99%|█████████▊| 339/344 [01:06<00:02,  2.29it/s]/Users/zhafen/repos/cc/cc/publication.py:245: UserWarning: Unable to find arxiv ID or DOI for publication 1988CF.....16..257E.\n",
      "\n",
      "                        Not processing abstract.\n",
      "  warnings.warn( failure_msg )\n",
      "100%|██████████| 344/344 [01:08<00:00,  5.05it/s]\n",
      " 12%|█▏        | 41/344 [00:00<00:00, 407.68it/s]"
     ]
    },
    {
     "name": "stdout",
     "output_type": "stream",
     "text": [
      "Re-projecting publications...\n"
     ]
    },
    {
     "name": "stderr",
     "output_type": "stream",
     "text": [
      "100%|██████████| 344/344 [00:01<00:00, 174.54it/s]\n"
     ]
    }
   ],
   "source": [
    "a = c.survey( 'Hafen2019', a, 0.6, './example_atlas/survey.bib' )"
   ]
  },
  {
   "cell_type": "code",
   "execution_count": 19,
   "metadata": {},
   "outputs": [
    {
     "data": {
      "text/plain": [
       "265"
      ]
     },
     "execution_count": 19,
     "metadata": {},
     "output_type": "execute_result"
    }
   ],
   "source": [
    "( c.psi( 'Hafen2019', 'all' ) < 0.6 ).sum()"
   ]
  },
  {
   "cell_type": "code",
   "execution_count": 20,
   "metadata": {},
   "outputs": [
    {
     "name": "stdout",
     "output_type": "stream",
     "text": [
      "Importing 150 new publications linked to random publication 1981MNRAS.194..809L...\n"
     ]
    },
    {
     "name": "stderr",
     "output_type": "stream",
     "text": [
      "100%|██████████| 448/448 [00:00<00:00, 105039.31it/s]\n",
      "  0%|          | 0/492 [00:00<?, ?it/s]"
     ]
    },
    {
     "name": "stdout",
     "output_type": "stream",
     "text": [
      "Processing abstracts...\n"
     ]
    },
    {
     "name": "stderr",
     "output_type": "stream",
     "text": [
      " 70%|███████   | 345/492 [00:00<00:00, 746.96it/s]/Users/zhafen/repos/cc/cc/publication.py:245: UserWarning: Unable to find arxiv ID or DOI for publication 2019MmSAI..90..386C.\n",
      "\n",
      "                        Not processing abstract.\n",
      "  warnings.warn( failure_msg )\n",
      "/Users/zhafen/repos/cc/cc/publication.py:245: UserWarning: Unable to find arxiv ID or DOI for publication 2017AcASn..58...11L.\n",
      "\n",
      "                        Not processing abstract.\n",
      "  warnings.warn( failure_msg )\n",
      " 80%|████████  | 396/492 [00:25<00:31,  3.03it/s] /Users/zhafen/repos/cc/cc/publication.py:245: UserWarning: Unable to find arxiv ID or DOI for publication 2010AcASn..51..357Y.\n",
      "\n",
      "                        Not processing abstract.\n",
      "  warnings.warn( failure_msg )\n",
      " 85%|████████▍ | 417/492 [00:33<00:30,  2.48it/s]/Users/zhafen/repos/cc/cc/publication.py:245: UserWarning: Unable to find arxiv ID or DOI for publication 2005MmSAI..76..199J.\n",
      "\n",
      "                        Not processing abstract.\n",
      "  warnings.warn( failure_msg )\n",
      " 86%|████████▋ | 425/492 [00:36<00:28,  2.36it/s]/Users/zhafen/repos/cc/cc/publication.py:245: UserWarning: Unable to find arxiv ID or DOI for publication 2003PhDT.......219K.\n",
      "\n",
      "                        Not processing abstract.\n",
      "  warnings.warn( failure_msg )\n",
      " 89%|████████▉ | 437/492 [00:41<00:24,  2.27it/s]/Users/zhafen/repos/cc/cc/publication.py:245: UserWarning: Unable to find arxiv ID or DOI for publication 2000ESASP.445..479P.\n",
      "\n",
      "                        Not processing abstract.\n",
      "  warnings.warn( failure_msg )\n",
      " 89%|████████▉ | 440/492 [00:42<00:20,  2.50it/s]/Users/zhafen/repos/cc/cc/publication.py:245: UserWarning: Unable to find arxiv ID or DOI for publication 1999sf99.proc..195S.\n",
      "\n",
      "                        Not processing abstract.\n",
      "  warnings.warn( failure_msg )\n",
      " 91%|█████████▏| 450/492 [00:46<00:18,  2.28it/s]/Users/zhafen/repos/cc/cc/publication.py:245: UserWarning: Unable to find arxiv ID or DOI for publication 1997PhDT........21H.\n",
      "\n",
      "                        Not processing abstract.\n",
      "  warnings.warn( failure_msg )\n",
      " 93%|█████████▎| 456/492 [00:49<00:15,  2.27it/s]/Users/zhafen/repos/cc/cc/publication.py:245: UserWarning: Unable to find arxiv ID or DOI for publication 1995A&A...300..659R.\n",
      "\n",
      "                        Not processing abstract.\n",
      "  warnings.warn( failure_msg )\n",
      "/Users/zhafen/repos/cc/cc/publication.py:245: UserWarning: Unable to find arxiv ID or DOI for publication 1995A&A...293..315B.\n",
      "\n",
      "                        Not processing abstract.\n",
      "  warnings.warn( failure_msg )\n",
      " 94%|█████████▍| 462/492 [00:50<00:13,  2.26it/s]/Users/zhafen/repos/cc/cc/publication.py:245: UserWarning: Unable to find arxiv ID or DOI for publication 1992IAUS..150..217W.\n",
      "\n",
      "                        Not processing abstract.\n",
      "  warnings.warn( failure_msg )\n",
      " 94%|█████████▍| 464/492 [00:51<00:10,  2.68it/s]/Users/zhafen/repos/cc/cc/publication.py:245: UserWarning: Unable to find arxiv ID or DOI for publication 1991ASPC...20...45E.\n",
      "\n",
      "                        Not processing abstract.\n",
      "  warnings.warn( failure_msg )\n",
      " 96%|█████████▌| 470/492 [00:53<00:08,  2.61it/s]/Users/zhafen/repos/cc/cc/publication.py:245: UserWarning: Unable to find arxiv ID or DOI for publication 1989A&A...225..517K.\n",
      "\n",
      "                        Not processing abstract.\n",
      "  warnings.warn( failure_msg )\n",
      " 96%|█████████▌| 472/492 [00:53<00:06,  3.03it/s]/Users/zhafen/repos/cc/cc/publication.py:245: UserWarning: Unable to find arxiv ID or DOI for publication 1988A&A...198...43C.\n",
      "\n",
      "                        Not processing abstract.\n",
      "  warnings.warn( failure_msg )\n",
      " 97%|█████████▋| 477/492 [00:55<00:06,  2.43it/s]/Users/zhafen/repos/cc/cc/publication.py:245: UserWarning: Unable to find arxiv ID or DOI for publication 1986A&A...157..139P.\n",
      "\n",
      "                        Not processing abstract.\n",
      "  warnings.warn( failure_msg )\n",
      " 98%|█████████▊| 480/492 [00:56<00:04,  2.63it/s]/Users/zhafen/repos/cc/cc/publication.py:245: UserWarning: Unable to find arxiv ID or DOI for publication 1985A&A...146..223C.\n",
      "\n",
      "                        Not processing abstract.\n",
      "  warnings.warn( failure_msg )\n",
      "/Users/zhafen/repos/cc/cc/publication.py:245: UserWarning: Unable to find arxiv ID or DOI for publication 1985A&A...146...86B.\n",
      "\n",
      "                        Not processing abstract.\n",
      "  warnings.warn( failure_msg )\n",
      " 98%|█████████▊| 483/492 [00:56<00:02,  3.24it/s]/Users/zhafen/repos/cc/cc/publication.py:245: UserWarning: Unable to find arxiv ID or DOI for publication 1984A&A...137..133S.\n",
      "\n",
      "                        Not processing abstract.\n",
      "  warnings.warn( failure_msg )\n",
      "100%|██████████| 492/492 [01:00<00:00,  8.14it/s]\n",
      "  9%|▉         | 45/492 [00:00<00:01, 443.97it/s]"
     ]
    },
    {
     "name": "stdout",
     "output_type": "stream",
     "text": [
      "Re-projecting publications...\n"
     ]
    },
    {
     "name": "stderr",
     "output_type": "stream",
     "text": [
      "100%|██████████| 492/492 [00:02<00:00, 166.37it/s]\n"
     ]
    }
   ],
   "source": [
    "a = c.survey( 'Hafen2019', a, 0.6, './example_atlas/survey.bib' )"
   ]
  },
  {
   "cell_type": "code",
   "execution_count": 21,
   "metadata": {},
   "outputs": [
    {
     "data": {
      "text/plain": [
       "356"
      ]
     },
     "execution_count": 21,
     "metadata": {},
     "output_type": "execute_result"
    }
   ],
   "source": [
    "( c.psi( 'Hafen2019', 'all' ) < 0.6 ).sum()"
   ]
  },
  {
   "cell_type": "code",
   "execution_count": 22,
   "metadata": {},
   "outputs": [
    {
     "name": "stdout",
     "output_type": "stream",
     "text": [
      "Importing 150 new publications linked to random publication 2020arXiv200206211H...\n"
     ]
    },
    {
     "name": "stderr",
     "output_type": "stream",
     "text": [
      "100%|██████████| 597/597 [00:00<00:00, 112216.52it/s]\n",
      "  0%|          | 0/626 [00:00<?, ?it/s]"
     ]
    },
    {
     "name": "stdout",
     "output_type": "stream",
     "text": [
      "Processing abstracts...\n"
     ]
    },
    {
     "name": "stderr",
     "output_type": "stream",
     "text": [
      " 95%|█████████▌| 595/626 [00:49<00:14,  2.14it/s]  /Users/zhafen/repos/cc/cc/publication.py:245: UserWarning: Unable to find arxiv ID or DOI for publication 2005ppfa.book.....K.\n",
      "\n",
      "                        Not processing abstract.\n",
      "  warnings.warn( failure_msg )\n",
      " 98%|█████████▊| 612/626 [00:58<00:07,  1.90it/s]/Users/zhafen/repos/cc/cc/publication.py:245: UserWarning: Unable to find arxiv ID or DOI for publication 1982A&A...116..191M.\n",
      "\n",
      "                        Not processing abstract.\n",
      "  warnings.warn( failure_msg )\n",
      " 98%|█████████▊| 614/626 [00:58<00:05,  2.29it/s]/Users/zhafen/repos/cc/cc/publication.py:245: UserWarning: Unable to find arxiv ID or DOI for publication 1981ICRC....9..246V.\n",
      "\n",
      "                        Not processing abstract.\n",
      "  warnings.warn( failure_msg )\n",
      "100%|█████████▉| 624/626 [01:02<00:00,  2.12it/s]/Users/zhafen/repos/cc/cc/publication.py:245: UserWarning: Unable to find arxiv ID or DOI for publication 1963AZh....40..742I.\n",
      "\n",
      "                        Not processing abstract.\n",
      "  warnings.warn( failure_msg )\n",
      "/Users/zhafen/repos/cc/cc/publication.py:245: UserWarning: Unable to find arxiv ID or DOI for publication 1941DoSSR..30..301K.\n",
      "\n",
      "                        Not processing abstract.\n",
      "  warnings.warn( failure_msg )\n",
      "100%|██████████| 626/626 [01:02<00:00,  9.94it/s]\n",
      "  6%|▋         | 40/626 [00:00<00:01, 397.93it/s]"
     ]
    },
    {
     "name": "stdout",
     "output_type": "stream",
     "text": [
      "Re-projecting publications...\n"
     ]
    },
    {
     "name": "stderr",
     "output_type": "stream",
     "text": [
      "100%|██████████| 626/626 [00:04<00:00, 142.60it/s]\n"
     ]
    }
   ],
   "source": [
    "a = c.survey( 'Hafen2019', a, 0.6, './example_atlas/survey.bib' )"
   ]
  },
  {
   "cell_type": "code",
   "execution_count": 23,
   "metadata": {},
   "outputs": [
    {
     "data": {
      "text/plain": [
       "451"
      ]
     },
     "execution_count": 23,
     "metadata": {},
     "output_type": "execute_result"
    }
   ],
   "source": [
    "( c.psi( 'Hafen2019', 'all' ) < 0.6 ).sum()"
   ]
  },
  {
   "cell_type": "code",
   "execution_count": 22,
   "metadata": {},
   "outputs": [
    {
     "name": "stdout",
     "output_type": "stream",
     "text": [
      "Importing 150 new publications linked to random publication 2020arXiv200206211H...\n"
     ]
    },
    {
     "name": "stderr",
     "output_type": "stream",
     "text": [
      "100%|██████████| 597/597 [00:00<00:00, 112216.52it/s]\n",
      "  0%|          | 0/626 [00:00<?, ?it/s]"
     ]
    },
    {
     "name": "stdout",
     "output_type": "stream",
     "text": [
      "Processing abstracts...\n"
     ]
    },
    {
     "name": "stderr",
     "output_type": "stream",
     "text": [
      " 95%|█████████▌| 595/626 [00:49<00:14,  2.14it/s]  /Users/zhafen/repos/cc/cc/publication.py:245: UserWarning: Unable to find arxiv ID or DOI for publication 2005ppfa.book.....K.\n",
      "\n",
      "                        Not processing abstract.\n",
      "  warnings.warn( failure_msg )\n",
      " 98%|█████████▊| 612/626 [00:58<00:07,  1.90it/s]/Users/zhafen/repos/cc/cc/publication.py:245: UserWarning: Unable to find arxiv ID or DOI for publication 1982A&A...116..191M.\n",
      "\n",
      "                        Not processing abstract.\n",
      "  warnings.warn( failure_msg )\n",
      " 98%|█████████▊| 614/626 [00:58<00:05,  2.29it/s]/Users/zhafen/repos/cc/cc/publication.py:245: UserWarning: Unable to find arxiv ID or DOI for publication 1981ICRC....9..246V.\n",
      "\n",
      "                        Not processing abstract.\n",
      "  warnings.warn( failure_msg )\n",
      "100%|█████████▉| 624/626 [01:02<00:00,  2.12it/s]/Users/zhafen/repos/cc/cc/publication.py:245: UserWarning: Unable to find arxiv ID or DOI for publication 1963AZh....40..742I.\n",
      "\n",
      "                        Not processing abstract.\n",
      "  warnings.warn( failure_msg )\n",
      "/Users/zhafen/repos/cc/cc/publication.py:245: UserWarning: Unable to find arxiv ID or DOI for publication 1941DoSSR..30..301K.\n",
      "\n",
      "                        Not processing abstract.\n",
      "  warnings.warn( failure_msg )\n",
      "100%|██████████| 626/626 [01:02<00:00,  9.94it/s]\n",
      "  6%|▋         | 40/626 [00:00<00:01, 397.93it/s]"
     ]
    },
    {
     "name": "stdout",
     "output_type": "stream",
     "text": [
      "Re-projecting publications...\n"
     ]
    },
    {
     "name": "stderr",
     "output_type": "stream",
     "text": [
      "100%|██████████| 626/626 [00:04<00:00, 142.60it/s]\n"
     ]
    }
   ],
   "source": [
    "a = c.survey( 'Hafen2019', a, 0.6, './example_atlas/survey.bib' )"
   ]
  },
  {
   "cell_type": "code",
   "execution_count": 23,
   "metadata": {},
   "outputs": [
    {
     "data": {
      "text/plain": [
       "451"
      ]
     },
     "execution_count": 23,
     "metadata": {},
     "output_type": "execute_result"
    }
   ],
   "source": [
    "( c.psi( 'Hafen2019', 'all' ) < 0.6 ).sum()"
   ]
  },
  {
   "cell_type": "code",
   "execution_count": 24,
   "metadata": {},
   "outputs": [
    {
     "ename": "AssertionError",
     "evalue": "",
     "output_type": "error",
     "traceback": [
      "\u001b[0;31m---------------------------------------------------------------------------\u001b[0m",
      "\u001b[0;31mAssertionError\u001b[0m                            Traceback (most recent call last)",
      "\u001b[0;32m<ipython-input-24-a871fdc9ebee>\u001b[0m in \u001b[0;36m<module>\u001b[0;34m\u001b[0m\n\u001b[0;32m----> 1\u001b[0;31m \u001b[0;32massert\u001b[0m \u001b[0;32mFalse\u001b[0m\u001b[0;34m\u001b[0m\u001b[0;34m\u001b[0m\u001b[0m\n\u001b[0m",
      "\u001b[0;31mAssertionError\u001b[0m: "
     ]
    }
   ],
   "source": [
    "assert False"
   ]
  },
  {
   "cell_type": "markdown",
   "metadata": {},
   "source": [
    "#### Extensive Iterative Search Focused on One Citation"
   ]
  },
  {
   "cell_type": "code",
   "execution_count": null,
   "metadata": {},
   "outputs": [],
   "source": [
    "c.explore( 'Hafen2019', a, )"
   ]
  },
  {
   "cell_type": "markdown",
   "metadata": {},
   "source": [
    "## Process Data"
   ]
  },
  {
   "cell_type": "markdown",
   "metadata": {},
   "source": [
    "#### Project into concept space for fast subsequent calculations"
   ]
  },
  {
   "cell_type": "code",
   "execution_count": null,
   "metadata": {},
   "outputs": [],
   "source": [
    "cp = a.concept_projection(overwrite=True)"
   ]
  },
  {
   "cell_type": "markdown",
   "metadata": {},
   "source": [
    "* Allow updating of the matrix when the set of concept basis vectors are increased"
   ]
  },
  {
   "cell_type": "markdown",
   "metadata": {},
   "source": [
    "## Visualize"
   ]
  },
  {
   "cell_type": "code",
   "execution_count": null,
   "metadata": {},
   "outputs": [],
   "source": [
    "%matplotlib inline\n",
    "\n",
    "cospsi_a, cospsi_h19 = a.plot_cospsi2d(\n",
    "    'VandeVoort2016',\n",
    "    'Hafen2019',\n",
    ")"
   ]
  },
  {
   "cell_type": "code",
   "execution_count": null,
   "metadata": {},
   "outputs": [],
   "source": []
  },
  {
   "cell_type": "markdown",
   "metadata": {},
   "source": [
    "Plot that shows cosPsi for both referenced and cited works."
   ]
  },
  {
   "cell_type": "markdown",
   "metadata": {},
   "source": [
    "$\\cos \\Psi$ for\n",
    "* central works\n",
    "* a couple of concept vectors\n",
    "* the vector that describes your upcoming publication\n",
    "* a vector that predicts high citability "
   ]
  },
  {
   "cell_type": "markdown",
   "metadata": {},
   "source": [
    "## Select"
   ]
  },
  {
   "cell_type": "markdown",
   "metadata": {},
   "source": [
    "## Read"
   ]
  },
  {
   "cell_type": "markdown",
   "metadata": {},
   "source": [
    "### Download Full Text from ArXiv"
   ]
  },
  {
   "cell_type": "markdown",
   "metadata": {},
   "source": [
    "### Open PDF/Mendeley Externally\n",
    "While this might seem excessive, QoL differences like this are important."
   ]
  },
  {
   "cell_type": "markdown",
   "metadata": {},
   "source": [
    "### Open Figures in NB"
   ]
  },
  {
   "cell_type": "markdown",
   "metadata": {},
   "source": [
    "### Natural Language Processing of Text to Create a Summary PDF"
   ]
  }
 ],
 "metadata": {
  "kernelspec": {
   "display_name": "Python 3",
   "language": "python",
   "name": "python3"
  },
  "language_info": {
   "codemirror_mode": {
    "name": "ipython",
    "version": 3
   },
   "file_extension": ".py",
   "mimetype": "text/x-python",
   "name": "python",
   "nbconvert_exporter": "python",
   "pygments_lexer": "ipython3",
   "version": "3.8.3"
  }
 },
 "nbformat": 4,
 "nbformat_minor": 4
}
