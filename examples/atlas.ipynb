{
 "cells": [
  {
   "cell_type": "code",
   "execution_count": 1,
   "metadata": {},
   "outputs": [],
   "source": [
    "import numpy as np"
   ]
  },
  {
   "cell_type": "code",
   "execution_count": 2,
   "metadata": {},
   "outputs": [],
   "source": [
    "from adjustText import adjust_text"
   ]
  },
  {
   "cell_type": "code",
   "execution_count": 3,
   "metadata": {},
   "outputs": [],
   "source": [
    "import verdict"
   ]
  },
  {
   "cell_type": "code",
   "execution_count": 4,
   "metadata": {},
   "outputs": [],
   "source": [
    "import cc.atlas as atlas"
   ]
  },
  {
   "cell_type": "code",
   "execution_count": 5,
   "metadata": {},
   "outputs": [
    {
     "name": "stdout",
     "output_type": "stream",
     "text": [
      "Loading bibliography entries.\n"
     ]
    },
    {
     "name": "stderr",
     "output_type": "stream",
     "text": [
      "100%|██████████| 10/10 [00:00<00:00, 4253.43it/s]\n",
      "100%|██████████| 10/10 [00:00<00:00, 31347.56it/s]"
     ]
    },
    {
     "name": "stdout",
     "output_type": "stream",
     "text": [
      "Storing bibliography entries.\n",
      "Loading saved atlas data.\n"
     ]
    },
    {
     "name": "stderr",
     "output_type": "stream",
     "text": [
      "\n"
     ]
    }
   ],
   "source": [
    "a = atlas.Atlas( '../cc/tests/data/example_atlas', bibtex_fp='../cc/tests/data/example_atlas/example.bib' )"
   ]
  },
  {
   "cell_type": "markdown",
   "metadata": {},
   "source": [
    "#### Process the bibtex notes."
   ]
  },
  {
   "cell_type": "code",
   "execution_count": 6,
   "metadata": {},
   "outputs": [
    {
     "data": {
      "text/plain": [
       "Dict, {\n",
       "'VandeVoort2018a' : None,\n",
       "'Stern2018' : None,\n",
       "'Howk2017' : None,\n",
       "'Garrison-kimmel2017' : None,\n",
       "'Hopkins2017' : None,\n",
       "'Hafen2016' : None,\n",
       "'Muratov2016' : None,\n",
       "'VandeVoort2016' : None,\n",
       "'Hafen2019' : None,\n",
       "'Hafen2019a' : None,\n",
       "}"
      ]
     },
     "execution_count": 6,
     "metadata": {},
     "output_type": "execute_result"
    }
   ],
   "source": [
    "a.data.process_bibtex_annotations( word_per_concept=True )\n",
    "a.data.identify_unique_key_concepts()"
   ]
  },
  {
   "cell_type": "code",
   "execution_count": 7,
   "metadata": {},
   "outputs": [],
   "source": [
    "a.data['Hafen2019'].process_abstract()"
   ]
  },
  {
   "cell_type": "code",
   "execution_count": 8,
   "metadata": {},
   "outputs": [
    {
     "name": "stdout",
     "output_type": "stream",
     "text": [
      "VandeVoort2018a\n",
      "Stern2018\n",
      "Howk2017\n",
      "Garrison-kimmel2017\n",
      "Hopkins2017\n",
      "Hafen2016\n",
      "Muratov2016\n",
      "VandeVoort2016\n",
      "Hafen2019\n",
      "Hafen2019a\n"
     ]
    }
   ],
   "source": [
    "# Retrieve Atlas Data\n",
    "for key, item in a.data.items():\n",
    "    print( key )\n",
    "    item.process_abstract()"
   ]
  },
  {
   "cell_type": "markdown",
   "metadata": {},
   "source": [
    "import cProfile\n",
    "profile = cProfile.run(\n",
    "    '[ a.save_data() for _ in range( 100 ) ]',\n",
    "    sort = 'cumtime'\n",
    ")"
   ]
  },
  {
   "cell_type": "markdown",
   "metadata": {},
   "source": [
    "import cProfile\n",
    "profile = cProfile.run(\n",
    "    \"[ a.save_data( handle_jagged_arrs='filled array') for _ in range( 100 ) ]\",\n",
    "    sort = 'cumtime'\n",
    ")"
   ]
  },
  {
   "cell_type": "code",
   "execution_count": 9,
   "metadata": {},
   "outputs": [
    {
     "name": "stderr",
     "output_type": "stream",
     "text": [
      "100%|██████████| 10/10 [00:00<00:00, 29746.84it/s]"
     ]
    },
    {
     "name": "stdout",
     "output_type": "stream",
     "text": [
      "Preparing to save data.\n",
      "Saving to ../cc/tests/data/example_atlas/atlas_data.h5\n"
     ]
    },
    {
     "name": "stderr",
     "output_type": "stream",
     "text": [
      "\n"
     ]
    }
   ],
   "source": [
    "saved_data = a.save_data()"
   ]
  },
  {
   "cell_type": "markdown",
   "metadata": {},
   "source": [
    "# Plot"
   ]
  },
  {
   "cell_type": "code",
   "execution_count": 10,
   "metadata": {},
   "outputs": [
    {
     "data": {
      "text/plain": [
       "[<matplotlib.lines.Line2D at 0x10fb80fd0>]"
      ]
     },
     "execution_count": 10,
     "metadata": {},
     "output_type": "execute_result"
    },
    {
     "data": {
      "image/png": "[encoded data removed]",
      "text/plain": [
       "<Figure size 576x576 with 1 Axes>"
      ]
     },
     "metadata": {},
     "output_type": "display_data"
    }
   ],
   "source": [
    "%matplotlib inline\n",
    "\n",
    "figure = plt.figure( figsize=(8,8), facecolor='w' )\n",
    "ax = plt.gca()\n",
    "\n",
    "cospsi_a, cospsi_a_abs = a.plot_cospsi2d(\n",
    "    a,\n",
    "    a,\n",
    "    y_kwargs = { 'method': 'abstract similarity'},\n",
    "    ax = ax,\n",
    ")\n",
    "\n",
    "ax.plot(\n",
    "    [ 0, 1 ],\n",
    "    [ 0, 1 ],\n",
    "    linestyle = '--',\n",
    "    linewidth = 2,\n",
    "    color = 'k',\n",
    ")"
   ]
  },
  {
   "cell_type": "code",
   "execution_count": 11,
   "metadata": {},
   "outputs": [
    {
     "data": {
      "image/png": "[encoded data removed]",
      "text/plain": [
       "<Figure size 576x576 with 1 Axes>"
      ]
     },
     "metadata": {},
     "output_type": "display_data"
    }
   ],
   "source": [
    "%matplotlib inline\n",
    "\n",
    "cospsi_a, cospsi_h19 = a.plot_cospsi2d(\n",
    "    a,\n",
    "    a.data['Hafen2019'],\n",
    ")"
   ]
  },
  {
   "cell_type": "code",
   "execution_count": 12,
   "metadata": {},
   "outputs": [
    {
     "data": {
      "text/plain": [
       "[<matplotlib.lines.Line2D at 0x11c07be80>]"
      ]
     },
     "execution_count": 12,
     "metadata": {},
     "output_type": "execute_result"
    },
    {
     "data": {
      "image/png": "[encoded data removed]",
      "text/plain": [
       "<Figure size 576x576 with 1 Axes>"
      ]
     },
     "metadata": {},
     "output_type": "display_data"
    }
   ],
   "source": [
    "figure = plt.figure( figsize=(8,8), facecolor='w' )\n",
    "ax = plt.gca()\n",
    "\n",
    "cospsi_a, cospsi_h19 = a.plot_cospsi2d(\n",
    "    a.data['Hafen2019'],\n",
    "    a.data['Hafen2019'],\n",
    "    y_kwargs = { 'method': 'abstract similarity'},\n",
    "    ax = ax,\n",
    ")\n",
    "\n",
    "ax.plot(\n",
    "    [ 0, 1 ],\n",
    "    [ 0, 1 ],\n",
    "    linestyle = '--',\n",
    "    linewidth = 2,\n",
    "    color = 'k',\n",
    ")"
   ]
  },
  {
   "cell_type": "markdown",
   "metadata": {},
   "source": [
    "# Reference-Based Exploration"
   ]
  },
  {
   "cell_type": "markdown",
   "metadata": {},
   "source": [
    "## Populate"
   ]
  },
  {
   "cell_type": "markdown",
   "metadata": {},
   "source": [
    "### Populate with Referenced Works\n",
    "Can be done iteratively."
   ]
  },
  {
   "cell_type": "markdown",
   "metadata": {},
   "source": [
    "* Identify works to download\n",
    "* Download\n",
    "* Create bib\n",
    "* Create atlas\n",
    "* Combine atlases"
   ]
  },
  {
   "cell_type": "markdown",
   "metadata": {},
   "source": [
    "### Populate with Citing Works\n",
    "Can be done iteratively."
   ]
  },
  {
   "cell_type": "markdown",
   "metadata": {},
   "source": [
    "## Visualize"
   ]
  },
  {
   "cell_type": "markdown",
   "metadata": {},
   "source": [
    "$\\cos \\Psi$ for\n",
    "* central works\n",
    "* a couple of concept vectors\n",
    "* the vector that describes your upcoming publication\n",
    "* a vector that predicts high citability "
   ]
  },
  {
   "cell_type": "markdown",
   "metadata": {},
   "source": [
    "## Select"
   ]
  },
  {
   "cell_type": "markdown",
   "metadata": {},
   "source": [
    "## Read"
   ]
  },
  {
   "cell_type": "markdown",
   "metadata": {},
   "source": [
    "### Download Full Text from ArXiv"
   ]
  },
  {
   "cell_type": "markdown",
   "metadata": {},
   "source": [
    "### Open PDF/Mendeley Externally\n",
    "While this might seem excessive, QoL differences like this are important."
   ]
  },
  {
   "cell_type": "markdown",
   "metadata": {},
   "source": [
    "### Open Figures in NB"
   ]
  },
  {
   "cell_type": "markdown",
   "metadata": {},
   "source": [
    "### Natural Language Processing of Text to Create a Summary PDF"
   ]
  },
  {
   "cell_type": "markdown",
   "metadata": {},
   "source": [
    "# Scratch"
   ]
  },
  {
   "cell_type": "code",
   "execution_count": 14,
   "metadata": {},
   "outputs": [],
   "source": [
    "import ads"
   ]
  },
  {
   "cell_type": "code",
   "execution_count": 19,
   "metadata": {},
   "outputs": [
    {
     "data": {
      "text/plain": [
       "'2020MNRAS.492.3465H'"
      ]
     },
     "execution_count": 19,
     "metadata": {},
     "output_type": "execute_result"
    }
   ],
   "source": [
    " a.data['Hafen2019'].references[-1]"
   ]
  },
  {
   "cell_type": "code",
   "execution_count": 32,
   "metadata": {},
   "outputs": [],
   "source": [
    "p = list( ads.SearchQuery( bibcode='2020MNRAS.492.3465H' ) )[0]"
   ]
  },
  {
   "cell_type": "code",
   "execution_count": 43,
   "metadata": {},
   "outputs": [
    {
     "name": "stderr",
     "output_type": "stream",
     "text": [
      "/Applications/anaconda/envs/py36/lib/python3.6/site-packages/ads/utils.py:31: UserWarning: You are lazy loading attributes via 'bibtex', and so are making multiple calls to the API. This will impact your overall rate limits.\n",
      "  UserWarning,\n",
      "/Applications/anaconda/envs/py36/lib/python3.6/site-packages/ads/search.py:295: UserWarning: bibtex should be queried with ads.ExportQuery(); You will hit API ratelimits very quickly otherwise.\n",
      "  \"hit API ratelimits very quickly otherwise.\", UserWarning)\n"
     ]
    },
    {
     "data": {
      "text/plain": [
       "'@ARTICLE{2020MNRAS.492.3465H,\\n       author = {{Hopkins}, Philip F. and {Chan}, T.~K. and {Garrison-Kimmel}, Shea and\\n         {Ji}, Suoqing and {Su}, Kung-Yi and {Hummels}, Cameron B. and\\n         {Kere{\\\\v{s}}}, Du{\\\\v{s}}an and {Quataert}, Eliot and\\n         {Faucher-Gigu{\\\\`e}re}, Claude-Andr{\\\\\\'e}},\\n        title = \"{But what about...: cosmic rays, magnetic fields, conduction, and viscosity in galaxy formation}\",\\n      journal = {\\\\mnras},\\n     keywords = {stars: formation, galaxies: active, galaxies: evolution, galaxies: formation, cosmology: theory, Astrophysics - Astrophysics of Galaxies, Astrophysics - Cosmology and Nongalactic Astrophysics, Astrophysics - High Energy Astrophysical Phenomena},\\n         year = 2020,\\n        month = mar,\\n       volume = {492},\\n       number = {3},\\n        pages = {3465-3498},\\n          doi = {10.1093/mnras/stz3321},\\narchivePrefix = {arXiv},\\n       eprint = {1905.04321},\\n primaryClass = {astro-ph.GA},\\n       adsurl = {https://ui.adsabs.harvard.edu/abs/2020MNRAS.492.3465H},\\n      adsnote = {Provided by the SAO/NASA Astrophysics Data System}\\n}\\n\\n'"
      ]
     },
     "execution_count": 43,
     "metadata": {},
     "output_type": "execute_result"
    }
   ],
   "source": [
    "p.bibtex"
   ]
  },
  {
   "cell_type": "code",
   "execution_count": 17,
   "metadata": {},
   "outputs": [
    {
     "ename": "AssertionError",
     "evalue": "q must not be empty",
     "output_type": "error",
     "traceback": [
      "\u001b[0;31m---------------------------------------------------------------------------\u001b[0m",
      "\u001b[0;31mAssertionError\u001b[0m                            Traceback (most recent call last)",
      "\u001b[0;32m<ipython-input-17-7bab7a27a735>\u001b[0m in \u001b[0;36m<module>\u001b[0;34m()\u001b[0m\n\u001b[0;32m----> 1\u001b[0;31m \u001b[0mads\u001b[0m\u001b[0;34m.\u001b[0m\u001b[0mSearchQuery\u001b[0m\u001b[0;34m(\u001b[0m \u001b[0;34m{\u001b[0m \u001b[0;34m'bibcode'\u001b[0m\u001b[0;34m:\u001b[0m \u001b[0ma\u001b[0m\u001b[0;34m.\u001b[0m\u001b[0mdata\u001b[0m\u001b[0;34m[\u001b[0m\u001b[0;34m'Hafen2019'\u001b[0m\u001b[0;34m]\u001b[0m\u001b[0;34m.\u001b[0m\u001b[0mreferences\u001b[0m\u001b[0;34m[\u001b[0m\u001b[0;36m0\u001b[0m\u001b[0;34m]\u001b[0m \u001b[0;34m}\u001b[0m\u001b[0;34m)\u001b[0m\u001b[0;34m\u001b[0m\u001b[0;34m\u001b[0m\u001b[0m\n\u001b[0m",
      "\u001b[0;32m/Applications/anaconda/envs/py36/lib/python3.6/site-packages/ads/search.py\u001b[0m in \u001b[0;36m__init__\u001b[0;34m(self, query_dict, q, fq, fl, sort, cursorMark, start, rows, max_pages, token, hl, **kwargs)\u001b[0m\n\u001b[1;32m    442\u001b[0m \u001b[0;34m\u001b[0m\u001b[0m\n\u001b[1;32m    443\u001b[0m         \u001b[0;32massert\u001b[0m \u001b[0mself\u001b[0m\u001b[0;34m.\u001b[0m\u001b[0m_query\u001b[0m\u001b[0;34m.\u001b[0m\u001b[0mget\u001b[0m\u001b[0;34m(\u001b[0m\u001b[0;34m'rows'\u001b[0m\u001b[0;34m)\u001b[0m \u001b[0;34m>\u001b[0m \u001b[0;36m0\u001b[0m\u001b[0;34m,\u001b[0m \u001b[0;34m\"rows must be greater than 0\"\u001b[0m\u001b[0;34m\u001b[0m\u001b[0;34m\u001b[0m\u001b[0m\n\u001b[0;32m--> 444\u001b[0;31m         \u001b[0;32massert\u001b[0m \u001b[0mself\u001b[0m\u001b[0;34m.\u001b[0m\u001b[0m_query\u001b[0m\u001b[0;34m.\u001b[0m\u001b[0mget\u001b[0m\u001b[0;34m(\u001b[0m\u001b[0;34m'q'\u001b[0m\u001b[0;34m)\u001b[0m\u001b[0;34m,\u001b[0m \u001b[0;34m\"q must not be empty\"\u001b[0m\u001b[0;34m\u001b[0m\u001b[0;34m\u001b[0m\u001b[0m\n\u001b[0m\u001b[1;32m    445\u001b[0m         \u001b[0;32massert\u001b[0m \u001b[0mself\u001b[0m\u001b[0;34m.\u001b[0m\u001b[0m_query\u001b[0m\u001b[0;34m.\u001b[0m\u001b[0mget\u001b[0m\u001b[0;34m(\u001b[0m\u001b[0;34m'cursorMark'\u001b[0m\u001b[0;34m)\u001b[0m \u001b[0;32mis\u001b[0m \u001b[0;32mNone\u001b[0m \u001b[0;32mor\u001b[0m\u001b[0;31m \u001b[0m\u001b[0;31m\\\u001b[0m\u001b[0;34m\u001b[0m\u001b[0;34m\u001b[0m\u001b[0m\n\u001b[1;32m    446\u001b[0m             \u001b[0mself\u001b[0m\u001b[0;34m.\u001b[0m\u001b[0m_query\u001b[0m\u001b[0;34m.\u001b[0m\u001b[0mget\u001b[0m\u001b[0;34m(\u001b[0m\u001b[0;34m'start'\u001b[0m\u001b[0;34m)\u001b[0m \u001b[0;32mis\u001b[0m \u001b[0;32mNone\u001b[0m\u001b[0;34m,\u001b[0m\u001b[0;31m \u001b[0m\u001b[0;31m\\\u001b[0m\u001b[0;34m\u001b[0m\u001b[0;34m\u001b[0m\u001b[0m\n",
      "\u001b[0;31mAssertionError\u001b[0m: q must not be empty"
     ]
    }
   ],
   "source": [
    "q = list( ads.SearchQuery( { 'bibcode': a.data['Hafen2019'].references[0] },) _"
   ]
  },
  {
   "cell_type": "code",
   "execution_count": 31,
   "metadata": {},
   "outputs": [],
   "source": [
    "p = a.data['Hafen2019']"
   ]
  },
  {
   "cell_type": "code",
   "execution_count": null,
   "metadata": {},
   "outputs": [],
   "source": [
    "p."
   ]
  },
  {
   "cell_type": "code",
   "execution_count": 13,
   "metadata": {},
   "outputs": [
    {
     "data": {
      "text/plain": [
       "array(['1963MWRv...91...99S', '1969ApJ...156L..63B',\n",
       "       '1972ApJ...176....1G', '1976ApJ...205..762S',\n",
       "       '1978MNRAS.183..341W', '1980ApJ...236..577B',\n",
       "       '1991ApJ...379...52W', '1993ApJ...412..455K',\n",
       "       '1993ApJ...415..174W', '1995ApJS..101..181W',\n",
       "       '1996ApJ...465..608T', '1998ApJ...495...80B',\n",
       "       '1999ApJS..123....3L', '2000ApJ...542..535G',\n",
       "       '2000ApJS..129..493H', '2001MNRAS.322..231K',\n",
       "       '2003MNRAS.339..289S', '2004MNRAS.351..399G',\n",
       "       '2005MNRAS.362...41G', '2005MNRAS.363....2K',\n",
       "       '2005MNRAS.364.1105S', '2006ApJ...637..648S',\n",
       "       '2006MNRAS.368....2D', '2006MNRAS.371..108C',\n",
       "       '2006NuPhA.777..424N', '2007ApJ...655L..17B',\n",
       "       '2008MNRAS.390..920O', '2009ApJ...696.1543P',\n",
       "       '2009ApJ...700L...1K', '2009ApJ...703.1416F',\n",
       "       '2009ApJS..182..608K', '2009ARA&A..47..481A',\n",
       "       '2009MNRAS.395..160K', '2009MNRAS.396.2332K',\n",
       "       '2009Natur.457..451D', '2010ApJ...709.1203T',\n",
       "       '2010ApJ...717..289S', '2010ApJ...717..323B',\n",
       "       '2010ApJ...724L.176C', '2010ApJ...725..633F',\n",
       "       '2010MNRAS.406.2325O', '2010MNRAS.407.1581S',\n",
       "       '2011ApJ...743...10B', '2011ApJ...743..207R',\n",
       "       '2011MNRAS.412L.118F', '2011MNRAS.414.2458V',\n",
       "       '2011MNRAS.415.2782V', '2011MNRAS.416.1354D',\n",
       "       '2011MNRAS.417.2982F', '2011Sci...334..948T',\n",
       "       '2011Sci...334.1245F', '2011SoPh..268..255C',\n",
       "       '2012ApJ...744...60G', '2012ApJ...749..181F',\n",
       "       '2012ApJ...750...67R', '2012ApJ...751...51J',\n",
       "       '2012ApJ...760L...7K', '2012ARA&A..50..491P',\n",
       "       '2012MNRAS.426..801B', '2013ApJ...765..137O',\n",
       "       '2013ApJ...769...74S', '2013ApJ...770..138L',\n",
       "       '2013ApJ...777...59T', '2013ApJ...778..187F',\n",
       "       '2013MNRAS.429.3353N', '2013MNRAS.430.1548H',\n",
       "       '2013MNRAS.432.2647H', '2014A&A...562A..21C',\n",
       "       '2014ApJ...782...84A', '2014ApJ...786...54P',\n",
       "       '2014ApJ...791..128S', '2014ApJ...792....8W',\n",
       "       '2014ApJ...794..130B', '2014ApJ...794..156R',\n",
       "       '2014MNRAS.437.1894O', '2014MNRAS.443.2092U',\n",
       "       '2014MNRAS.444.1260F', '2014MNRAS.445..581H',\n",
       "       '2014MNRAS.445.2061L', '2015ApJ...804...79L',\n",
       "       '2015ApJ...808...40W', '2015ApJ...815...22K',\n",
       "       '2015ARA&A..53...51S', '2015MNRAS.448...59N',\n",
       "       '2015MNRAS.449..987F', '2015MNRAS.449.3263J',\n",
       "       '2015MNRAS.450...53H', '2015MNRAS.454.2691M',\n",
       "       '2016ApJ...817...91B', '2016ApJ...820..131E',\n",
       "       '2016ApJ...827..148C', '2016ApJ...827L..23W',\n",
       "       '2016ApJ...830...87S', '2016ApJ...831...95W',\n",
       "       '2016ApJ...833..283L', '2016ARA&A..54..363D',\n",
       "       '2016MNRAS.455.4100F', '2016MNRAS.456.2140M',\n",
       "       '2016MNRAS.458.1164L', '2016MNRAS.458.4074Q',\n",
       "       '2016MNRAS.461L..32F', '2016MNRAS.462.1978F',\n",
       "       '2016MNRAS.462.2440T', '2016MNRAS.463..120S',\n",
       "       '2016MNRAS.463.4533V', '2017ApJ...835...52F',\n",
       "       '2017ApJ...835..267H', '2017ApJ...837..169P',\n",
       "       '2017ApJ...841...16D', '2017ApJ...843...47S',\n",
       "       '2017ApJ...846..141H', '2017ApJ...846L..24M',\n",
       "       '2017ApJ...850L..10J', '2017ApJS..230....6K',\n",
       "       '2017ARA&A..55..389T', '2017arXiv170109062H',\n",
       "       '2017ASSL..430.....F', '2017ASSL..430..271F',\n",
       "       '2017ASSL..430..301V', '2017MNRAS.464.2796G',\n",
       "       '2017MNRAS.464.4204C', '2017MNRAS.465.1682H',\n",
       "       '2017MNRAS.466...88S', '2017MNRAS.466.3387H',\n",
       "       '2017MNRAS.467.2421C', '2017MNRAS.468.4170M',\n",
       "       '2017MNRAS.469.2292H', '2017MNRAS.470.4698A',\n",
       "       '2017MNRAS.471..144S', '2017MNRAS.471.1709G',\n",
       "       '2017MNRAS.472L.109A', '2018ApJ...852...33M',\n",
       "       '2018ApJ...860...14B', '2018ApJ...862....3B',\n",
       "       '2018ApJ...863...49B', '2018ApJ...865...91S',\n",
       "       '2018ApJ...866...33L', '2018ApJ...867...73S',\n",
       "       '2018ApJ...867..142C', '2018ApJS..239...35D',\n",
       "       '2018arXiv180706209P', '2018ascl.soft10021G',\n",
       "       '2018JOSS....3..809G', '2018MNRAS.473.1930E',\n",
       "       '2018MNRAS.473.3717F', '2018MNRAS.474.2194E',\n",
       "       '2018MNRAS.476.4865R', '2018MNRAS.477..450N',\n",
       "       '2018MNRAS.477.1536E', '2018MNRAS.478..906C',\n",
       "       '2018MNRAS.479.2547C', '2018MNRAS.480..800H',\n",
       "       '2018MNRAS.480.2963O', '2018MNRAS.481..835O',\n",
       "       '2018MNRAS.481.4133G', '2018NatAs...2..901M',\n",
       "       '2018SPIE10702E..16C', '2019ApJ...880..139V',\n",
       "       '2019ApJ...887....5L', '2019MNRAS.483.1042Y',\n",
       "       '2019MNRAS.483.4040S', '2019MNRAS.484.2257Z',\n",
       "       '2019MNRAS.487.1380G', '2019MNRAS.488.3143B',\n",
       "       '2019MNRAS.488.3716C', '2020MNRAS.491.1190S',\n",
       "       '2020MNRAS.491.1471S', '2020MNRAS.492.3465H'], dtype=object)"
      ]
     },
     "execution_count": 13,
     "metadata": {},
     "output_type": "execute_result"
    }
   ],
   "source": [
    "a.data['Hafen2019'].references"
   ]
  }
 ],
 "metadata": {
  "kernelspec": {
   "display_name": "Python 3",
   "language": "python",
   "name": "python3"
  },
  "language_info": {
   "codemirror_mode": {
    "name": "ipython",
    "version": 3
   },
   "file_extension": ".py",
   "mimetype": "text/x-python",
   "name": "python",
   "nbconvert_exporter": "python",
   "pygments_lexer": "ipython3",
   "version": "3.6.7"
  }
 },
 "nbformat": 4,
 "nbformat_minor": 4
}
