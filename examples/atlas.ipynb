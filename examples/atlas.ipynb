{
 "cells": [
  {
   "cell_type": "code",
   "execution_count": 1,
   "metadata": {},
   "outputs": [],
   "source": [
    "import numpy as np\n",
    "import os"
   ]
  },
  {
   "cell_type": "code",
   "execution_count": 2,
   "metadata": {},
   "outputs": [],
   "source": [
    "import verdict"
   ]
  },
  {
   "cell_type": "code",
   "execution_count": 3,
   "metadata": {},
   "outputs": [],
   "source": [
    "import cc.atlas as atlas\n",
    "import cc.cartography as cartography"
   ]
  },
  {
   "cell_type": "markdown",
   "metadata": {},
   "source": [
    "# Load"
   ]
  },
  {
   "cell_type": "code",
   "execution_count": 4,
   "metadata": {},
   "outputs": [
    {
     "name": "stderr",
     "output_type": "stream",
     "text": [
      "100%|██████████| 10/10 [00:00<00:00, 10843.60it/s]"
     ]
    },
    {
     "name": "stdout",
     "output_type": "stream",
     "text": [
      "Loading bibliography entries.\n",
      "Storing bibliography entries.\n",
      "Loading saved atlas data.\n"
     ]
    },
    {
     "name": "stderr",
     "output_type": "stream",
     "text": [
      "\n",
      "100%|██████████| 10/10 [00:00<00:00, 56756.48it/s]\n"
     ]
    }
   ],
   "source": [
    "a = atlas.Atlas(\n",
    "    './example_atlas',\n",
    "    bibtex_fp='../cc/tests/data/example_atlas/example.bib',\n",
    ")"
   ]
  },
  {
   "cell_type": "markdown",
   "metadata": {},
   "source": [
    "#### Process the bibtex notes."
   ]
  },
  {
   "cell_type": "code",
   "execution_count": 5,
   "metadata": {},
   "outputs": [
    {
     "data": {
      "text/plain": [
       "Dict, {\n",
       "'VandeVoort2018a' : None,\n",
       "'Stern2018' : None,\n",
       "'Howk2017' : None,\n",
       "'Garrison-kimmel2017' : None,\n",
       "'Hopkins2017' : None,\n",
       "'Hafen2016' : None,\n",
       "'Muratov2016' : None,\n",
       "'VandeVoort2016' : None,\n",
       "'Hafen2019' : None,\n",
       "'Hafen2019a' : None,\n",
       "}"
      ]
     },
     "execution_count": 5,
     "metadata": {},
     "output_type": "execute_result"
    }
   ],
   "source": [
    "a.data.process_bibtex_annotations()"
   ]
  },
  {
   "cell_type": "code",
   "execution_count": 6,
   "metadata": {},
   "outputs": [
    {
     "name": "stderr",
     "output_type": "stream",
     "text": [
      "100%|██████████| 10/10 [00:00<00:00, 45051.60it/s]\n"
     ]
    }
   ],
   "source": [
    "a.process_abstracts()"
   ]
  },
  {
   "cell_type": "code",
   "execution_count": 7,
   "metadata": {},
   "outputs": [
    {
     "name": "stderr",
     "output_type": "stream",
     "text": [
      "100%|██████████| 10/10 [00:00<00:00, 17303.23it/s]\n"
     ]
    },
    {
     "name": "stdout",
     "output_type": "stream",
     "text": [
      "Preparing to save data.\n",
      "Saving to ./example_atlas/atlas_data.h5\n"
     ]
    }
   ],
   "source": [
    "saved_data = a.save_data()"
   ]
  },
  {
   "cell_type": "code",
   "execution_count": 8,
   "metadata": {},
   "outputs": [
    {
     "name": "stderr",
     "output_type": "stream",
     "text": [
      "100%|██████████| 10/10 [00:00<00:00, 736.55it/s]"
     ]
    },
    {
     "name": "stdout",
     "output_type": "stream",
     "text": [
      "Generating concept projection...\n"
     ]
    },
    {
     "name": "stderr",
     "output_type": "stream",
     "text": [
      "\n"
     ]
    }
   ],
   "source": [
    "cp = a.concept_projection( overwrite=True )"
   ]
  },
  {
   "cell_type": "code",
   "execution_count": 9,
   "metadata": {},
   "outputs": [],
   "source": [
    "fp = os.path.join( a.atlas_dir, 'projection.h5' )\n",
    "c = cartography.Cartographer.from_hdf5( fp )"
   ]
  },
  {
   "cell_type": "code",
   "execution_count": 10,
   "metadata": {},
   "outputs": [
    {
     "data": {
      "text/plain": [
       "array([2.93811637, 3.71037311, 1.83334631, 5.13690326, 3.12930658,\n",
       "              nan,        nan,        nan, 5.06342837, 5.85783426])"
      ]
     },
     "execution_count": 10,
     "metadata": {},
     "output_type": "execute_result"
    }
   ],
   "source": [
    "c.asymmetry_estimator()"
   ]
  },
  {
   "cell_type": "markdown",
   "metadata": {},
   "source": [
    "# Plot"
   ]
  },
  {
   "cell_type": "markdown",
   "metadata": {},
   "source": [
    "%matplotlib inline\n",
    "\n",
    "figure = plt.figure( figsize=(8,8), facecolor='w' )\n",
    "ax = plt.gca()\n",
    "\n",
    "cospsi_a, cospsi_a_abs = a.plot_cospsi2d_custom(\n",
    "    a,\n",
    "    a,\n",
    "    y_kwargs = { 'method': 'abstract similarity'},\n",
    "    ax = ax,\n",
    ")\n",
    "\n",
    "ax.plot(\n",
    "    [ 0, 1 ],\n",
    "    [ 0, 1 ],\n",
    "    linestyle = '--',\n",
    "    linewidth = 2,\n",
    "    color = 'k',\n",
    ")"
   ]
  },
  {
   "cell_type": "markdown",
   "metadata": {},
   "source": [
    "%matplotlib inline\n",
    "\n",
    "cospsi_a, cospsi_h19 = a.plot_cospsi2d_custom(\n",
    "    a,\n",
    "    a.data['Hafen2019'],\n",
    ")"
   ]
  },
  {
   "cell_type": "markdown",
   "metadata": {},
   "source": [
    "figure = plt.figure( figsize=(8,8), facecolor='w' )\n",
    "ax = plt.gca()\n",
    "\n",
    "cospsi_a, cospsi_h19 = a.plot_cospsi2d_custom(\n",
    "    a.data['Hafen2019'],\n",
    "    a.data['Hafen2019'],\n",
    "    y_kwargs = { 'method': 'abstract similarity'},\n",
    "    ax = ax,\n",
    ")\n",
    "\n",
    "ax.plot(\n",
    "    [ 0, 1 ],\n",
    "    [ 0, 1 ],\n",
    "    linestyle = '--',\n",
    "    linewidth = 2,\n",
    "    color = 'k',\n",
    ")"
   ]
  },
  {
   "cell_type": "markdown",
   "metadata": {},
   "source": [
    "# Reference-Based Exploration"
   ]
  },
  {
   "cell_type": "markdown",
   "metadata": {},
   "source": [
    "## Populate"
   ]
  },
  {
   "cell_type": "markdown",
   "metadata": {},
   "source": [
    "#### Populate with Citing Works\n",
    "Can be done iteratively."
   ]
  },
  {
   "cell_type": "code",
   "execution_count": 11,
   "metadata": {},
   "outputs": [
    {
     "name": "stdout",
     "output_type": "stream",
     "text": [
      "Loading bibliography entries.\n"
     ]
    },
    {
     "name": "stderr",
     "output_type": "stream",
     "text": [
      "100%|██████████| 90/90 [00:00<00:00, 37190.87it/s]\n",
      "100%|██████████| 45/45 [00:00<00:00, 230738.00it/s]"
     ]
    },
    {
     "name": "stdout",
     "output_type": "stream",
     "text": [
      "Storing bibliography entries.\n",
      "Loading saved atlas data.\n"
     ]
    },
    {
     "name": "stderr",
     "output_type": "stream",
     "text": [
      "\n"
     ]
    }
   ],
   "source": [
    "# Download a bibtex file for all works that cite Hafen2019 and create a new atlas\n",
    "a_H19_cit = atlas.Atlas.from_bibcodes( atlas_dir=a.atlas_dir, bibcodes=a['Hafen2019'].citations, bibtex_fp='H19_cit.bib' )"
   ]
  },
  {
   "cell_type": "markdown",
   "metadata": {},
   "source": [
    "#### Populate with Referenced Works\n",
    "Can also be done iteratively."
   ]
  },
  {
   "cell_type": "code",
   "execution_count": 12,
   "metadata": {},
   "outputs": [
    {
     "name": "stdout",
     "output_type": "stream",
     "text": [
      "Loading bibliography entries.\n"
     ]
    },
    {
     "name": "stderr",
     "output_type": "stream",
     "text": [
      "100%|██████████| 336/336 [00:00<00:00, 50571.86it/s]\n",
      "100%|██████████| 168/168 [00:00<00:00, 435233.52it/s]"
     ]
    },
    {
     "name": "stdout",
     "output_type": "stream",
     "text": [
      "Storing bibliography entries.\n",
      "Loading saved atlas data.\n"
     ]
    },
    {
     "name": "stderr",
     "output_type": "stream",
     "text": [
      "\n"
     ]
    }
   ],
   "source": [
    "# Download a bibtex file for all works that cite Hafen2019 and create a new atlas\n",
    "a_H19_ref = atlas.Atlas.from_bibcodes( atlas_dir=a.atlas_dir, bibcodes=a['Hafen2019'].references, bibtex_fp='H19_ref.bib'  )"
   ]
  },
  {
   "cell_type": "markdown",
   "metadata": {},
   "source": [
    "#### Alternatively, import to the existing atlas"
   ]
  },
  {
   "cell_type": "code",
   "execution_count": 13,
   "metadata": {},
   "outputs": [
    {
     "data": {
      "text/plain": [
       "10"
      ]
     },
     "execution_count": 13,
     "metadata": {},
     "output_type": "execute_result"
    }
   ],
   "source": [
    "len( list( a.data.keys() ) )"
   ]
  },
  {
   "cell_type": "code",
   "execution_count": 14,
   "metadata": {},
   "outputs": [
    {
     "name": "stdout",
     "output_type": "stream",
     "text": [
      "Loading bibliography entries.\n"
     ]
    },
    {
     "name": "stderr",
     "output_type": "stream",
     "text": [
      "100%|██████████| 180/180 [00:00<00:00, 45953.78it/s]"
     ]
    },
    {
     "name": "stdout",
     "output_type": "stream",
     "text": [
      "Storing bibliography entries.\n"
     ]
    },
    {
     "name": "stderr",
     "output_type": "stream",
     "text": [
      "\n"
     ]
    }
   ],
   "source": [
    "a.import_bibcodes( a['Hafen2019'].citations )"
   ]
  },
  {
   "cell_type": "code",
   "execution_count": 15,
   "metadata": {},
   "outputs": [
    {
     "data": {
      "text/plain": [
       "55"
      ]
     },
     "execution_count": 15,
     "metadata": {},
     "output_type": "execute_result"
    }
   ],
   "source": [
    "len( list( a.data.keys() ) )"
   ]
  },
  {
   "cell_type": "markdown",
   "metadata": {},
   "source": [
    "#### Extensive Iterative Search Focused on One Citation"
   ]
  },
  {
   "cell_type": "code",
   "execution_count": 17,
   "metadata": {},
   "outputs": [
    {
     "name": "stdout",
     "output_type": "stream",
     "text": [
      "Exploration loop 0\n",
      "    Current number of publications = 55\n",
      "    Identifying similar publications...\n",
      "    Importing 1204 new publications...\n",
      "Loading bibliography entries.\n"
     ]
    },
    {
     "name": "stderr",
     "output_type": "stream",
     "text": [
      "100%|██████████| 1141/1141 [00:00<00:00, 15550.66it/s]\n",
      "  0%|          | 0/962 [00:00<?, ?it/s]"
     ]
    },
    {
     "name": "stdout",
     "output_type": "stream",
     "text": [
      "Storing bibliography entries.\n",
      "Exploration loop 1\n",
      "    Current number of publications = 962\n",
      "    Retrieving and processing new abstracts...\n"
     ]
    },
    {
     "name": "stderr",
     "output_type": "stream",
     "text": [
      " 13%|█▎        | 126/962 [00:52<06:11,  2.25it/s]/Users/zhafen/repos/cc/cc/publication.py:245: UserWarning: Unable to find arxiv ID or DOI for publication 2020ASPC..522..225G.\n",
      "\n",
      "                        Not processing abstract.\n",
      "  warnings.warn( failure_msg )\n",
      " 31%|███▏      | 302/962 [02:15<04:59,  2.20it/s]/Users/zhafen/repos/cc/cc/publication.py:245: UserWarning: Unable to find arxiv ID or DOI for publication 2019MmSAI..90..413L.\n",
      "\n",
      "                        Not processing abstract.\n",
      "  warnings.warn( failure_msg )\n",
      " 34%|███▍      | 331/962 [02:28<04:38,  2.26it/s]/Users/zhafen/repos/cc/cc/publication.py:245: UserWarning: Unable to find arxiv ID or DOI for publication 2018ascl.soft10021G.\n",
      "\n",
      "                        Not processing abstract.\n",
      "  warnings.warn( failure_msg )\n",
      " 38%|███▊      | 369/962 [02:46<04:36,  2.15it/s]/Users/zhafen/repos/cc/cc/publication.py:245: UserWarning: Unable to find arxiv ID or DOI for publication 2018PhDT.......124M.\n",
      "\n",
      "                        Not processing abstract.\n",
      "  warnings.warn( failure_msg )\n",
      " 87%|████████▋ | 835/962 [06:33<01:04,  1.96it/s]/Users/zhafen/repos/cc/cc/publication.py:245: UserWarning: Unable to find arxiv ID or DOI for publication 2006ASPC..351..512M.\n",
      "\n",
      "                        Not processing abstract.\n",
      "  warnings.warn( failure_msg )\n",
      " 97%|█████████▋| 932/962 [07:25<00:13,  2.17it/s]/Users/zhafen/repos/cc/cc/publication.py:245: UserWarning: Unable to find arxiv ID or DOI for publication 1991rc3..book.....D.\n",
      "\n",
      "                        Not processing abstract.\n",
      "  warnings.warn( failure_msg )\n",
      " 98%|█████████▊| 939/962 [07:29<00:13,  1.76it/s]/Users/zhafen/repos/cc/cc/publication.py:245: UserWarning: Unable to find arxiv ID or DOI for publication 1988xrec.book.....S.\n",
      "\n",
      "                        Not processing abstract.\n",
      "  warnings.warn( failure_msg )\n",
      "/Users/zhafen/repos/cc/cc/publication.py:245: UserWarning: Unable to find arxiv ID or DOI for publication 1986rpa..book.....R.\n",
      "\n",
      "                        Not processing abstract.\n",
      "  warnings.warn( failure_msg )\n",
      " 99%|█████████▉| 956/962 [07:36<00:02,  2.08it/s]/Users/zhafen/repos/cc/cc/publication.py:245: UserWarning: Unable to find arxiv ID or DOI for publication 1970A&A.....5...84Z.\n",
      "\n",
      "                        Not processing abstract.\n",
      "  warnings.warn( failure_msg )\n",
      "100%|█████████▉| 958/962 [07:37<00:01,  2.51it/s]/Users/zhafen/repos/cc/cc/publication.py:245: UserWarning: Unable to find arxiv ID or DOI for publication 1968BAN....19..421H.\n",
      "\n",
      "                        Not processing abstract.\n",
      "  warnings.warn( failure_msg )\n",
      "/Users/zhafen/repos/cc/cc/publication.py:245: UserWarning: Unable to find arxiv ID or DOI for publication 1965RvPP....1..205B.\n",
      "\n",
      "                        Not processing abstract.\n",
      "  warnings.warn( failure_msg )\n",
      "100%|██████████| 962/962 [07:37<00:00,  2.10it/s]\n",
      "  4%|▍         | 38/962 [00:00<00:02, 373.91it/s]"
     ]
    },
    {
     "name": "stdout",
     "output_type": "stream",
     "text": [
      "    Re-projecting publications...\n"
     ]
    },
    {
     "name": "stderr",
     "output_type": "stream",
     "text": [
      "100%|██████████| 962/962 [00:09<00:00, 101.73it/s]\n",
      "/Users/zhafen/repos/cc/cc/cartography.py:163: RuntimeWarning: invalid value encountered in true_divide\n",
      "  return ip_ab / np.sqrt( ip_aa * ip_bb )\n"
     ]
    },
    {
     "name": "stdout",
     "output_type": "stream",
     "text": [
      "    Identifying similar publications...\n",
      "    Importing 2049 new publications...\n",
      "Loading bibliography entries.\n"
     ]
    },
    {
     "name": "stderr",
     "output_type": "stream",
     "text": [
      "100%|██████████| 3140/3140 [00:00<00:00, 31765.07it/s]"
     ]
    },
    {
     "name": "stdout",
     "output_type": "stream",
     "text": [
      "Storing bibliography entries.\n"
     ]
    },
    {
     "name": "stderr",
     "output_type": "stream",
     "text": [
      "\n",
      "  0%|          | 0/2822 [00:00<?, ?it/s]"
     ]
    },
    {
     "name": "stdout",
     "output_type": "stream",
     "text": [
      "Exploration loop 2\n",
      "    Current number of publications = 2822\n",
      "    Retrieving and processing new abstracts...\n"
     ]
    },
    {
     "name": "stderr",
     "output_type": "stream",
     "text": [
      " 39%|███▉      | 1101/2822 [08:45<12:44,  2.25it/s]/Users/zhafen/repos/cc/cc/publication.py:245: UserWarning: Unable to find arxiv ID or DOI for publication 2017sf2a.conf..385B.\n",
      "\n",
      "                        Not processing abstract.\n",
      "  warnings.warn( failure_msg )\n",
      " 45%|████▌     | 1280/2822 [10:12<11:48,  2.18it/s]/Users/zhafen/repos/cc/cc/publication.py:245: UserWarning: Unable to find arxiv ID or DOI for publication 2013PhDT........40I.\n",
      "\n",
      "                        Not processing abstract.\n",
      "  warnings.warn( failure_msg )\n",
      " 46%|████▌     | 1285/2822 [10:13<11:20,  2.26it/s]/Users/zhafen/repos/cc/cc/publication.py:245: UserWarning: Unable to find arxiv ID or DOI for publication 2012cosi.book.....H.\n",
      "\n",
      "                        Not processing abstract.\n",
      "  warnings.warn( failure_msg )\n",
      " 48%|████▊     | 1357/2822 [10:49<11:39,  2.09it/s]/Users/zhafen/repos/cc/cc/publication.py:245: UserWarning: Unable to find arxiv ID or DOI for publication 2010MmSAI..81..204P.\n",
      "\n",
      "                        Not processing abstract.\n",
      "  warnings.warn( failure_msg )\n",
      " 49%|████▊     | 1373/2822 [10:57<11:33,  2.09it/s]\n"
     ]
    },
    {
     "ename": "APIResponseError",
     "evalue": "'{\\n  \"error\": \"Too many requests\"\\n}\\n'",
     "output_type": "error",
     "traceback": [
      "\u001b[0;31m---------------------------------------------------------------------------\u001b[0m",
      "\u001b[0;31mAPIResponseError\u001b[0m                          Traceback (most recent call last)",
      "\u001b[0;32m<ipython-input-17-22033b18378c>\u001b[0m in \u001b[0;36m<module>\u001b[0;34m\u001b[0m\n\u001b[0;32m----> 1\u001b[0;31m \u001b[0mc\u001b[0m\u001b[0;34m.\u001b[0m\u001b[0mexplore\u001b[0m\u001b[0;34m(\u001b[0m \u001b[0;34m'Hafen2019'\u001b[0m\u001b[0;34m,\u001b[0m \u001b[0ma\u001b[0m\u001b[0;34m,\u001b[0m \u001b[0;34m)\u001b[0m\u001b[0;34m\u001b[0m\u001b[0;34m\u001b[0m\u001b[0m\n\u001b[0m",
      "\u001b[0;32m~/repos/cc/cc/cartography.py\u001b[0m in \u001b[0;36mexplore\u001b[0;34m(self, cite_key, a, n, max_searches, bibtex_fp)\u001b[0m\n\u001b[1;32m    182\u001b[0m                 \u001b[0;31m# Make sure we have needed data\u001b[0m\u001b[0;34m\u001b[0m\u001b[0;34m\u001b[0m\u001b[0;34m\u001b[0m\u001b[0m\n\u001b[1;32m    183\u001b[0m                 \u001b[0mprint\u001b[0m\u001b[0;34m(\u001b[0m \u001b[0;34m'    Retrieving and processing new abstracts...'\u001b[0m \u001b[0;34m)\u001b[0m\u001b[0;34m\u001b[0m\u001b[0;34m\u001b[0m\u001b[0m\n\u001b[0;32m--> 184\u001b[0;31m                 \u001b[0ma\u001b[0m\u001b[0;34m.\u001b[0m\u001b[0mprocess_abstracts\u001b[0m\u001b[0;34m(\u001b[0m\u001b[0;34m)\u001b[0m\u001b[0;34m\u001b[0m\u001b[0;34m\u001b[0m\u001b[0m\n\u001b[0m\u001b[1;32m    185\u001b[0m \u001b[0;34m\u001b[0m\u001b[0m\n\u001b[1;32m    186\u001b[0m                 \u001b[0;31m# Recalculate and update parameters\u001b[0m\u001b[0;34m\u001b[0m\u001b[0;34m\u001b[0m\u001b[0;34m\u001b[0m\u001b[0m\n",
      "\u001b[0;32m~/repos/cc/cc/atlas.py\u001b[0m in \u001b[0;36mprocess_abstracts\u001b[0;34m(self)\u001b[0m\n\u001b[1;32m    355\u001b[0m         \u001b[0mof\u001b[0m \u001b[0mall\u001b[0m \u001b[0mpublications\u001b[0m\u001b[0;34m.\u001b[0m\u001b[0;34m\u001b[0m\u001b[0;34m\u001b[0m\u001b[0m\n\u001b[1;32m    356\u001b[0m         '''\n\u001b[0;32m--> 357\u001b[0;31m \u001b[0;34m\u001b[0m\u001b[0m\n\u001b[0m\u001b[1;32m    358\u001b[0m         \u001b[0;32mfor\u001b[0m \u001b[0mkey\u001b[0m\u001b[0;34m,\u001b[0m \u001b[0mitem\u001b[0m \u001b[0;32min\u001b[0m \u001b[0mtqdm\u001b[0m\u001b[0;34m(\u001b[0m \u001b[0mself\u001b[0m\u001b[0;34m.\u001b[0m\u001b[0mdata\u001b[0m\u001b[0;34m.\u001b[0m\u001b[0mitems\u001b[0m\u001b[0;34m(\u001b[0m\u001b[0;34m)\u001b[0m \u001b[0;34m)\u001b[0m\u001b[0;34m:\u001b[0m\u001b[0;34m\u001b[0m\u001b[0;34m\u001b[0m\u001b[0m\n\u001b[1;32m    359\u001b[0m             \u001b[0mitem\u001b[0m\u001b[0;34m.\u001b[0m\u001b[0mprocess_abstract\u001b[0m\u001b[0;34m(\u001b[0m\u001b[0;34m)\u001b[0m\u001b[0;34m\u001b[0m\u001b[0;34m\u001b[0m\u001b[0m\n",
      "\u001b[0;32m~/repos/cc/cc/publication.py\u001b[0m in \u001b[0;36mprocess_abstract\u001b[0;34m(self, abstract_str, return_empty_upon_failure)\u001b[0m\n\u001b[1;32m    227\u001b[0m                     \u001b[0;32mif\u001b[0m \u001b[0mkey\u001b[0m \u001b[0;32min\u001b[0m \u001b[0mself\u001b[0m\u001b[0;34m.\u001b[0m\u001b[0mcitation\u001b[0m\u001b[0;34m:\u001b[0m\u001b[0;34m\u001b[0m\u001b[0;34m\u001b[0m\u001b[0m\n\u001b[1;32m    228\u001b[0m                         \u001b[0;32mtry\u001b[0m\u001b[0;34m:\u001b[0m\u001b[0;34m\u001b[0m\u001b[0;34m\u001b[0m\u001b[0m\n\u001b[0;32m--> 229\u001b[0;31m                             \u001b[0mself\u001b[0m\u001b[0;34m.\u001b[0m\u001b[0mget_ads_data\u001b[0m\u001b[0;34m(\u001b[0m \u001b[0marxiv\u001b[0m\u001b[0;34m=\u001b[0m\u001b[0mself\u001b[0m\u001b[0;34m.\u001b[0m\u001b[0mcitation\u001b[0m\u001b[0;34m[\u001b[0m\u001b[0mkey\u001b[0m\u001b[0;34m]\u001b[0m \u001b[0;34m)\u001b[0m\u001b[0;34m\u001b[0m\u001b[0;34m\u001b[0m\u001b[0m\n\u001b[0m\u001b[1;32m    230\u001b[0m                         \u001b[0;32mexcept\u001b[0m \u001b[0mValueError\u001b[0m\u001b[0;34m:\u001b[0m\u001b[0;34m\u001b[0m\u001b[0;34m\u001b[0m\u001b[0m\n\u001b[1;32m    231\u001b[0m                             \u001b[0;32mcontinue\u001b[0m\u001b[0;34m\u001b[0m\u001b[0;34m\u001b[0m\u001b[0m\n",
      "\u001b[0;32m~/repos/cc/cc/publication.py\u001b[0m in \u001b[0;36mget_ads_data\u001b[0;34m(self, fl, keep_query_open, **kwargs)\u001b[0m\n\u001b[1;32m     86\u001b[0m \u001b[0;34m\u001b[0m\u001b[0m\n\u001b[1;32m     87\u001b[0m         \u001b[0mads_query\u001b[0m \u001b[0;34m=\u001b[0m \u001b[0mads\u001b[0m\u001b[0;34m.\u001b[0m\u001b[0mSearchQuery\u001b[0m\u001b[0;34m(\u001b[0m \u001b[0mfl\u001b[0m\u001b[0;34m=\u001b[0m\u001b[0mfl\u001b[0m\u001b[0;34m,\u001b[0m \u001b[0;34m**\u001b[0m\u001b[0mkwargs\u001b[0m \u001b[0;34m)\u001b[0m\u001b[0;34m\u001b[0m\u001b[0;34m\u001b[0m\u001b[0m\n\u001b[0;32m---> 88\u001b[0;31m         \u001b[0mquery_list\u001b[0m \u001b[0;34m=\u001b[0m \u001b[0mlist\u001b[0m\u001b[0;34m(\u001b[0m \u001b[0mads_query\u001b[0m \u001b[0;34m)\u001b[0m\u001b[0;34m\u001b[0m\u001b[0;34m\u001b[0m\u001b[0m\n\u001b[0m\u001b[1;32m     89\u001b[0m \u001b[0;34m\u001b[0m\u001b[0m\n\u001b[1;32m     90\u001b[0m         \u001b[0;31m# Parse results of search\u001b[0m\u001b[0;34m\u001b[0m\u001b[0;34m\u001b[0m\u001b[0;34m\u001b[0m\u001b[0m\n",
      "\u001b[0;32m~/miniconda3/lib/python3.8/site-packages/ads/search.py\u001b[0m in \u001b[0;36m__next__\u001b[0;34m(self)\u001b[0m\n\u001b[1;32m    499\u001b[0m         \u001b[0;31m# explicitly\u001b[0m\u001b[0;34m\u001b[0m\u001b[0;34m\u001b[0m\u001b[0;34m\u001b[0m\u001b[0m\n\u001b[1;32m    500\u001b[0m         \u001b[0;32mif\u001b[0m \u001b[0mself\u001b[0m\u001b[0;34m.\u001b[0m\u001b[0mresponse\u001b[0m \u001b[0;32mis\u001b[0m \u001b[0;32mNone\u001b[0m\u001b[0;34m:\u001b[0m\u001b[0;34m\u001b[0m\u001b[0;34m\u001b[0m\u001b[0m\n\u001b[0;32m--> 501\u001b[0;31m             \u001b[0mself\u001b[0m\u001b[0;34m.\u001b[0m\u001b[0mexecute\u001b[0m\u001b[0;34m(\u001b[0m\u001b[0;34m)\u001b[0m\u001b[0;34m\u001b[0m\u001b[0;34m\u001b[0m\u001b[0m\n\u001b[0m\u001b[1;32m    502\u001b[0m \u001b[0;34m\u001b[0m\u001b[0m\n\u001b[1;32m    503\u001b[0m         \u001b[0;32mtry\u001b[0m\u001b[0;34m:\u001b[0m\u001b[0;34m\u001b[0m\u001b[0;34m\u001b[0m\u001b[0m\n",
      "\u001b[0;32m~/miniconda3/lib/python3.8/site-packages/ads/search.py\u001b[0m in \u001b[0;36mexecute\u001b[0;34m(self)\u001b[0m\n\u001b[1;32m    530\u001b[0m         \u001b[0mto\u001b[0m \u001b[0mprovide\u001b[0m \u001b[0mthe\u001b[0m \u001b[0mnext\u001b[0m \u001b[0mpage\u001b[0m \u001b[0mof\u001b[0m \u001b[0mresults\u001b[0m\u001b[0;34m\u001b[0m\u001b[0;34m\u001b[0m\u001b[0m\n\u001b[1;32m    531\u001b[0m         \"\"\"\n\u001b[0;32m--> 532\u001b[0;31m         self.response = SolrResponse.load_http_response(\n\u001b[0m\u001b[1;32m    533\u001b[0m             \u001b[0mself\u001b[0m\u001b[0;34m.\u001b[0m\u001b[0msession\u001b[0m\u001b[0;34m.\u001b[0m\u001b[0mget\u001b[0m\u001b[0;34m(\u001b[0m\u001b[0mself\u001b[0m\u001b[0;34m.\u001b[0m\u001b[0mHTTP_ENDPOINT\u001b[0m\u001b[0;34m,\u001b[0m \u001b[0mparams\u001b[0m\u001b[0;34m=\u001b[0m\u001b[0mself\u001b[0m\u001b[0;34m.\u001b[0m\u001b[0mquery\u001b[0m\u001b[0;34m)\u001b[0m\u001b[0;34m\u001b[0m\u001b[0;34m\u001b[0m\u001b[0m\n\u001b[1;32m    534\u001b[0m         )\n",
      "\u001b[0;32m~/miniconda3/lib/python3.8/site-packages/ads/base.py\u001b[0m in \u001b[0;36mload_http_response\u001b[0;34m(cls, http_response)\u001b[0m\n\u001b[1;32m     92\u001b[0m         \"\"\"\n\u001b[1;32m     93\u001b[0m         \u001b[0;32mif\u001b[0m \u001b[0;32mnot\u001b[0m \u001b[0mhttp_response\u001b[0m\u001b[0;34m.\u001b[0m\u001b[0mok\u001b[0m\u001b[0;34m:\u001b[0m\u001b[0;34m\u001b[0m\u001b[0;34m\u001b[0m\u001b[0m\n\u001b[0;32m---> 94\u001b[0;31m             \u001b[0;32mraise\u001b[0m \u001b[0mAPIResponseError\u001b[0m\u001b[0;34m(\u001b[0m\u001b[0mhttp_response\u001b[0m\u001b[0;34m.\u001b[0m\u001b[0mtext\u001b[0m\u001b[0;34m)\u001b[0m\u001b[0;34m\u001b[0m\u001b[0;34m\u001b[0m\u001b[0m\n\u001b[0m\u001b[1;32m     95\u001b[0m         \u001b[0mc\u001b[0m \u001b[0;34m=\u001b[0m \u001b[0mcls\u001b[0m\u001b[0;34m(\u001b[0m\u001b[0mhttp_response\u001b[0m\u001b[0;34m)\u001b[0m\u001b[0;34m\u001b[0m\u001b[0;34m\u001b[0m\u001b[0m\n\u001b[1;32m     96\u001b[0m         \u001b[0mc\u001b[0m\u001b[0;34m.\u001b[0m\u001b[0mresponse\u001b[0m \u001b[0;34m=\u001b[0m \u001b[0mhttp_response\u001b[0m\u001b[0;34m\u001b[0m\u001b[0;34m\u001b[0m\u001b[0m\n",
      "\u001b[0;31mAPIResponseError\u001b[0m: '{\\n  \"error\": \"Too many requests\"\\n}\\n'"
     ]
    }
   ],
   "source": [
    "c.explore( 'Hafen2019', a, )"
   ]
  },
  {
   "cell_type": "markdown",
   "metadata": {},
   "source": [
    "## Process Data"
   ]
  },
  {
   "cell_type": "markdown",
   "metadata": {},
   "source": [
    "#### Project into concept space for fast subsequent calculations"
   ]
  },
  {
   "cell_type": "code",
   "execution_count": null,
   "metadata": {},
   "outputs": [],
   "source": [
    "cp = a.concept_projection(overwrite=True)"
   ]
  },
  {
   "cell_type": "markdown",
   "metadata": {},
   "source": [
    "* Allow updating of the matrix when the set of concept basis vectors are increased"
   ]
  },
  {
   "cell_type": "markdown",
   "metadata": {},
   "source": [
    "## Visualize"
   ]
  },
  {
   "cell_type": "code",
   "execution_count": null,
   "metadata": {},
   "outputs": [],
   "source": [
    "%matplotlib inline\n",
    "\n",
    "cospsi_a, cospsi_h19 = a.plot_cospsi2d(\n",
    "    'VandeVoort2016',\n",
    "    'Hafen2019',\n",
    ")"
   ]
  },
  {
   "cell_type": "code",
   "execution_count": null,
   "metadata": {},
   "outputs": [],
   "source": []
  },
  {
   "cell_type": "markdown",
   "metadata": {},
   "source": [
    "Plot that shows cosPsi for both referenced and cited works."
   ]
  },
  {
   "cell_type": "markdown",
   "metadata": {},
   "source": [
    "$\\cos \\Psi$ for\n",
    "* central works\n",
    "* a couple of concept vectors\n",
    "* the vector that describes your upcoming publication\n",
    "* a vector that predicts high citability "
   ]
  },
  {
   "cell_type": "markdown",
   "metadata": {},
   "source": [
    "## Select"
   ]
  },
  {
   "cell_type": "markdown",
   "metadata": {},
   "source": [
    "## Read"
   ]
  },
  {
   "cell_type": "markdown",
   "metadata": {},
   "source": [
    "### Download Full Text from ArXiv"
   ]
  },
  {
   "cell_type": "markdown",
   "metadata": {},
   "source": [
    "### Open PDF/Mendeley Externally\n",
    "While this might seem excessive, QoL differences like this are important."
   ]
  },
  {
   "cell_type": "markdown",
   "metadata": {},
   "source": [
    "### Open Figures in NB"
   ]
  },
  {
   "cell_type": "markdown",
   "metadata": {},
   "source": [
    "### Natural Language Processing of Text to Create a Summary PDF"
   ]
  }
 ],
 "metadata": {
  "kernelspec": {
   "display_name": "Python 3",
   "language": "python",
   "name": "python3"
  },
  "language_info": {
   "codemirror_mode": {
    "name": "ipython",
    "version": 3
   },
   "file_extension": ".py",
   "mimetype": "text/x-python",
   "name": "python",
   "nbconvert_exporter": "python",
   "pygments_lexer": "ipython3",
   "version": "3.8.3"
  }
 },
 "nbformat": 4,
 "nbformat_minor": 4
}
