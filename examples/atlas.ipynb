{
 "cells": [
  {
   "cell_type": "code",
   "execution_count": 1,
   "metadata": {},
   "outputs": [],
   "source": [
    "import numpy as np"
   ]
  },
  {
   "cell_type": "code",
   "execution_count": 2,
   "metadata": {},
   "outputs": [],
   "source": [
    "from adjustText import adjust_text"
   ]
  },
  {
   "cell_type": "code",
   "execution_count": 3,
   "metadata": {},
   "outputs": [],
   "source": [
    "import verdict"
   ]
  },
  {
   "cell_type": "code",
   "execution_count": 4,
   "metadata": {},
   "outputs": [],
   "source": [
    "import cc.atlas as atlas"
   ]
  },
  {
   "cell_type": "markdown",
   "metadata": {},
   "source": [
    "# Load"
   ]
  },
  {
   "cell_type": "code",
   "execution_count": 5,
   "metadata": {},
   "outputs": [
    {
     "name": "stdout",
     "output_type": "stream",
     "text": [
      "Loading bibliography entries.\n"
     ]
    },
    {
     "name": "stderr",
     "output_type": "stream",
     "text": [
      "100%|██████████| 10/10 [00:00<00:00, 5500.73it/s]"
     ]
    },
    {
     "name": "stdout",
     "output_type": "stream",
     "text": [
      "Storing bibliography entries.\n",
      "Loading saved atlas data.\n"
     ]
    },
    {
     "name": "stderr",
     "output_type": "stream",
     "text": [
      "\n",
      "100%|██████████| 10/10 [00:00<00:00, 27112.50it/s]\n"
     ]
    }
   ],
   "source": [
    "a = atlas.Atlas( '../cc/tests/data/example_atlas', bibtex_fp='../cc/tests/data/example_atlas/example.bib' )"
   ]
  },
  {
   "cell_type": "markdown",
   "metadata": {},
   "source": [
    "#### Process the bibtex notes."
   ]
  },
  {
   "cell_type": "code",
   "execution_count": 6,
   "metadata": {},
   "outputs": [
    {
     "data": {
      "text/plain": [
       "Dict, {\n",
       "'VandeVoort2018a' : None,\n",
       "'Stern2018' : None,\n",
       "'Howk2017' : None,\n",
       "'Garrison-kimmel2017' : None,\n",
       "'Hopkins2017' : None,\n",
       "'Hafen2016' : None,\n",
       "'Muratov2016' : None,\n",
       "'VandeVoort2016' : None,\n",
       "'Hafen2019' : None,\n",
       "'Hafen2019a' : None,\n",
       "}"
      ]
     },
     "execution_count": 6,
     "metadata": {},
     "output_type": "execute_result"
    }
   ],
   "source": [
    "a.data.process_bibtex_annotations( word_per_concept=True )\n",
    "a.data.identify_unique_key_concepts()"
   ]
  },
  {
   "cell_type": "code",
   "execution_count": 7,
   "metadata": {},
   "outputs": [],
   "source": [
    "a.data['Hafen2019'].process_abstract()"
   ]
  },
  {
   "cell_type": "code",
   "execution_count": 8,
   "metadata": {},
   "outputs": [
    {
     "name": "stdout",
     "output_type": "stream",
     "text": [
      "VandeVoort2018a\n",
      "Stern2018\n",
      "Howk2017\n",
      "Garrison-kimmel2017\n",
      "Hopkins2017\n",
      "Hafen2016\n",
      "Muratov2016\n",
      "VandeVoort2016\n",
      "Hafen2019\n",
      "Hafen2019a\n"
     ]
    }
   ],
   "source": [
    "# Retrieve Atlas Data\n",
    "for key, item in a.data.items():\n",
    "    print( key )\n",
    "    item.process_abstract()"
   ]
  },
  {
   "cell_type": "code",
   "execution_count": 9,
   "metadata": {},
   "outputs": [
    {
     "name": "stderr",
     "output_type": "stream",
     "text": [
      "100%|██████████| 10/10 [00:00<00:00, 18283.80it/s]"
     ]
    },
    {
     "name": "stdout",
     "output_type": "stream",
     "text": [
      "Preparing to save data.\n",
      "Saving to ../cc/tests/data/example_atlas/atlas_data.h5\n"
     ]
    },
    {
     "name": "stderr",
     "output_type": "stream",
     "text": [
      "\n"
     ]
    }
   ],
   "source": [
    "saved_data = a.save_data()"
   ]
  },
  {
   "cell_type": "markdown",
   "metadata": {},
   "source": [
    "# Plot"
   ]
  },
  {
   "cell_type": "code",
   "execution_count": 10,
   "metadata": {},
   "outputs": [
    {
     "data": {
      "text/plain": [
       "[<matplotlib.lines.Line2D at 0x10507a0f0>]"
      ]
     },
     "execution_count": 10,
     "metadata": {},
     "output_type": "execute_result"
    },
    {
     "data": {
      "image/png": "[encoded data removed]",
      "text/plain": [
       "<Figure size 576x576 with 1 Axes>"
      ]
     },
     "metadata": {},
     "output_type": "display_data"
    }
   ],
   "source": [
    "%matplotlib inline\n",
    "\n",
    "figure = plt.figure( figsize=(8,8), facecolor='w' )\n",
    "ax = plt.gca()\n",
    "\n",
    "cospsi_a, cospsi_a_abs = a.plot_cospsi2d(\n",
    "    a,\n",
    "    a,\n",
    "    y_kwargs = { 'method': 'abstract similarity'},\n",
    "    ax = ax,\n",
    ")\n",
    "\n",
    "ax.plot(\n",
    "    [ 0, 1 ],\n",
    "    [ 0, 1 ],\n",
    "    linestyle = '--',\n",
    "    linewidth = 2,\n",
    "    color = 'k',\n",
    ")"
   ]
  },
  {
   "cell_type": "code",
   "execution_count": 11,
   "metadata": {},
   "outputs": [
    {
     "data": {
      "image/png": "[encoded data removed]",
      "text/plain": [
       "<Figure size 576x576 with 1 Axes>"
      ]
     },
     "metadata": {},
     "output_type": "display_data"
    }
   ],
   "source": [
    "%matplotlib inline\n",
    "\n",
    "cospsi_a, cospsi_h19 = a.plot_cospsi2d(\n",
    "    a,\n",
    "    a.data['Hafen2019'],\n",
    ")"
   ]
  },
  {
   "cell_type": "code",
   "execution_count": 12,
   "metadata": {},
   "outputs": [
    {
     "data": {
      "text/plain": [
       "[<matplotlib.lines.Line2D at 0x118e9fe10>]"
      ]
     },
     "execution_count": 12,
     "metadata": {},
     "output_type": "execute_result"
    },
    {
     "data": {
      "image/png": "[encoded data removed]",
      "text/plain": [
       "<Figure size 576x576 with 1 Axes>"
      ]
     },
     "metadata": {},
     "output_type": "display_data"
    }
   ],
   "source": [
    "figure = plt.figure( figsize=(8,8), facecolor='w' )\n",
    "ax = plt.gca()\n",
    "\n",
    "cospsi_a, cospsi_h19 = a.plot_cospsi2d(\n",
    "    a.data['Hafen2019'],\n",
    "    a.data['Hafen2019'],\n",
    "    y_kwargs = { 'method': 'abstract similarity'},\n",
    "    ax = ax,\n",
    ")\n",
    "\n",
    "ax.plot(\n",
    "    [ 0, 1 ],\n",
    "    [ 0, 1 ],\n",
    "    linestyle = '--',\n",
    "    linewidth = 2,\n",
    "    color = 'k',\n",
    ")"
   ]
  },
  {
   "cell_type": "markdown",
   "metadata": {},
   "source": [
    "# Reference-Based Exploration"
   ]
  },
  {
   "cell_type": "markdown",
   "metadata": {},
   "source": [
    "## Populate"
   ]
  },
  {
   "cell_type": "markdown",
   "metadata": {},
   "source": [
    "### Populate with Referenced Works\n",
    "Can be done iteratively."
   ]
  },
  {
   "cell_type": "markdown",
   "metadata": {},
   "source": [
    "* Identify works to download\n",
    "* Download\n",
    "* Create bib\n",
    "* Create atlas\n",
    "* Combine atlases"
   ]
  },
  {
   "cell_type": "markdown",
   "metadata": {},
   "source": [
    "### Populate with Citing Works\n",
    "Can be done iteratively."
   ]
  },
  {
   "cell_type": "markdown",
   "metadata": {},
   "source": [
    "## Visualize"
   ]
  },
  {
   "cell_type": "markdown",
   "metadata": {},
   "source": [
    "$\\cos \\Psi$ for\n",
    "* central works\n",
    "* a couple of concept vectors\n",
    "* the vector that describes your upcoming publication\n",
    "* a vector that predicts high citability "
   ]
  },
  {
   "cell_type": "markdown",
   "metadata": {},
   "source": [
    "## Select"
   ]
  },
  {
   "cell_type": "markdown",
   "metadata": {},
   "source": [
    "## Read"
   ]
  },
  {
   "cell_type": "markdown",
   "metadata": {},
   "source": [
    "### Download Full Text from ArXiv"
   ]
  },
  {
   "cell_type": "markdown",
   "metadata": {},
   "source": [
    "### Open PDF/Mendeley Externally\n",
    "While this might seem excessive, QoL differences like this are important."
   ]
  },
  {
   "cell_type": "markdown",
   "metadata": {},
   "source": [
    "### Open Figures in NB"
   ]
  },
  {
   "cell_type": "markdown",
   "metadata": {},
   "source": [
    "### Natural Language Processing of Text to Create a Summary PDF"
   ]
  },
  {
   "cell_type": "markdown",
   "metadata": {},
   "source": [
    "# Scratch"
   ]
  },
  {
   "cell_type": "code",
   "execution_count": 186,
   "metadata": {},
   "outputs": [],
   "source": [
    "import bibtexparser"
   ]
  },
  {
   "cell_type": "code",
   "execution_count": 187,
   "metadata": {},
   "outputs": [],
   "source": [
    "import ads"
   ]
  },
  {
   "cell_type": "code",
   "execution_count": 188,
   "metadata": {},
   "outputs": [],
   "source": [
    "import numpy as np"
   ]
  },
  {
   "cell_type": "code",
   "execution_count": 189,
   "metadata": {},
   "outputs": [],
   "source": [
    "q = ads.ExportQuery( [ '2020MNRAS.492.3465H' ], format='bibtex' )"
   ]
  },
  {
   "cell_type": "code",
   "execution_count": 190,
   "metadata": {},
   "outputs": [],
   "source": [
    "bibtex_str = q.execute()"
   ]
  },
  {
   "cell_type": "markdown",
   "metadata": {},
   "source": [
    "for i in range( 20 ):\n",
    "    bibtex_str = bibtex_str.replace( '\\n ', '\\n' )"
   ]
  },
  {
   "cell_type": "markdown",
   "metadata": {},
   "source": [
    "bibtex_str = bibtex_str.replace( 'ARTICLE', 'article' )"
   ]
  },
  {
   "cell_type": "markdown",
   "metadata": {},
   "source": [
    "bibtex_str = bibtex_str.replace( '2020MNRAS.492.3465H', 'Hopkins2019' )"
   ]
  },
  {
   "cell_type": "markdown",
   "metadata": {},
   "source": [
    "bibtex_str = bibtex_str.replace( '\\mnras', 'MNRAS' )"
   ]
  },
  {
   "cell_type": "markdown",
   "metadata": {},
   "source": [
    "bibtex_str = bibtex_str[:-1]"
   ]
  },
  {
   "cell_type": "code",
   "execution_count": 191,
   "metadata": {},
   "outputs": [],
   "source": [
    "# Reformat some lines\n",
    "# This is not optimized.\n",
    "l = []\n",
    "for line in bibtex_str.split( '\\n' ):\n",
    "    \n",
    "    # ADS puts quotes instead of double brackes around the title\n",
    "    if 'title =' in line:\n",
    "        bibtex_str = bibtex_str.replace( '\"{', '{{' ).replace( '}\"', '}}' )\n",
    "    \n",
    "    # ADS' bib export for months doesn't have brackets around it...\n",
    "    if 'month =' in line:\n",
    "        line = line.replace( '= ', '= {' ).replace( ',', '},' )\n",
    "        \n",
    "    l.append( line )\n",
    "bibtex_str = '\\n'.join( l )"
   ]
  },
  {
   "cell_type": "code",
   "execution_count": 192,
   "metadata": {},
   "outputs": [],
   "source": [
    "fp = './test.bib'\n",
    "actual_fp = './actual.bib'"
   ]
  },
  {
   "cell_type": "code",
   "execution_count": 193,
   "metadata": {},
   "outputs": [],
   "source": [
    "with open( fp, 'w' ) as f:\n",
    "    f.write( bibtex_str )"
   ]
  },
  {
   "cell_type": "code",
   "execution_count": 194,
   "metadata": {},
   "outputs": [],
   "source": [
    "with open( fp, 'r' ) as f:\n",
    "#     test_output = f.read( -1 )\n",
    "    bib_database = bibtexparser.load( f )"
   ]
  },
  {
   "cell_type": "code",
   "execution_count": 195,
   "metadata": {},
   "outputs": [
    {
     "data": {
      "text/plain": [
       "[{'ENTRYTYPE': 'article',\n",
       "  'ID': '2020MNRAS.492.3465H',\n",
       "  'adsnote': 'Provided by the SAO/NASA Astrophysics Data System',\n",
       "  'adsurl': 'https://ui.adsabs.harvard.edu/abs/2020MNRAS.492.3465H',\n",
       "  'archiveprefix': 'arXiv',\n",
       "  'author': \"{Hopkins}, Philip F. and {Chan}, T.~K. and {Garrison-Kimmel}, Shea and\\n{Ji}, Suoqing and {Su}, Kung-Yi and {Hummels}, Cameron B. and\\n{Kere{\\\\v{s}}}, Du{\\\\v{s}}an and {Quataert}, Eliot and\\n{Faucher-Gigu{\\\\`e}re}, Claude-Andr{\\\\'e}\",\n",
       "  'doi': '10.1093/mnras/stz3321',\n",
       "  'eprint': '1905.04321',\n",
       "  'journal': '\\\\mnras',\n",
       "  'keywords': 'stars: formation, galaxies: active, galaxies: evolution, galaxies: formation, cosmology: theory, Astrophysics - Astrophysics of Galaxies, Astrophysics - Cosmology and Nongalactic Astrophysics, Astrophysics - High Energy Astrophysical Phenomena',\n",
       "  'month': 'mar',\n",
       "  'number': '3',\n",
       "  'pages': '3465-3498',\n",
       "  'primaryclass': 'astro-ph.GA',\n",
       "  'title': '{But what about...: cosmic rays, magnetic fields, conduction, and viscosity in galaxy formation}',\n",
       "  'volume': '492',\n",
       "  'year': '2020'}]"
      ]
     },
     "execution_count": 195,
     "metadata": {},
     "output_type": "execute_result"
    }
   ],
   "source": [
    "bib_database.entries"
   ]
  },
  {
   "cell_type": "code",
   "execution_count": 73,
   "metadata": {},
   "outputs": [],
   "source": [
    "with open( actual_fp, 'r' ) as f:\n",
    "#     output = f.read( -1 )\n",
    "    bib_database = bibtexparser.load( f )"
   ]
  },
  {
   "cell_type": "code",
   "execution_count": 74,
   "metadata": {},
   "outputs": [
    {
     "data": {
      "text/plain": [
       "[{'ENTRYTYPE': 'article',\n",
       "  'ID': 'Hopkins2019',\n",
       "  'archiveprefix': 'arXiv',\n",
       "  'arxivid': '1905.04321',\n",
       "  'author': \"Hopkins, Philip F. and Chan, T. K. and Garrison-Kimmel, Shea and Ji, Suoqing and Su, Kung-Yi and Hummels, Cameron B. and Kere{\\\\v{s}}, Du{\\\\v{s}}an and Quataert, Eliot and Faucher-Gigu{\\\\`{e}}re, Claude-Andr{\\\\'{e}}\",\n",
       "  'doi': '10.1093/mnras/stz3321',\n",
       "  'eprint': '1905.04321',\n",
       "  'file': ':Users/zhafen/Library/Application Support/Mendeley Desktop/Downloaded/Hopkins et al. - 2019 - But What About... Cosmic Rays, Magnetic Fields, Conduction, {\\\\&}amp Viscosity in Galaxy Formation.pdf:pdf',\n",
       "  'issn': '0035-8711',\n",
       "  'journal': 'MNRAS',\n",
       "  'month': 'mar',\n",
       "  'number': '3',\n",
       "  'pages': '3465--3498',\n",
       "  'title': '{But what about...: cosmic rays, magnetic fields, conduction, and viscosity in galaxy formation}',\n",
       "  'url': 'http://arxiv.org/abs/1905.04321 https://academic.oup.com/mnras/article/492/3/3465/5658708',\n",
       "  'volume': '492',\n",
       "  'year': '2020'}]"
      ]
     },
     "execution_count": 74,
     "metadata": {},
     "output_type": "execute_result"
    }
   ],
   "source": [
    "bib_database.entries"
   ]
  },
  {
   "cell_type": "code",
   "execution_count": 177,
   "metadata": {},
   "outputs": [
    {
     "data": {
      "text/plain": [
       "\"@article{Hopkins2019,\\narchivePrefix = {arXiv},\\narxivId = {1905.04321},\\nauthor = {Hopkins, Philip F. and Chan, T. K. and Garrison-Kimmel, Shea and Ji, Suoqing and Su, Kung-Yi and Hummels, Cameron B. and Kere{\\\\v{s}}, Du{\\\\v{s}}an and Quataert, Eliot and Faucher-Gigu{\\\\`{e}}re, Claude-Andr{\\\\'{e}}},\\ndoi = {10.1093/mnras/stz3321},\\neprint = {1905.04321},\\nfile = {:Users/zhafen/Library/Application Support/Mendeley Desktop/Downloaded/Hopkins et al. - 2019 - But What About... Cosmic Rays, Magnetic Fields, Conduction, {\\\\&}amp Viscosity in Galaxy Formation.pdf:pdf},\\nissn = {0035-8711},\\njournal = {MNRAS},\\nmonth = {mar},\\nnumber = {3},\\npages = {3465--3498},\\ntitle = {{But what about...: cosmic rays, magnetic fields, conduction, and viscosity in galaxy formation}},\\nurl = {http://arxiv.org/abs/1905.04321 https://academic.oup.com/mnras/article/492/3/3465/5658708},\\nvolume = {492},\\nyear = {2020}\\n}\\n\""
      ]
     },
     "execution_count": 177,
     "metadata": {},
     "output_type": "execute_result"
    }
   ],
   "source": [
    "output"
   ]
  },
  {
   "cell_type": "code",
   "execution_count": 129,
   "metadata": {},
   "outputs": [],
   "source": [
    "bibtex_sorted = sorted( bibtex_str )\n",
    "output_sorted = sorted( output )"
   ]
  },
  {
   "cell_type": "code",
   "execution_count": 130,
   "metadata": {},
   "outputs": [],
   "source": [
    "bibtex_only = []\n",
    "for i, c in enumerate( bibtex_sorted ):\n",
    "    \n",
    "    if c in output_sorted:\n",
    "        output_sorted.remove( c )\n",
    "    else:\n",
    "        bibtex_only.append( c )\n",
    "output_only = output_sorted"
   ]
  },
  {
   "cell_type": "code",
   "execution_count": 131,
   "metadata": {},
   "outputs": [
    {
     "data": {
      "text/plain": [
       "['&',\n",
       " '.',\n",
       " '.',\n",
       " '.',\n",
       " '.',\n",
       " '.',\n",
       " '.',\n",
       " '/',\n",
       " '/',\n",
       " '/',\n",
       " '/',\n",
       " '/',\n",
       " '/',\n",
       " '/',\n",
       " '/',\n",
       " '/',\n",
       " '/',\n",
       " '/',\n",
       " '/',\n",
       " '/',\n",
       " '0',\n",
       " '0',\n",
       " '0',\n",
       " '0',\n",
       " '0',\n",
       " '0',\n",
       " '0',\n",
       " '1',\n",
       " '1',\n",
       " '1',\n",
       " '1',\n",
       " '1',\n",
       " '1',\n",
       " '2',\n",
       " '2',\n",
       " '2',\n",
       " '3',\n",
       " '3',\n",
       " '3',\n",
       " '3',\n",
       " '3',\n",
       " '4',\n",
       " '4',\n",
       " '4',\n",
       " '4',\n",
       " '5',\n",
       " '5',\n",
       " '5',\n",
       " '5',\n",
       " '5',\n",
       " '5',\n",
       " '6',\n",
       " '6',\n",
       " '7',\n",
       " '7',\n",
       " '8',\n",
       " '8',\n",
       " '8',\n",
       " '9',\n",
       " '9',\n",
       " '9',\n",
       " 'B',\n",
       " 'D',\n",
       " 'F',\n",
       " 'F',\n",
       " 'I',\n",
       " 'L',\n",
       " 'M',\n",
       " 'M',\n",
       " 'M',\n",
       " 'R',\n",
       " 'R',\n",
       " 'U',\n",
       " 'V',\n",
       " 'W',\n",
       " 'f',\n",
       " 'n',\n",
       " 'p',\n",
       " 'u',\n",
       " 'u',\n",
       " 'z']"
      ]
     },
     "execution_count": 131,
     "metadata": {},
     "output_type": "execute_result"
    }
   ],
   "source": [
    "output_only"
   ]
  },
  {
   "cell_type": "code",
   "execution_count": 132,
   "metadata": {},
   "outputs": [
    {
     "data": {
      "text/plain": [
       "['\\n',\n",
       " '\\n',\n",
       " '\\n',\n",
       " ' ',\n",
       " ' ',\n",
       " ' ',\n",
       " ' ',\n",
       " ' ',\n",
       " ' ',\n",
       " ' ',\n",
       " '\"',\n",
       " '\"',\n",
       " ',',\n",
       " ',',\n",
       " ',',\n",
       " ',',\n",
       " ':',\n",
       " ':',\n",
       " 'A',\n",
       " 'A',\n",
       " 'A',\n",
       " 'A',\n",
       " 'A',\n",
       " 'A',\n",
       " 'A',\n",
       " 'A',\n",
       " 'E',\n",
       " 'G',\n",
       " 'H',\n",
       " 'N',\n",
       " 'O',\n",
       " 'P',\n",
       " 'P',\n",
       " 'S',\n",
       " 'a',\n",
       " 'a',\n",
       " 'a',\n",
       " 'a',\n",
       " 'a',\n",
       " 'a',\n",
       " 'a',\n",
       " 'a',\n",
       " 'a',\n",
       " 'a',\n",
       " 'a',\n",
       " 'c',\n",
       " 'c',\n",
       " 'e',\n",
       " 'e',\n",
       " 'e',\n",
       " 'g',\n",
       " 'g',\n",
       " 'g',\n",
       " 'g',\n",
       " 'g',\n",
       " 'g',\n",
       " 'h',\n",
       " 'h',\n",
       " 'h',\n",
       " 'h',\n",
       " 'h',\n",
       " 'h',\n",
       " 'h',\n",
       " 'h',\n",
       " 'h',\n",
       " 'h',\n",
       " 'i',\n",
       " 'i',\n",
       " 'i',\n",
       " 'l',\n",
       " 'l',\n",
       " 'm',\n",
       " 'm',\n",
       " 'o',\n",
       " 'o',\n",
       " 'o',\n",
       " 'o',\n",
       " 'o',\n",
       " 'o',\n",
       " 'o',\n",
       " 'o',\n",
       " 'o',\n",
       " 'o',\n",
       " 'o',\n",
       " 'o',\n",
       " 'r',\n",
       " 'r',\n",
       " 'r',\n",
       " 'r',\n",
       " 'r',\n",
       " 'r',\n",
       " 'r',\n",
       " 'r',\n",
       " 'r',\n",
       " 'r',\n",
       " 's',\n",
       " 's',\n",
       " 's',\n",
       " 's',\n",
       " 's',\n",
       " 's',\n",
       " 's',\n",
       " 's',\n",
       " 's',\n",
       " 's',\n",
       " 's',\n",
       " 's',\n",
       " 's',\n",
       " 's',\n",
       " 's',\n",
       " 's',\n",
       " 's',\n",
       " 's',\n",
       " 's',\n",
       " 's',\n",
       " 's',\n",
       " 's',\n",
       " 's',\n",
       " 's',\n",
       " 's',\n",
       " 's',\n",
       " 's',\n",
       " 't',\n",
       " 't',\n",
       " 't',\n",
       " 't',\n",
       " 't',\n",
       " 'v',\n",
       " 'v',\n",
       " 'x',\n",
       " 'y',\n",
       " 'y',\n",
       " 'y',\n",
       " 'y',\n",
       " 'y',\n",
       " 'y',\n",
       " 'y',\n",
       " 'y',\n",
       " 'y',\n",
       " 'y',\n",
       " '{',\n",
       " '{',\n",
       " '{',\n",
       " '}',\n",
       " '}',\n",
       " '}',\n",
       " '~']"
      ]
     },
     "execution_count": 132,
     "metadata": {},
     "output_type": "execute_result"
    }
   ],
   "source": [
    "bibtex_only"
   ]
  },
  {
   "cell_type": "code",
   "execution_count": 52,
   "metadata": {},
   "outputs": [
    {
     "data": {
      "text/plain": [
       "\"@article{Hopkins2019,\\narchivePrefix = {arXiv},\\narxivId = {1905.04321},\\nauthor = {Hopkins, Philip F. and Chan, T. K. and Garrison-Kimmel, Shea and Ji, Suoqing and Su, Kung-Yi and Hummels, Cameron B. and Kere{\\\\v{s}}, Du{\\\\v{s}}an and Quataert, Eliot and Faucher-Gigu{\\\\`{e}}re, Claude-Andr{\\\\'{e}}},\\ndoi = {10.1093/mnras/stz3321},\\neprint = {1905.04321},\\nfile = {:Users/zhafen/Library/Application Support/Mendeley Desktop/Downloaded/Hopkins et al. - 2019 - But What About... Cosmic Rays, Magnetic Fields, Conduction, {\\\\&}amp Viscosity in Galaxy Formation.pdf:pdf},\\nissn = {0035-8711},\\njournal = {MNRAS},\\nmonth = {mar},\\nnumber = {3},\\npages = {3465--3498},\\ntitle = {{But what about...: cosmic rays, magnetic fields, conduction, and viscosity in galaxy formation}},\\nurl = {http://arxiv.org/abs/1905.04321 https://academic.oup.com/mnras/article/492/3/3465/5658708},\\nvolume = {492},\\nyear = {2020}\\n}\\n\""
      ]
     },
     "execution_count": 52,
     "metadata": {},
     "output_type": "execute_result"
    }
   ],
   "source": [
    "output"
   ]
  },
  {
   "cell_type": "code",
   "execution_count": 51,
   "metadata": {},
   "outputs": [
    {
     "data": {
      "text/plain": [
       "False"
      ]
     },
     "execution_count": 51,
     "metadata": {},
     "output_type": "execute_result"
    }
   ],
   "source": [
    "for i, c in enumerate( bibtex_str ):\n",
    "    "
   ]
  },
  {
   "cell_type": "code",
   "execution_count": null,
   "metadata": {},
   "outputs": [],
   "source": [
    " a.data['Hafen2019'].references[-1]"
   ]
  },
  {
   "cell_type": "code",
   "execution_count": null,
   "metadata": {},
   "outputs": [],
   "source": [
    "p = list( ads.SearchQuery( bibcode='2020MNRAS.492.3465H' ) )[0]"
   ]
  },
  {
   "cell_type": "code",
   "execution_count": null,
   "metadata": {},
   "outputs": [],
   "source": [
    "p.bibtex"
   ]
  },
  {
   "cell_type": "code",
   "execution_count": null,
   "metadata": {},
   "outputs": [],
   "source": [
    "q = list( ads.SearchQuery( { 'bibcode': a.data['Hafen2019'].references[0] },) _"
   ]
  },
  {
   "cell_type": "code",
   "execution_count": null,
   "metadata": {},
   "outputs": [],
   "source": [
    "p = a.data['Hafen2019']"
   ]
  },
  {
   "cell_type": "code",
   "execution_count": null,
   "metadata": {},
   "outputs": [],
   "source": [
    "p."
   ]
  },
  {
   "cell_type": "code",
   "execution_count": null,
   "metadata": {},
   "outputs": [],
   "source": [
    "a.data['Hafen2019'].references"
   ]
  },
  {
   "cell_type": "code",
   "execution_count": null,
   "metadata": {},
   "outputs": [],
   "source": []
  }
 ],
 "metadata": {
  "kernelspec": {
   "display_name": "Python 3",
   "language": "python",
   "name": "python3"
  },
  "language_info": {
   "codemirror_mode": {
    "name": "ipython",
    "version": 3
   },
   "file_extension": ".py",
   "mimetype": "text/x-python",
   "name": "python",
   "nbconvert_exporter": "python",
   "pygments_lexer": "ipython3",
   "version": "3.6.7"
  }
 },
 "nbformat": 4,
 "nbformat_minor": 4
}
