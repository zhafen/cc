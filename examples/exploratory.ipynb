{
 "cells": [
  {
   "cell_type": "markdown",
   "metadata": {},
   "source": [
    "# Atlas Exploration"
   ]
  },
  {
   "cell_type": "code",
   "execution_count": 2,
   "metadata": {},
   "outputs": [],
   "source": [
    "import cc.atlas as atlas"
   ]
  },
  {
   "cell_type": "code",
   "execution_count": 3,
   "metadata": {},
   "outputs": [],
   "source": [
    "a = atlas.Atlas( './atlas', bibtex_fp='../cc/tests/data/example_atlas/example.bib' )"
   ]
  },
  {
   "cell_type": "code",
   "execution_count": 4,
   "metadata": {},
   "outputs": [
    {
     "data": {
      "text/plain": [
       "Dict, {\n",
       "'VandeVoort2018a' : None,\n",
       "'Stern2018' : None,\n",
       "'Howk2017' : None,\n",
       "'Garrison-kimmel2017' : None,\n",
       "'Hopkins2017' : None,\n",
       "'Hafen2016' : None,\n",
       "'Muratov2016' : None,\n",
       "'VandeVoort2016' : None,\n",
       "'Hafen2019' : None,\n",
       "'Hafen2019a' : None,\n",
       "}"
      ]
     },
     "execution_count": 4,
     "metadata": {},
     "output_type": "execute_result"
    }
   ],
   "source": [
    "a.data.process_bibtex_annotations()"
   ]
  },
  {
   "cell_type": "code",
   "execution_count": 7,
   "metadata": {},
   "outputs": [
    {
     "data": {
      "text/plain": [
       "{'1e10 msun halo',\n",
       " '21-cm emiss',\n",
       " 'absorpt',\n",
       " 'accret',\n",
       " 'accret onto a galaxi',\n",
       " 'accret shock',\n",
       " 'amiga',\n",
       " 'analyt chemic evolut model',\n",
       " 'baryon budget',\n",
       " 'baryon fraction',\n",
       " 'bimod',\n",
       " 'black hole feedback',\n",
       " 'central galaxi',\n",
       " 'central mass concentr',\n",
       " 'cgm gas rotat',\n",
       " 'chemic evolut',\n",
       " 'chemistri prescript',\n",
       " 'cold mode accret',\n",
       " 'collisionally-ion',\n",
       " 'column ratio',\n",
       " 'compact galaxi',\n",
       " 'cool',\n",
       " 'cool cgm gas',\n",
       " 'cool prescript',\n",
       " 'cos-halo',\n",
       " 'cosmolog h i column',\n",
       " 'cosmolog lls metal distribut',\n",
       " 'cosmolog simul',\n",
       " 'cosmolog timescal',\n",
       " 'cover fraction',\n",
       " 'dark matter initi condit',\n",
       " 'dens cgm gas',\n",
       " 'deuterium abund',\n",
       " 'deuterium fraction',\n",
       " 'differenti extinct',\n",
       " 'eject',\n",
       " 'extend disk',\n",
       " 'fate of the cgm',\n",
       " 'feedback',\n",
       " 'fire',\n",
       " 'fire simul',\n",
       " 'futur observ',\n",
       " 'galact wind',\n",
       " 'galaxi',\n",
       " 'galaxi gas evolut',\n",
       " 'galaxi gas mass',\n",
       " 'galaxi plane',\n",
       " 'gas-phas deuterium abund',\n",
       " 'gizmo',\n",
       " 'h i to o vi column ratio',\n",
       " 'halo-to-halo variabl',\n",
       " 'high-redshift',\n",
       " 'high-redshift galaxi',\n",
       " 'hot cgm gas',\n",
       " 'hot halo',\n",
       " 'hot mode accret',\n",
       " 'hst survey',\n",
       " 'hydrodynam cosmolog simul',\n",
       " 'hydrostat',\n",
       " 'igm',\n",
       " 'igm accret',\n",
       " 'inflow',\n",
       " 'inner cgm',\n",
       " 'inner galaxi',\n",
       " 'instantan star format',\n",
       " 'intermediate-mass star',\n",
       " 'ism metal',\n",
       " 'ism metal budget',\n",
       " 'kinemat',\n",
       " 'l* galaxi',\n",
       " 'l* halo',\n",
       " 'lifetim',\n",
       " 'line width',\n",
       " 'lls',\n",
       " 'lls metal distribut',\n",
       " 'low-ion absorpt',\n",
       " 'low-redshift',\n",
       " 'm31',\n",
       " 'metal',\n",
       " 'metal abund',\n",
       " 'metal budget',\n",
       " 'metal fraction',\n",
       " 'metal-enrich inflow',\n",
       " 'metal-lin cool',\n",
       " 'milki way',\n",
       " 'morpholog',\n",
       " 'multiphas cgm gas',\n",
       " 'o vi',\n",
       " 'o vi column',\n",
       " 'o vi line width',\n",
       " 'observ properti',\n",
       " 'origin of o vi',\n",
       " 'origin of the cgm',\n",
       " 'outer cgm',\n",
       " 'outflow',\n",
       " 'outflow rate',\n",
       " 'oxygen abund',\n",
       " 'particle-track',\n",
       " 'photo-ion',\n",
       " 'primordi deuterium abund',\n",
       " 'primordi deuterium fraction',\n",
       " 'proxim fate of the cgm',\n",
       " 'quasi-hydrostat',\n",
       " 'radial veloc',\n",
       " 'radiat feedback',\n",
       " 'recycl',\n",
       " 'resolut',\n",
       " 'rotation-support',\n",
       " 'satellit galaxi',\n",
       " 'satellit wind',\n",
       " 'sfr',\n",
       " 'single-phas gas',\n",
       " 'soft x-ray emiss',\n",
       " 'star format',\n",
       " 'star format histori',\n",
       " 'star-form prescript',\n",
       " 'stellar',\n",
       " 'stellar feedback',\n",
       " 'stellar kinemat',\n",
       " 'stellar mass',\n",
       " 'stellar mass loss',\n",
       " 'stellar morpholog',\n",
       " 'stellar profil',\n",
       " 'stellar surfac densiti',\n",
       " 'subgrid metal diffus',\n",
       " \"sunyaev-zel'dovich\",\n",
       " 'sz',\n",
       " 'sz flux',\n",
       " 'thermal equilibrium',\n",
       " \"thermal sunyaev-zel'dovich effect\",\n",
       " 'toomr mass',\n",
       " 'ultim fate of the cgm',\n",
       " 'veloc width',\n",
       " 'virial',\n",
       " 'visual morpholog',\n",
       " 'wind',\n",
       " 'x-ray',\n",
       " 'x-ray luminos',\n",
       " 'z=0.25',\n",
       " 'z=2',\n",
       " 'zoom-in',\n",
       " '{ \\\\textgreat } 1e10 msun halo',\n",
       " '{ \\\\textgreat } { \\\\~ { } } 1e12 msun halo',\n",
       " '{ \\\\textless } 1e12 msun halo',\n",
       " '{ \\\\textless } { \\\\~ { } } 1e11 msun halo',\n",
       " '{ \\\\~ { } } 1e11 msun halo'}"
      ]
     },
     "execution_count": 7,
     "metadata": {},
     "output_type": "execute_result"
    }
   ],
   "source": [
    "a.get_unique_key_concepts()"
   ]
  },
  {
   "cell_type": "code",
   "execution_count": 8,
   "metadata": {},
   "outputs": [],
   "source": [
    "d, paragraph = a.concept_search( 'recycling' )"
   ]
  },
  {
   "cell_type": "code",
   "execution_count": 9,
   "metadata": {},
   "outputs": [
    {
     "name": "stdout",
     "output_type": "stream",
     "text": [
      "\\cite{Hafen2016}: [Metal-enriched [inflows]] can occure do to [recycling] of [galactic [winds]].\n",
      "\\cite{Muratov2016}: [Cooling] and [recycling] from the [CGM] constrain the [ISM [metal budget]].\n",
      "\n"
     ]
    }
   ],
   "source": [
    "print( paragraph )"
   ]
  },
  {
   "cell_type": "code",
   "execution_count": 17,
   "metadata": {},
   "outputs": [
    {
     "data": {
      "text/plain": [
       "{'1e10 msun halo',\n",
       " '21-cm emiss',\n",
       " 'absorpt',\n",
       " 'accret',\n",
       " 'accret onto a galaxi',\n",
       " 'accret shock',\n",
       " 'amiga',\n",
       " 'analyt chemic evolut model',\n",
       " 'baryon budget',\n",
       " 'baryon fraction',\n",
       " 'bimod',\n",
       " 'black hole feedback',\n",
       " 'central galaxi',\n",
       " 'central mass concentr',\n",
       " 'cgm gas rotat',\n",
       " 'chemic evolut',\n",
       " 'chemistri prescript',\n",
       " 'cold mode accret',\n",
       " 'collisionally-ion',\n",
       " 'column ratio',\n",
       " 'compact galaxi',\n",
       " 'cool',\n",
       " 'cool cgm gas',\n",
       " 'cool prescript',\n",
       " 'cos-halo',\n",
       " 'cosmolog h i column',\n",
       " 'cosmolog lls metal distribut',\n",
       " 'cosmolog simul',\n",
       " 'cosmolog timescal',\n",
       " 'cover fraction',\n",
       " 'dark matter initi condit',\n",
       " 'dens cgm gas',\n",
       " 'deuterium abund',\n",
       " 'deuterium fraction',\n",
       " 'differenti extinct',\n",
       " 'eject',\n",
       " 'extend disk',\n",
       " 'fate of the cgm',\n",
       " 'feedback',\n",
       " 'fire',\n",
       " 'fire simul',\n",
       " 'futur observ',\n",
       " 'galact wind',\n",
       " 'galaxi',\n",
       " 'galaxi gas evolut',\n",
       " 'galaxi gas mass',\n",
       " 'galaxi plane',\n",
       " 'gas-phas deuterium abund',\n",
       " 'gizmo',\n",
       " 'h i to o vi column ratio',\n",
       " 'halo-to-halo variabl',\n",
       " 'high-redshift',\n",
       " 'high-redshift galaxi',\n",
       " 'hot cgm gas',\n",
       " 'hot halo',\n",
       " 'hot mode accret',\n",
       " 'hst survey',\n",
       " 'hydrodynam cosmolog simul',\n",
       " 'hydrostat',\n",
       " 'igm',\n",
       " 'igm accret',\n",
       " 'inflow',\n",
       " 'inner cgm',\n",
       " 'inner galaxi',\n",
       " 'instantan star format',\n",
       " 'intermediate-mass star',\n",
       " 'ism metal',\n",
       " 'ism metal budget',\n",
       " 'kinemat',\n",
       " 'l* galaxi',\n",
       " 'l* halo',\n",
       " 'lifetim',\n",
       " 'line width',\n",
       " 'lls',\n",
       " 'lls metal distribut',\n",
       " 'low-ion absorpt',\n",
       " 'low-redshift',\n",
       " 'm31',\n",
       " 'metal',\n",
       " 'metal abund',\n",
       " 'metal budget',\n",
       " 'metal fraction',\n",
       " 'metal-enrich inflow',\n",
       " 'metal-lin cool',\n",
       " 'milki way',\n",
       " 'morpholog',\n",
       " 'multiphas cgm gas',\n",
       " 'o vi',\n",
       " 'o vi column',\n",
       " 'o vi line width',\n",
       " 'observ properti',\n",
       " 'origin of o vi',\n",
       " 'origin of the cgm',\n",
       " 'outer cgm',\n",
       " 'outflow',\n",
       " 'outflow rate',\n",
       " 'oxygen abund',\n",
       " 'particle-track',\n",
       " 'photo-ion',\n",
       " 'primordi deuterium abund',\n",
       " 'primordi deuterium fraction',\n",
       " 'proxim fate of the cgm',\n",
       " 'quasi-hydrostat',\n",
       " 'radial veloc',\n",
       " 'radiat feedback',\n",
       " 'recycl',\n",
       " 'resolut',\n",
       " 'rotation-support',\n",
       " 'satellit galaxi',\n",
       " 'satellit wind',\n",
       " 'sfr',\n",
       " 'single-phas gas',\n",
       " 'soft x-ray emiss',\n",
       " 'star format',\n",
       " 'star format histori',\n",
       " 'star-form prescript',\n",
       " 'stellar',\n",
       " 'stellar feedback',\n",
       " 'stellar kinemat',\n",
       " 'stellar mass',\n",
       " 'stellar mass loss',\n",
       " 'stellar morpholog',\n",
       " 'stellar profil',\n",
       " 'stellar surfac densiti',\n",
       " 'subgrid metal diffus',\n",
       " \"sunyaev-zel'dovich\",\n",
       " 'sz',\n",
       " 'sz flux',\n",
       " 'thermal equilibrium',\n",
       " \"thermal sunyaev-zel'dovich effect\",\n",
       " 'toomr mass',\n",
       " 'ultim fate of the cgm',\n",
       " 'veloc width',\n",
       " 'virial',\n",
       " 'visual morpholog',\n",
       " 'wind',\n",
       " 'x-ray',\n",
       " 'x-ray luminos',\n",
       " 'z=0.25',\n",
       " 'z=2',\n",
       " 'zoom-in',\n",
       " '{ \\\\textgreat } 1e10 msun halo',\n",
       " '{ \\\\textgreat } { \\\\~ { } } 1e12 msun halo',\n",
       " '{ \\\\textless } 1e12 msun halo',\n",
       " '{ \\\\textless } { \\\\~ { } } 1e11 msun halo',\n",
       " '{ \\\\~ { } } 1e11 msun halo'}"
      ]
     },
     "execution_count": 17,
     "metadata": {},
     "output_type": "execute_result"
    }
   ],
   "source": [
    "a.unique_key_concepts"
   ]
  },
  {
   "cell_type": "markdown",
   "metadata": {},
   "source": [
    "# Scratch Below"
   ]
  },
  {
   "cell_type": "code",
   "execution_count": 14,
   "metadata": {},
   "outputs": [],
   "source": [
    "import verdict"
   ]
  },
  {
   "cell_type": "code",
   "execution_count": 16,
   "metadata": {},
   "outputs": [
    {
     "data": {
      "text/plain": [
       "Dict, {\n",
       "'Hafen2016' : 1,\n",
       "'Muratov2016' : 1,\n",
       "}"
      ]
     },
     "execution_count": 16,
     "metadata": {},
     "output_type": "execute_result"
    }
   ],
   "source": [
    "verdict.Dict( d ).apply( len )"
   ]
  },
  {
   "cell_type": "code",
   "execution_count": null,
   "metadata": {},
   "outputs": [],
   "source": [
    "import numpy as np\n",
    "import nltk"
   ]
  },
  {
   "cell_type": "code",
   "execution_count": null,
   "metadata": {},
   "outputs": [],
   "source": [
    "test_file = './tests/data/arxiv_source/Hafen2019/CGM_origin.tex'"
   ]
  },
  {
   "cell_type": "code",
   "execution_count": null,
   "metadata": {},
   "outputs": [],
   "source": [
    "lines = []\n",
    "with open( test_file ) as f:\n",
    "    for line in f:\n",
    "        lines.append( line )  "
   ]
  },
  {
   "cell_type": "markdown",
   "metadata": {},
   "source": [
    "Create code for loading in a paper and:\n",
    "* Cleaning out comments\n",
    "* Dividing into sections\n",
    "* Putting the results into nltk.Text classes"
   ]
  },
  {
   "cell_type": "code",
   "execution_count": null,
   "metadata": {},
   "outputs": [],
   "source": [
    "import os"
   ]
  },
  {
   "cell_type": "code",
   "execution_count": null,
   "metadata": {},
   "outputs": [],
   "source": [
    "os.makedirs( './tests/data/repp/Hafen2019' )"
   ]
  },
  {
   "cell_type": "code",
   "execution_count": null,
   "metadata": {},
   "outputs": [],
   "source": [
    "lines[2]"
   ]
  },
  {
   "cell_type": "code",
   "execution_count": null,
   "metadata": {},
   "outputs": [],
   "source": [
    "nltk.text.Text( ['dog cat', 'cat' ] ).concordance( 'dog cat' )"
   ]
  },
  {
   "cell_type": "code",
   "execution_count": null,
   "metadata": {},
   "outputs": [],
   "source": [
    "out = nltk.text.Text(lines[2])\n",
    "out"
   ]
  },
  {
   "cell_type": "code",
   "execution_count": null,
   "metadata": {},
   "outputs": [],
   "source": [
    "out.concordance( 'M' )"
   ]
  },
  {
   "cell_type": "code",
   "execution_count": null,
   "metadata": {},
   "outputs": [],
   "source": [
    "nltkm nltk.book import *"
   ]
  },
  {
   "cell_type": "code",
   "execution_count": null,
   "metadata": {},
   "outputs": [],
   "source": [
    "text1.concordance( 'dog' )"
   ]
  },
  {
   "cell_type": "code",
   "execution_count": null,
   "metadata": {},
   "outputs": [],
   "source": [
    "nltk.text.Text"
   ]
  }
 ],
 "metadata": {
  "kernelspec": {
   "display_name": "Python 3",
   "language": "python",
   "name": "python3"
  },
  "language_info": {
   "codemirror_mode": {
    "name": "ipython",
    "version": 3
   },
   "file_extension": ".py",
   "mimetype": "text/x-python",
   "name": "python",
   "nbconvert_exporter": "python",
   "pygments_lexer": "ipython3",
   "version": "3.8.3"
  }
 },
 "nbformat": 4,
 "nbformat_minor": 4
}
