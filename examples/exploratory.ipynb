{
 "cells": [
  {
   "cell_type": "markdown",
   "metadata": {},
   "source": [
    "# Atlas Exploration"
   ]
  },
  {
   "cell_type": "code",
   "execution_count": 56,
   "metadata": {},
   "outputs": [],
   "source": [
    "import cc.atlas.atlas as atlas"
   ]
  },
  {
   "cell_type": "code",
   "execution_count": 57,
   "metadata": {},
   "outputs": [],
   "source": [
    "a = atlas.Atlas( './atlas' )"
   ]
  },
  {
   "cell_type": "code",
   "execution_count": 58,
   "metadata": {},
   "outputs": [],
   "source": [
    "a.import_bibtex( '../cc/tests/data/example.bib' )"
   ]
  },
  {
   "cell_type": "code",
   "execution_count": 59,
   "metadata": {},
   "outputs": [
    {
     "data": {
      "text/plain": [
       "Dict, {\n",
       "'VandeVoort2016' : None,\n",
       "'Hafen2016' : None,\n",
       "'Muratov2016' : None,\n",
       "'Howk2017' : None,\n",
       "'Hopkins2017' : None,\n",
       "'Stern2018' : None,\n",
       "'VandeVoort2018a' : None,\n",
       "'Garrison-kimmel2017' : None,\n",
       "'Hafen2019' : None,\n",
       "'Hafen2019a' : None,\n",
       "}"
      ]
     },
     "execution_count": 59,
     "metadata": {},
     "output_type": "execute_result"
    }
   ],
   "source": [
    "a.data.process_bibtex_annotations()"
   ]
  },
  {
   "cell_type": "code",
   "execution_count": 60,
   "metadata": {},
   "outputs": [
    {
     "data": {
      "text/plain": [
       "Dict, {\n",
       "'VandeVoort2016' : ['black hole feedback', 'hydrostatic', 'SZ flux', 'SFR', '{\\\\textgreater}{\\\\~{}}1e13 Msun halos', 'soft X-ray emission', \"Sunyaev-Zel'dovich\", 'feedback', 'SZ', 'galactic wind', \"thermal Sunyaev-Zel'dovich effect\", 'hot halo', 'baryon fraction', 'observable properties', 'X-ray luminosity', 'quasi-hydrostatic', 'FIRE', 'virialized', 'future observations', 'stellar feedback', 'CGM', 'wind', 'X-ray', '{\\\\textless}{\\\\~{}}1e12 Msun halos', '{\\\\textless}{\\\\~{}}1e11 Msun halos'],\n",
       "'Hafen2016' : ['bimodality', '1e12 Msun halos', 'H I', 'winds', 'cosmological H I columns', 'LLS metallicity distribution', 'dense CGM gas', 'H I columns', 'outflows', 'Metal-enriched inflows', 'galactic winds', 'inflows', 'galactic wind', 'LLS', 'radial velocity', 'FIRE simulations', 'satellite galaxies', 'CGM', 'wind', 'recycling', 'cosmological LLS metallicity distribution', 'cosmological simulations', 'zoom-in', 'low-redshift', '1e10 Msun halos', 'hydrodynamic cosmological simulations', 'metallicity'],\n",
       "'Muratov2016' : ['metals', 'outflow rate', '1e12 Msun halos', 'stars', 'high-redshift galaxies', 'outflow', 'Cooling', 'z=0', '{\\\\textgreater}1e10 Msun halos', 'outflows', 'inflows', 'ISM metal budget', 'outer CGM', 'metal budget', 'galaxies', 'inner CGM', 'FIRE simulations', 'metal', 'ISM metallicity', '1e9 Msun halos', 'CGM', 'high-redshift', 'wind', 'metal fraction', 'recycling', 'ISM', 'low-redshift', 'COS-halos', '{\\\\textless}{\\\\~{}}1e11 Msun halos', 'metallicity'],\n",
       "'Howk2017' : ['covering fraction', 'HST survey', 'HST', 'CGM', '21-cm emission', 'M31', 'AMIGA', 'COS-Halos', 'H I', 'cosmological simulations', 'zoom-in', 'H I column'],\n",
       "'Hopkins2017' : ['stellar mass loss', 'metal-line cooling', 'winds', 'star-formation prescription', 'chemistry prescription', 'Hydrodynamic cosmological simulations', 'Toomre masses', 'feedback', 'stellar masses', 'stellar profiles', 'SNe', 'instantaneous star formation', 'central mass concentration', 'cooling prescription', 'radiative feedback', 'FIRE simulations', 'resolution', 'cosmological timescales', 'CGM', 'GIZMO', 'visual morphologies', 'cosmological simulations', '{\\\\textless}1e12 Msun halos', 'zoom-in', 'FIRE-2 simulations', 'hot halos', 'star formation', 'hydrodynamic cosmological simulations', 'metal abundances'],\n",
       "'Stern2018' : ['H I', 'collisionally-ionized', 'H I to O VI column ratio', 'low-ion absorption', 'thermal equilibrium', 'velocity width', 'origin of O VI', 'single-phase gas', 'absorption', 'outer CGM', 'O VI', 'observable properties', 'multiphase CGM gas', 'accretion shock', 'photo-ionized', 'line widths', 'column ratio', 'O VI column', 'CGM', 'baryon fractions', 'differential extinction', 'O VI line widths', 'metallicity'],\n",
       "'VandeVoort2018a' : ['stellar mass loss', 'gas-phase deuterium abundance', 'winds', 'intermediate-mass stars', 'oxygen abundance', 'deuterium abundance', 'galaxy', 'primordial deuterium fraction', 'inflows', 'star formation history', '{\\\\textgreater}{\\\\~{}}1e12 Msun halos', 'primordial deuterium abundance', 'inner galaxy', 'analytical chemical evolution models', 'FIRE simulations', 'chemical evolution', 'deuterium fraction', 'IGM accretion', 'Milky Way', 'cosmological simulations', 'ISM', 'zoom-in', 'star formation', 'hydrodynamic cosmological simulations', 'metallicity'],\n",
       "'Garrison-kimmel2017' : ['z=0', 'CGM gas rotation', 'dark matter initial conditions', 'stellar morphology', 'L* galaxies', 'stellar surface density', 'CGM', 'kinematics', 'morphology', 'galaxy', 'stellar', 'rotation-supported', 'galaxy gas mass', 'stellar kinematics', 'FIRE-2 simulations', 'extended disks', 'compact galaxies', 'galaxy gas evolution'],\n",
       "'Hafen2019' : ['particle-tracking', 'subgrid metal diffusion', 'L* halos', 'stellar feedback', 'CGM', 'IGM accretion', 'baryon budget', 'satellite wind', 'halo-to-halo variability', 'hot halo', 'FIRE-2 simulations', 'galactic wind', 'low-redshift', 'galaxy plane', 'cool CGM gas', 'lifetime', 'metallicity', 'winds', 'origins of the CGM', 'metal budget'],\n",
       "'Hafen2019a' : ['L* halos', 'stars', 'z=0.25', 'cold mode accretion', 'z=0', 'galaxy', 'origin of the CGM', 'fate of the CGM', 'IGM', 'central galaxy', 'z=2', '{\\\\~{}}1e11 Msun halos', '{\\\\textless}1e11 Msun halos', '{\\\\textgreater}{\\\\~{}}1e11 Msun halos', 'ejected', 'accretion onto a galaxy', 'cool CGM gas', 'fate of theCGM', 'accretion', 'proximate fate of theCGM', 'ultimate fate of theCGM', 'hot CGM gas', 'CGM', 'hot mode accretion', 'ISM', 'FIRE-2 simulations', 'metallicity'],\n",
       "}"
      ]
     },
     "execution_count": 60,
     "metadata": {},
     "output_type": "execute_result"
    }
   ],
   "source": [
    "a.key_concepts"
   ]
  },
  {
   "cell_type": "code",
   "execution_count": 63,
   "metadata": {},
   "outputs": [
    {
     "data": {
      "text/plain": [
       "{'1e10 Msun halos',\n",
       " '1e12 Msun halos',\n",
       " '1e9 Msun halos',\n",
       " '21-cm emission',\n",
       " 'AMIGA',\n",
       " 'CGM',\n",
       " 'CGM gas rotation',\n",
       " 'COS-Halos',\n",
       " 'COS-halos',\n",
       " 'Cooling',\n",
       " 'FIRE',\n",
       " 'FIRE simulations',\n",
       " 'FIRE-2 simulations',\n",
       " 'GIZMO',\n",
       " 'H I',\n",
       " 'H I column',\n",
       " 'H I columns',\n",
       " 'H I to O VI column ratio',\n",
       " 'HST',\n",
       " 'HST survey',\n",
       " 'Hydrodynamic cosmological simulations',\n",
       " 'IGM',\n",
       " 'IGM accretion',\n",
       " 'ISM',\n",
       " 'ISM metal budget',\n",
       " 'ISM metallicity',\n",
       " 'L* galaxies',\n",
       " 'L* halos',\n",
       " 'LLS',\n",
       " 'LLS metallicity distribution',\n",
       " 'M31',\n",
       " 'Metal-enriched inflows',\n",
       " 'Milky Way',\n",
       " 'O VI',\n",
       " 'O VI column',\n",
       " 'O VI line widths',\n",
       " 'SFR',\n",
       " 'SNe',\n",
       " 'SZ',\n",
       " 'SZ flux',\n",
       " \"Sunyaev-Zel'dovich\",\n",
       " 'Toomre masses',\n",
       " 'X-ray',\n",
       " 'X-ray luminosity',\n",
       " 'absorption',\n",
       " 'accretion',\n",
       " 'accretion onto a galaxy',\n",
       " 'accretion shock',\n",
       " 'analytical chemical evolution models',\n",
       " 'baryon budget',\n",
       " 'baryon fraction',\n",
       " 'baryon fractions',\n",
       " 'bimodality',\n",
       " 'black hole feedback',\n",
       " 'central galaxy',\n",
       " 'central mass concentration',\n",
       " 'chemical evolution',\n",
       " 'chemistry prescription',\n",
       " 'cold mode accretion',\n",
       " 'collisionally-ionized',\n",
       " 'column ratio',\n",
       " 'compact galaxies',\n",
       " 'cool CGM gas',\n",
       " 'cooling prescription',\n",
       " 'cosmological H I columns',\n",
       " 'cosmological LLS metallicity distribution',\n",
       " 'cosmological simulations',\n",
       " 'cosmological timescales',\n",
       " 'covering fraction',\n",
       " 'dark matter initial conditions',\n",
       " 'dense CGM gas',\n",
       " 'deuterium abundance',\n",
       " 'deuterium fraction',\n",
       " 'differential extinction',\n",
       " 'ejected',\n",
       " 'extended disks',\n",
       " 'fate of the CGM',\n",
       " 'fate of theCGM',\n",
       " 'feedback',\n",
       " 'future observations',\n",
       " 'galactic wind',\n",
       " 'galactic winds',\n",
       " 'galaxies',\n",
       " 'galaxy',\n",
       " 'galaxy gas evolution',\n",
       " 'galaxy gas mass',\n",
       " 'galaxy plane',\n",
       " 'gas-phase deuterium abundance',\n",
       " 'halo-to-halo variability',\n",
       " 'high-redshift',\n",
       " 'high-redshift galaxies',\n",
       " 'hot CGM gas',\n",
       " 'hot halo',\n",
       " 'hot halos',\n",
       " 'hot mode accretion',\n",
       " 'hydrodynamic cosmological simulations',\n",
       " 'hydrostatic',\n",
       " 'inflows',\n",
       " 'inner CGM',\n",
       " 'inner galaxy',\n",
       " 'instantaneous star formation',\n",
       " 'intermediate-mass stars',\n",
       " 'kinematics',\n",
       " 'lifetime',\n",
       " 'line widths',\n",
       " 'low-ion absorption',\n",
       " 'low-redshift',\n",
       " 'metal',\n",
       " 'metal abundances',\n",
       " 'metal budget',\n",
       " 'metal fraction',\n",
       " 'metal-line cooling',\n",
       " 'metallicity',\n",
       " 'metals',\n",
       " 'morphology',\n",
       " 'multiphase CGM gas',\n",
       " 'observable properties',\n",
       " 'origin of O VI',\n",
       " 'origin of the CGM',\n",
       " 'origins of the CGM',\n",
       " 'outer CGM',\n",
       " 'outflow',\n",
       " 'outflow rate',\n",
       " 'outflows',\n",
       " 'oxygen abundance',\n",
       " 'particle-tracking',\n",
       " 'photo-ionized',\n",
       " 'primordial deuterium abundance',\n",
       " 'primordial deuterium fraction',\n",
       " 'proximate fate of theCGM',\n",
       " 'quasi-hydrostatic',\n",
       " 'radial velocity',\n",
       " 'radiative feedback',\n",
       " 'recycling',\n",
       " 'resolution',\n",
       " 'rotation-supported',\n",
       " 'satellite galaxies',\n",
       " 'satellite wind',\n",
       " 'single-phase gas',\n",
       " 'soft X-ray emission',\n",
       " 'star formation',\n",
       " 'star formation history',\n",
       " 'star-formation prescription',\n",
       " 'stars',\n",
       " 'stellar',\n",
       " 'stellar feedback',\n",
       " 'stellar kinematics',\n",
       " 'stellar mass loss',\n",
       " 'stellar masses',\n",
       " 'stellar morphology',\n",
       " 'stellar profiles',\n",
       " 'stellar surface density',\n",
       " 'subgrid metal diffusion',\n",
       " \"thermal Sunyaev-Zel'dovich effect\",\n",
       " 'thermal equilibrium',\n",
       " 'ultimate fate of theCGM',\n",
       " 'velocity width',\n",
       " 'virialized',\n",
       " 'visual morphologies',\n",
       " 'wind',\n",
       " 'winds',\n",
       " 'z=0',\n",
       " 'z=0.25',\n",
       " 'z=2',\n",
       " 'zoom-in',\n",
       " '{\\\\textgreater}1e10 Msun halos',\n",
       " '{\\\\textgreater}{\\\\~{}}1e11 Msun halos',\n",
       " '{\\\\textgreater}{\\\\~{}}1e12 Msun halos',\n",
       " '{\\\\textgreater}{\\\\~{}}1e13 Msun halos',\n",
       " '{\\\\textless}1e11 Msun halos',\n",
       " '{\\\\textless}1e12 Msun halos',\n",
       " '{\\\\textless}{\\\\~{}}1e11 Msun halos',\n",
       " '{\\\\textless}{\\\\~{}}1e12 Msun halos',\n",
       " '{\\\\~{}}1e11 Msun halos'}"
      ]
     },
     "execution_count": 63,
     "metadata": {},
     "output_type": "execute_result"
    }
   ],
   "source": [
    "a.all_key_concepts"
   ]
  },
  {
   "cell_type": "code",
   "execution_count": 61,
   "metadata": {},
   "outputs": [
    {
     "data": {
      "text/plain": [
       "{'1e10 msun halo',\n",
       " '21-cm emiss',\n",
       " 'absorpt',\n",
       " 'accret',\n",
       " 'accret onto a galaxi',\n",
       " 'accret shock',\n",
       " 'amiga',\n",
       " 'analyt chemic evolut model',\n",
       " 'baryon budget',\n",
       " 'baryon fraction',\n",
       " 'bimod',\n",
       " 'black hole feedback',\n",
       " 'central galaxi',\n",
       " 'central mass concentr',\n",
       " 'cgm gas rotat',\n",
       " 'chemic evolut',\n",
       " 'chemistri prescript',\n",
       " 'cold mode accret',\n",
       " 'collisionally-ion',\n",
       " 'column ratio',\n",
       " 'compact galaxi',\n",
       " 'cool',\n",
       " 'cool cgm gas',\n",
       " 'cool prescript',\n",
       " 'cos-halo',\n",
       " 'cosmolog h i column',\n",
       " 'cosmolog lls metal distribut',\n",
       " 'cosmolog simul',\n",
       " 'cosmolog timescal',\n",
       " 'cover fraction',\n",
       " 'dark matter initi condit',\n",
       " 'dens cgm gas',\n",
       " 'deuterium abund',\n",
       " 'deuterium fraction',\n",
       " 'differenti extinct',\n",
       " 'eject',\n",
       " 'extend disk',\n",
       " 'fate of thecgm',\n",
       " 'feedback',\n",
       " 'fire',\n",
       " 'fire-2 simul',\n",
       " 'futur observ',\n",
       " 'galact wind',\n",
       " 'galaxi',\n",
       " 'galaxi gas evolut',\n",
       " 'galaxi gas mass',\n",
       " 'galaxi plane',\n",
       " 'gas-phas deuterium abund',\n",
       " 'gizmo',\n",
       " 'h i column',\n",
       " 'h i to o vi column ratio',\n",
       " 'halo-to-halo variabl',\n",
       " 'high-redshift',\n",
       " 'high-redshift galaxi',\n",
       " 'hot cgm gas',\n",
       " 'hot halo',\n",
       " 'hot mode accret',\n",
       " 'hst survey',\n",
       " 'hydrodynam cosmolog simul',\n",
       " 'hydrostat',\n",
       " 'igm',\n",
       " 'igm accret',\n",
       " 'inflow',\n",
       " 'inner cgm',\n",
       " 'inner galaxi',\n",
       " 'instantan star format',\n",
       " 'intermediate-mass star',\n",
       " 'ism',\n",
       " 'ism metal',\n",
       " 'ism metal budget',\n",
       " 'kinemat',\n",
       " 'l* galaxi',\n",
       " 'l* halo',\n",
       " 'lifetim',\n",
       " 'line width',\n",
       " 'lls',\n",
       " 'lls metal distribut',\n",
       " 'low-ion absorpt',\n",
       " 'low-redshift',\n",
       " 'm31',\n",
       " 'metal',\n",
       " 'metal abund',\n",
       " 'metal budget',\n",
       " 'metal fraction',\n",
       " 'metal-enrich inflow',\n",
       " 'metal-lin cool',\n",
       " 'milki way',\n",
       " 'morpholog',\n",
       " 'multiphas cgm gas',\n",
       " 'o vi',\n",
       " 'o vi line width',\n",
       " 'observ properti',\n",
       " 'origin of o vi',\n",
       " 'origin of the cgm',\n",
       " 'outer cgm',\n",
       " 'outflow',\n",
       " 'outflow rate',\n",
       " 'oxygen abund',\n",
       " 'particle-track',\n",
       " 'photo-ion',\n",
       " 'primordi deuterium abund',\n",
       " 'primordi deuterium fraction',\n",
       " 'proxim fate of thecgm',\n",
       " 'quasi-hydrostat',\n",
       " 'radial veloc',\n",
       " 'radiat feedback',\n",
       " 'recycl',\n",
       " 'resolut',\n",
       " 'rotation-support',\n",
       " 'satellit galaxi',\n",
       " 'satellit wind',\n",
       " 'single-phas gas',\n",
       " 'sne',\n",
       " 'soft x-ray emiss',\n",
       " 'star',\n",
       " 'star format',\n",
       " 'star format histori',\n",
       " 'star-form prescript',\n",
       " 'stellar',\n",
       " 'stellar feedback',\n",
       " 'stellar kinemat',\n",
       " 'stellar mass',\n",
       " 'stellar mass loss',\n",
       " 'stellar morpholog',\n",
       " 'stellar profil',\n",
       " 'stellar surfac densiti',\n",
       " 'subgrid metal diffus',\n",
       " \"sunyaev-zel'dovich\",\n",
       " 'sz flux',\n",
       " 'thermal equilibrium',\n",
       " \"thermal sunyaev-zel'dovich effect\",\n",
       " 'toomr mass',\n",
       " 'ultim fate of thecgm',\n",
       " 'veloc width',\n",
       " 'virial',\n",
       " 'visual morpholog',\n",
       " 'wind',\n",
       " 'x-ray',\n",
       " 'x-ray luminos',\n",
       " 'z=0.25',\n",
       " 'z=2',\n",
       " 'zoom-in',\n",
       " '{ \\\\textgreat } 1e10 msun halo',\n",
       " '{ \\\\textgreat } { \\\\~ { } } 1e11 msun halo',\n",
       " '{ \\\\textless } 1e12 msun halo',\n",
       " '{ \\\\textless } { \\\\~ { } } 1e12 msun halo',\n",
       " '{ \\\\~ { } } 1e11 msun halo'}"
      ]
     },
     "execution_count": 61,
     "metadata": {},
     "output_type": "execute_result"
    }
   ],
   "source": [
    "a.get_unique_key_concepts()"
   ]
  },
  {
   "cell_type": "markdown",
   "metadata": {},
   "source": [
    "# Retrieve Metadata"
   ]
  },
  {
   "cell_type": "code",
   "execution_count": 1,
   "metadata": {},
   "outputs": [],
   "source": [
    "import publication"
   ]
  },
  {
   "cell_type": "code",
   "execution_count": 2,
   "metadata": {},
   "outputs": [],
   "source": [
    "p = publication.Publication( 'Hafen2019' )"
   ]
  },
  {
   "cell_type": "code",
   "execution_count": 3,
   "metadata": {},
   "outputs": [
    {
     "data": {
      "text/plain": [
       "{'ENTRYTYPE': 'article',\n",
       " 'ID': 'Hafen2019',\n",
       " 'abstract': 'We use a particle tracking analysis to study the origins of the circumgalactic medium (CGM), separating it into (1) accretion from the intergalactic medium (IGM), (2) wind from the central galaxy, and (3) gas ejected from other galaxies. Our sample consists of 21 FIRE-2 simulations, spanning the halo mass range Mh ∼ 1010–1012 M⊙, and we focus on z = 0.25 and z = 2. Owing to strong stellar feedback, only ∼L⋆ haloes retain a baryon mass {\\\\$}\\\\backslashgtrsim\\\\backslash! 50\\\\backslashhbox{\\\\{} per cent{\\\\}}{\\\\$} of their cosmic budget. Metals are more efficiently retained by haloes, with a retention fraction {\\\\$}\\\\backslashgtrsim\\\\backslash! 50\\\\backslashhbox{\\\\{} per cent{\\\\}}{\\\\$}. Across all masses and redshifts analysed {\\\\$}\\\\backslashgtrsim \\\\backslash!60\\\\backslashhbox{\\\\{} per cent{\\\\}}{\\\\$} of the CGM mass originates as IGM accretion (some of which is associated with infalling haloes). Overall, the second most important contribution is wind from the central galaxy, though gas ejected or stripped from satellites can contribute a comparable mass in ∼L⋆ haloes. Gas can persist in the CGM for billions of years, resulting in well mixed-halo gas. Sightlines through the CGM are therefore likely to intersect gas of multiple origins. For low-redshift ∼L⋆ haloes, cool gas (T {\\\\textless} 104.7 K) is distributed on average preferentially along the galaxy plane, however with strong halo-to-halo variability. The metallicity of IGM accretion is systematically lower than the metallicity of winds (typically by ≳1 dex), although CGM and IGM metallicities depend significantly on the treatment of subgrid metal diffusion. Our results highlight the multiple physical mechanisms that contribute to the CGM and will inform observational efforts to develop a cohesive picture.',\n",
       " 'archiveprefix': 'arXiv',\n",
       " 'arxivid': '1811.11753',\n",
       " 'author': \"Hafen, Zachary and Faucher-Gigu{\\\\`{e}}re, Claude-Andr{\\\\'{e}} and Angl{\\\\'{e}}s-Alc{\\\\'{a}}zar, Daniel and Stern, Jonathan and Kere{\\\\v{s}}, Du{\\\\v{s}}an and Hummels, Cameron and Esmerian, Clarke and Garrison-Kimmel, Shea and El-Badry, Kareem and Wetzel, Andrew and Chan, T. K. and Hopkins, Philip F. and Murray, Norman\",\n",
       " 'doi': '10.1093/mnras/stz1773',\n",
       " 'eprint': '1811.11753',\n",
       " 'file': ':Users/zhafen/Documents/Papers/Galaxies/CGM/Origins{\\\\_}of{\\\\_}the{\\\\_}CGM.pdf:pdf',\n",
       " 'issn': '0035-8711',\n",
       " 'journal': 'MNRAS',\n",
       " 'month': 'sep',\n",
       " 'number': '1',\n",
       " 'pages': '1248--1272',\n",
       " 'title': '{The origins of the circumgalactic medium in the FIRE simulations}',\n",
       " 'url': 'http://arxiv.org/abs/1811.11753 https://academic.oup.com/mnras/article/488/1/1248/5525100',\n",
       " 'volume': '488',\n",
       " 'year': '2019'}"
      ]
     },
     "execution_count": 3,
     "metadata": {},
     "output_type": "execute_result"
    }
   ],
   "source": [
    "p.read_citation( './tests/data/example.bib' )"
   ]
  },
  {
   "cell_type": "code",
   "execution_count": 4,
   "metadata": {},
   "outputs": [
    {
     "data": {
      "text/plain": [
       "<ads.search.Article at 0x10cd7d588>"
      ]
     },
     "execution_count": 4,
     "metadata": {},
     "output_type": "execute_result"
    }
   ],
   "source": [
    "p.get_ads_data( p.citation['eprint'] )"
   ]
  },
  {
   "cell_type": "code",
   "execution_count": 11,
   "metadata": {},
   "outputs": [],
   "source": [
    "import ads"
   ]
  },
  {
   "cell_type": "code",
   "execution_count": null,
   "metadata": {},
   "outputs": [],
   "source": [
    "ads.ExportQuery()"
   ]
  },
  {
   "cell_type": "code",
   "execution_count": 10,
   "metadata": {},
   "outputs": [
    {
     "name": "stderr",
     "output_type": "stream",
     "text": [
      "/Applications/anaconda/envs/py36/lib/python3.6/site-packages/ads/utils.py:31: UserWarning: You are lazy loading attributes via 'bibtex', and so are making multiple calls to the API. This will impact your overall rate limits.\n",
      "  UserWarning,\n",
      "/Applications/anaconda/envs/py36/lib/python3.6/site-packages/ads/search.py:295: UserWarning: bibtex should be queried with ads.ExportQuery(); You will hit API ratelimits very quickly otherwise.\n",
      "  \"hit API ratelimits very quickly otherwise.\", UserWarning)\n"
     ]
    },
    {
     "data": {
      "text/plain": [
       "'@ARTICLE{2019MNRAS.488.1248H,\\n       author = {{Hafen}, Zachary and {Faucher-Gigu{\\\\`e}re}, Claude-Andr{\\\\\\'e} and\\n         {Angl{\\\\\\'e}s-Alc{\\\\\\'a}zar}, Daniel and {Stern}, Jonathan and\\n         {Kere{\\\\v{s}}}, Du{\\\\v{s}}an and {Hummels}, Cameron and\\n         {Esmerian}, Clarke and {Garrison-Kimmel}, Shea and {El-Badry}, Kareem and\\n         {Wetzel}, Andrew and {Chan}, T.~K. and {Hopkins}, Philip F. and\\n         {Murray}, Norman},\\n        title = \"{The origins of the circumgalactic medium in the FIRE simulations}\",\\n      journal = {\\\\mnras},\\n     keywords = {galaxies: evolution, galaxies: formation, galaxies: haloes, galaxies: interactions, intergalactic medium, cosmology: theory, Astrophysics - Astrophysics of Galaxies, Astrophysics - Cosmology and Nongalactic Astrophysics},\\n         year = 2019,\\n        month = sep,\\n       volume = {488},\\n       number = {1},\\n        pages = {1248-1272},\\n          doi = {10.1093/mnras/stz1773},\\narchivePrefix = {arXiv},\\n       eprint = {1811.11753},\\n primaryClass = {astro-ph.GA},\\n       adsurl = {https://ui.adsabs.harvard.edu/abs/2019MNRAS.488.1248H},\\n      adsnote = {Provided by the SAO/NASA Astrophysics Data System}\\n}\\n\\n'"
      ]
     },
     "execution_count": 10,
     "metadata": {},
     "output_type": "execute_result"
    }
   ],
   "source": [
    "p.ads_data.bibtex"
   ]
  },
  {
   "cell_type": "code",
   "execution_count": 5,
   "metadata": {},
   "outputs": [
    {
     "name": "stderr",
     "output_type": "stream",
     "text": [
      "/Applications/anaconda/envs/py36/lib/python3.6/site-packages/ads/utils.py:31: UserWarning: You are lazy loading attributes via 'citation_count', and so are making multiple calls to the API. This will impact your overall rate limits.\n",
      "  UserWarning,\n"
     ]
    },
    {
     "data": {
      "text/plain": [
       "30"
      ]
     },
     "execution_count": 5,
     "metadata": {},
     "output_type": "execute_result"
    }
   ],
   "source": [
    "p.ads_data.citation_count"
   ]
  },
  {
   "cell_type": "code",
   "execution_count": 7,
   "metadata": {},
   "outputs": [
    {
     "name": "stderr",
     "output_type": "stream",
     "text": [
      "/Applications/anaconda/envs/py36/lib/python3.6/site-packages/ads/utils.py:31: UserWarning: You are lazy loading attributes via 'abstract', and so are making multiple calls to the API. This will impact your overall rate limits.\n",
      "  UserWarning,\n"
     ]
    },
    {
     "data": {
      "text/plain": [
       "'We use a particle tracking analysis to study the origins of the circumgalactic medium (CGM), separating it into (1) accretion from the intergalactic medium (IGM), (2) wind from the central galaxy, and (3) gas ejected from other galaxies. Our sample consists of 21 FIRE-2 simulations, spanning the halo mass range M<SUB>h</SUB> ∼ 10<SUP>10</SUP>-10<SUP>12</SUP> M<SUB>☉</SUB>, and we focus on z = 0.25 and z = 2. Owing to strong stellar feedback, only ∼L<SUP>⋆</SUP> haloes retain a baryon mass ≳ 50 per cent of their cosmic budget. Metals are more efficiently retained by haloes, with a retention fraction ≳ 50 per cent. Across all masses and redshifts analysed ≳ 60 per cent of the CGM mass originates as IGM accretion (some of which is associated with infalling haloes). Overall, the second most important contribution is wind from the central galaxy, though gas ejected or stripped from satellites can contribute a comparable mass in ∼L<SUP>⋆</SUP> haloes. Gas can persist in the CGM for billions of years, resulting in well mixed-halo gas. Sightlines through the CGM are therefore likely to intersect gas of multiple origins. For low-redshift ∼L<SUP>⋆</SUP> haloes, cool gas (T &lt; 10<SUP>4.7</SUP> K) is distributed on average preferentially along the galaxy plane, however with strong halo-to-halo variability. The metallicity of IGM accretion is systematically lower than the metallicity of winds (typically by ≳1 dex), although CGM and IGM metallicities depend significantly on the treatment of subgrid metal diffusion. Our results highlight the multiple physical mechanisms that contribute to the CGM and will inform observational efforts to develop a cohesive picture.'"
      ]
     },
     "execution_count": 7,
     "metadata": {},
     "output_type": "execute_result"
    }
   ],
   "source": [
    "p.ads_data.abstract"
   ]
  },
  {
   "cell_type": "code",
   "execution_count": 18,
   "metadata": {},
   "outputs": [],
   "source": [
    "a = 'dog [cat] bird, reptile. ! [human]'"
   ]
  },
  {
   "cell_type": "code",
   "execution_count": 30,
   "metadata": {},
   "outputs": [
    {
     "name": "stderr",
     "output_type": "stream",
     "text": [
      "[autoreload of publication failed: Traceback (most recent call last):\n",
      "  File \"/Applications/anaconda/envs/py36/lib/python3.6/site-packages/IPython/extensions/autoreload.py\", line 247, in check\n",
      "    superreload(m, reload, self.old_objects)\n",
      "  File \"/Users/zhafen/repos/cc/cc/publication.py\", line 135\n",
      "    key_concepts.append( point[\n",
      "                              ^\n",
      "SyntaxError: unexpected EOF while parsing\n",
      "]\n"
     ]
    },
    {
     "data": {
      "text/plain": [
       "8"
      ]
     },
     "execution_count": 30,
     "metadata": {},
     "output_type": "execute_result"
    }
   ],
   "source": [
    "a.find(']')"
   ]
  },
  {
   "cell_type": "code",
   "execution_count": 25,
   "metadata": {},
   "outputs": [
    {
     "data": {
      "text/plain": [
       "27"
      ]
     },
     "execution_count": 25,
     "metadata": {},
     "output_type": "execute_result"
    }
   ],
   "source": [
    "a.find('[', 4+1 )"
   ]
  },
  {
   "cell_type": "code",
   "execution_count": 26,
   "metadata": {},
   "outputs": [
    {
     "data": {
      "text/plain": [
       "-1"
      ]
     },
     "execution_count": 26,
     "metadata": {},
     "output_type": "execute_result"
    }
   ],
   "source": [
    "a.find('[', 27+1 )"
   ]
  },
  {
   "cell_type": "code",
   "execution_count": 31,
   "metadata": {},
   "outputs": [
    {
     "data": {
      "text/plain": [
       "'cat'"
      ]
     },
     "execution_count": 31,
     "metadata": {},
     "output_type": "execute_result"
    }
   ],
   "source": [
    "a[4+1:8]"
   ]
  },
  {
   "cell_type": "code",
   "execution_count": 22,
   "metadata": {},
   "outputs": [
    {
     "data": {
      "text/plain": [
       "[['dog '], ['cat', ' bird, reptile. ! '], ['human', '']]"
      ]
     },
     "execution_count": 22,
     "metadata": {},
     "output_type": "execute_result"
    }
   ],
   "source": [
    "[ _.split(']') for _ in a.split( '[' ) ]"
   ]
  },
  {
   "cell_type": "code",
   "execution_count": 8,
   "metadata": {},
   "outputs": [
    {
     "data": {
      "text/plain": [
       "{'limit': '5000', 'remaining': '4985', 'reset': '1585948908'}"
      ]
     },
     "execution_count": 8,
     "metadata": {},
     "output_type": "execute_result"
    }
   ],
   "source": [
    "# Show how many more calls we can make to ADS today.\n",
    "p.ads_query.response.get_ratelimits()"
   ]
  },
  {
   "cell_type": "markdown",
   "metadata": {},
   "source": [
    "# Scratch Below"
   ]
  },
  {
   "cell_type": "code",
   "execution_count": 2,
   "metadata": {},
   "outputs": [],
   "source": [
    "import numpy as np\n",
    "import nltk"
   ]
  },
  {
   "cell_type": "code",
   "execution_count": 3,
   "metadata": {},
   "outputs": [],
   "source": [
    "test_file = './tests/data/arxiv_source/Hafen2019/CGM_origin.tex'"
   ]
  },
  {
   "cell_type": "code",
   "execution_count": 4,
   "metadata": {},
   "outputs": [],
   "source": [
    "lines = []\n",
    "with open( test_file ) as f:\n",
    "    for line in f:\n",
    "        lines.append( line )  "
   ]
  },
  {
   "cell_type": "markdown",
   "metadata": {},
   "source": [
    "Create code for loading in a paper and:\n",
    "* Cleaning out comments\n",
    "* Dividing into sections\n",
    "* Putting the results into nltk.Text classes"
   ]
  },
  {
   "cell_type": "code",
   "execution_count": 35,
   "metadata": {},
   "outputs": [],
   "source": [
    "import os"
   ]
  },
  {
   "cell_type": "code",
   "execution_count": 36,
   "metadata": {},
   "outputs": [],
   "source": [
    "os.makedirs( './tests/data/repp/Hafen2019' )"
   ]
  },
  {
   "cell_type": "code",
   "execution_count": 25,
   "metadata": {},
   "outputs": [
    {
     "data": {
      "text/plain": [
       "'% LaTeX template for creating an MNRAS paper\\n'"
      ]
     },
     "execution_count": 25,
     "metadata": {},
     "output_type": "execute_result"
    }
   ],
   "source": [
    "lines[2]"
   ]
  },
  {
   "cell_type": "code",
   "execution_count": 31,
   "metadata": {},
   "outputs": [
    {
     "name": "stdout",
     "output_type": "stream",
     "text": [
      "Displaying 1 of 1 matches:\n",
      "                                    dog cat cat\n"
     ]
    }
   ],
   "source": [
    "nltk.text.Text( ['dog cat', 'cat' ] ).concordance( 'dog cat' )"
   ]
  },
  {
   "cell_type": "code",
   "execution_count": 22,
   "metadata": {},
   "outputs": [
    {
     "data": {
      "text/plain": [
       "<Text: %   L a T e X  ...>"
      ]
     },
     "execution_count": 22,
     "metadata": {},
     "output_type": "execute_result"
    }
   ],
   "source": [
    "out = nltk.text.Text(lines[2])\n",
    "out"
   ]
  },
  {
   "cell_type": "code",
   "execution_count": 23,
   "metadata": {},
   "outputs": [
    {
     "name": "stdout",
     "output_type": "stream",
     "text": [
      "Displaying 2 of 2 matches:\n",
      "                                       m p l a t e   f o r   c r e a t i n g\n",
      " t e   f o r   c r e a t i n g   a n   M N R A S   p a p e r \n",
      "\n"
     ]
    }
   ],
   "source": [
    "out.concordance( 'M' )"
   ]
  },
  {
   "cell_type": "code",
   "execution_count": 5,
   "metadata": {},
   "outputs": [
    {
     "name": "stdout",
     "output_type": "stream",
     "text": [
      "*** Introductory Examples for the NLTK Book ***\n",
      "Loading text1, ..., text9 and sent1, ..., sent9\n",
      "Type the name of the text or sentence to view it.\n",
      "Type: 'texts()' or 'sents()' to list the materials.\n",
      "text1: Moby Dick by Herman Melville 1851\n",
      "text2: Sense and Sensibility by Jane Austen 1811\n",
      "text3: The Book of Genesis\n",
      "text4: Inaugural Address Corpus\n",
      "text5: Chat Corpus\n",
      "text6: Monty Python and the Holy Grail\n",
      "text7: Wall Street Journal\n",
      "text8: Personals Corpus\n",
      "text9: The Man Who Was Thursday by G . K . Chesterton 1908\n"
     ]
    }
   ],
   "source": [
    "nltkm nltk.book import *"
   ]
  },
  {
   "cell_type": "code",
   "execution_count": 7,
   "metadata": {},
   "outputs": [
    {
     "name": "stdout",
     "output_type": "stream",
     "text": [
      "Displaying 19 of 19 matches:\n",
      " himself all over like a Newfoundland dog just from the water , and sat up in b\n",
      "mpkin dandy -- a fellow that , in the dog - days , will mow his two acres in bu\n",
      "s or more he was seen swimming like a dog , throwing his long arms straight out\n",
      "to the filling one at last .-- Down , dog , and kennel !\" Starting at the unfor\n",
      "ned , \" I will not tamely be called a dog , sir .\" \" Then be called ten times a\n",
      " how ' s that ? didn ' t he call me a dog ? blazes ! he called me ten times a d\n",
      "dwinter sacrifice of the sacred White Dog was by far the holiest festival of th\n",
      "the same sort of life that lives in a dog or a horse . Indeed , in other respec\n",
      "wers to the sagacious kindness of the dog ? The accursed shark alone can in any\n",
      "ats . \" The ungracious and ungrateful dog !\" cried Starbuck ; \" he mocks and da\n",
      "e whisper --\" Give way , greyhounds ! Dog to it !\" \" I tell ye what it is , men\n",
      " the same respect to the whale that a dog does to the elephant ; nevertheless ,\n",
      "e ' s Aries , or the Ram -- lecherous dog , he begets us ; then , Taurus , or t\n",
      "ere , is Dr . Bunger . ( Bunger , you dog , laugh out ! why don ' t ye ? You kn\n",
      "ie , you ought to die in pickle , you dog ; you should be preserved to future a\n",
      "ingly walking round Ahab , and like a dog , strangely snuffing ; \" this man ' s\n",
      "e negro lad , five feet high , hang - dog look , and cowardly ! Jumped from a w\n",
      "p the sea air as a sagacious ship ' s dog will , in drawing nigh to some barbar\n",
      "inspecting the compass , and then the dog - vane , and then ascertaining the pr\n"
     ]
    }
   ],
   "source": [
    "text1.concordance( 'dog' )"
   ]
  },
  {
   "cell_type": "code",
   "execution_count": null,
   "metadata": {},
   "outputs": [],
   "source": [
    "nltk.text.Text"
   ]
  }
 ],
 "metadata": {
  "kernelspec": {
   "display_name": "Python 3",
   "language": "python",
   "name": "python3"
  },
  "language_info": {
   "codemirror_mode": {
    "name": "ipython",
    "version": 3
   },
   "file_extension": ".py",
   "mimetype": "text/x-python",
   "name": "python",
   "nbconvert_exporter": "python",
   "pygments_lexer": "ipython3",
   "version": "3.6.7"
  }
 },
 "nbformat": 4,
 "nbformat_minor": 4
}
