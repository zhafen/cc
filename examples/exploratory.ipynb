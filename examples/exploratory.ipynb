{
 "cells": [
  {
   "cell_type": "markdown",
   "metadata": {},
   "source": [
    "# Atlas Exploration"
   ]
  },
  {
   "cell_type": "code",
   "execution_count": 9,
   "metadata": {},
   "outputs": [],
   "source": [
    "import cc.atlas as atlas"
   ]
  },
  {
   "cell_type": "code",
   "execution_count": 10,
   "metadata": {},
   "outputs": [],
   "source": [
    "a = atlas.Atlas( './atlas', bibtex_fp='../cc/tests/data/example_atlas/example.bib' )"
   ]
  },
  {
   "cell_type": "code",
   "execution_count": 11,
   "metadata": {},
   "outputs": [
    {
     "data": {
      "text/plain": [
       "Dict, {\n",
       "'VandeVoort2018a' : None,\n",
       "'Stern2018' : None,\n",
       "'Howk2017' : None,\n",
       "'Garrison-kimmel2017' : None,\n",
       "'Hopkins2017' : None,\n",
       "'Hafen2016' : None,\n",
       "'Muratov2016' : None,\n",
       "'VandeVoort2016' : None,\n",
       "'Hafen2019' : None,\n",
       "'Hafen2019a' : None,\n",
       "}"
      ]
     },
     "execution_count": 11,
     "metadata": {},
     "output_type": "execute_result"
    }
   ],
   "source": [
    "a.data.process_bibtex_annotations()"
   ]
  },
  {
   "cell_type": "code",
   "execution_count": 12,
   "metadata": {},
   "outputs": [
    {
     "data": {
      "text/plain": [
       "Dict, {\n",
       "'VandeVoort2018a' : [['cosmological simulations', 'deuterium abundance', 'hydrodynamic cosmological simulations', 'zoom-in', 'stellar mass loss', 'FIRE simulations', 'gas-phase deuterium abundance'], ['FIRE simulations', 'deuterium abundance', 'chemical evolution', 'analytical chemical evolution models'], ['oxygen abundance', 'deuterium abundance'], ['deuterium fraction', 'FIRE simulations', 'primordial deuterium fraction'], ['metallicity', 'deuterium fraction', 'stellar mass loss', 'intermediate-mass stars'], ['star formation history', 'deuterium fraction', 'galaxy'], ['deuterium fraction', 'FIRE simulations', 'ISM', 'Milky Way'], ['deuterium abundance', 'star formation', 'inner galaxy', '{\\\\textgreater}{\\\\~{}}1e12 Msun halos', 'stellar mass loss'], ['deuterium abundance', 'deuterium fraction', 'ISM', 'primordial deuterium abundance', 'inflows', 'winds', 'IGM accretion']],\n",
       "'Stern2018' : [['absorption', 'O VI column', 'observable properties', 'O VI', 'CGM', 'column ratio', 'outer CGM', 'velocity width', 'H I to O VI column ratio', 'H I', 'differential extinction', 'low-ion absorption'], ['photo-ionized', 'CGM', 'outer CGM', 'observable properties', 'collisionally-ionized'], ['CGM', 'outer CGM', 'multiphase CGM gas', 'observable properties', 'collisionally-ionized'], ['single-phase gas', 'photo-ionized', 'CGM', 'metallicity', 'outer CGM', 'thermal equilibrium', 'baryon fractions', 'observable properties'], ['O VI', 'photo-ionized', 'CGM', 'line widths', 'outer CGM', 'O VI line widths', 'origin of O VI'], ['photo-ionized', 'CGM', 'column ratio', 'outer CGM', 'accretion shock']],\n",
       "'Howk2017' : [['HST survey', 'M31', 'HST', 'CGM', 'AMIGA'], ['21-cm emission', 'H I column', 'H I'], ['M31', 'cosmological simulations', 'CGM', 'zoom-in', 'H I column', 'COS-Halos', 'covering fraction', 'H I']],\n",
       "'Garrison-kimmel2017' : [['L* galaxies', 'compact galaxies', 'morphology', 'extended disks', 'kinematics', 'FIRE-2 simulations'], ['L* galaxies', 'z=0', 'rotation-supported', 'galaxy gas mass', 'FIRE-2 simulations'], ['L* galaxies', 'stellar', 'stellar morphology', 'stellar surface density', 'stellar kinematics'], ['stellar morphology', 'galaxy gas evolution', 'dark matter initial conditions', 'stellar', 'stellar kinematics'], ['morphology', 'stellar morphology', 'CGM', 'CGM gas rotation', 'galaxy']],\n",
       "'Hopkins2017' : [['cosmological simulations', 'hydrodynamic cosmological simulations', 'zoom-in', 'GIZMO', 'FIRE simulations', 'FIRE-2 simulations'], ['FIRE simulations', 'FIRE-2 simulations'], ['metal-line cooling', 'cosmological simulations', 'star formation', 'star-formation prescription', 'Hydrodynamic cosmological simulations', 'cooling prescription', 'chemistry prescription'], ['feedback', 'Toomre masses', 'SNe'], ['stellar masses', 'visual morphologies', 'CGM', 'stellar profiles', 'metal abundances', 'resolution', 'winds'], ['central mass concentration', 'hot halos', 'winds'], ['star formation', 'stellar masses', 'feedback', 'cosmological timescales', 'SNe', 'instantaneous star formation', 'radiative feedback', '{\\\\textless}1e12 Msun halos', 'stellar mass loss']],\n",
       "'Hafen2016' : [['wind', 'satellite galaxies', 'cosmological simulations', 'hydrodynamic cosmological simulations', 'CGM', 'zoom-in', 'inflows', 'galactic wind', 'low-redshift', 'dense CGM gas', 'FIRE simulations', 'LLS'], ['FIRE simulations', '1e12 Msun halos', 'LLS', '1e10 Msun halos'], ['low-redshift', 'H I columns', 'FIRE simulations', 'cosmological H I columns', 'H I'], ['radial velocity', 'LLS', 'outflows', 'metallicity', 'inflows', 'FIRE simulations'], ['recycling', 'inflows', 'Metal-enriched inflows', 'winds', 'galactic winds'], ['bimodality', 'LLS', 'cosmological LLS metallicity distribution', 'LLS metallicity distribution']],\n",
       "'Muratov2016' : [['CGM', '1e9 Msun halos', '1e12 Msun halos', 'FIRE simulations', 'metal'], ['wind', 'metals', 'high-redshift galaxies', 'galaxies', 'CGM', 'high-redshift'], ['ISM metallicity', 'outflows', 'CGM', 'ISM', 'metallicity'], ['inner CGM', 'CGM', 'outer CGM', 'outflow', 'outflow rate'], ['inner CGM', 'CGM', 'metallicity', 'outer CGM', 'inflows', 'outflow'], ['Cooling', 'recycling', 'CGM', 'ISM metal budget', 'metal budget'], ['outflows', 'CGM', 'metallicity', '1e12 Msun halos', 'low-redshift'], ['{\\\\textless}{\\\\~{}}1e11 Msun halos', 'outflows', 'low-redshift', 'metallicity'], ['z=0', 'metal fraction', '{\\\\textgreater}1e10 Msun halos', 'metal budget'], ['stars', 'CGM', 'COS-halos', 'ISM', 'FIRE simulations', 'metal budget']],\n",
       "'VandeVoort2016' : [[\"Sunyaev-Zel'dovich\", 'CGM', 'FIRE', 'soft X-ray emission', 'stellar feedback', \"thermal Sunyaev-Zel'dovich effect\", 'feedback', 'observable properties'], ['baryon fraction', 'black hole feedback', 'X-ray luminosity', 'FIRE', 'SZ flux', 'feedback', 'SZ'], ['wind', 'future observations', 'X-ray', 'galactic wind', 'SZ', '{\\\\textless}{\\\\~{}}1e12 Msun halos'], ['{\\\\textless}{\\\\~{}}1e11 Msun halos', 'baryon fraction', 'SZ'], ['wind', 'SFR', 'X-ray luminosity', 'galactic wind', '{\\\\textless}{\\\\~{}}1e12 Msun halos'], ['{\\\\textgreater}{\\\\~{}}1e13 Msun halos', 'virialized', 'X-ray luminosity', 'hot halo', 'quasi-hydrostatic', 'hydrostatic']],\n",
       "'Hafen2019' : [['satellite wind', 'CGM', 'origins of the CGM', 'galactic wind', 'IGM accretion', 'FIRE-2 simulations', 'particle-tracking'], ['stellar feedback', 'baryon budget', 'L* halos'], ['metal budget'], ['CGM', 'IGM accretion'], ['CGM', 'galactic wind'], ['satellite wind', 'CGM', 'L* halos'], ['CGM', 'lifetime', 'hot halo'], ['L* halos', 'cool CGM gas', 'low-redshift', 'halo-to-halo variability', 'galaxy plane'], ['metallicity', 'subgrid metal diffusion', 'IGM accretion', 'winds']],\n",
       "'Hafen2019a' : [['CGM', 'fate of the CGM', 'ultimate fate of the CGM', 'z=0.25', 'FIRE-2 simulations', 'z=2', 'proximate fate of the CGM'], ['IGM', 'z=0', 'ejected', '{\\\\~{}}1e11 Msun halos', 'stars', '{\\\\textless}1e11 Msun halos', 'CGM', 'ISM', 'z=2', 'galaxy', 'central galaxy'], ['CGM', 'z=0', 'z=0.25'], ['L* halos', 'hot mode accretion', 'CGM', 'cold mode accretion', 'hot CGM gas', 'accretion', 'cool CGM gas', 'z=0.25', 'z=2', 'galaxy', 'central galaxy'], ['{\\\\textgreater}{\\\\~{}}1e11 Msun halos', 'CGM', 'cool CGM gas', 'z=0.25', 'accretion onto a galaxy', 'z=2', 'galaxy'], ['metallicity', 'CGM', 'fate of the CGM', 'origin of the CGM']],\n",
       "}"
      ]
     },
     "execution_count": 12,
     "metadata": {},
     "output_type": "execute_result"
    }
   ],
   "source": [
    "a.key_concepts"
   ]
  },
  {
   "cell_type": "code",
   "execution_count": 13,
   "metadata": {},
   "outputs": [
    {
     "data": {
      "text/plain": [
       "{'1e10 Msun halos',\n",
       " '1e12 Msun halos',\n",
       " '1e9 Msun halos',\n",
       " '21-cm emission',\n",
       " 'AMIGA',\n",
       " 'CGM',\n",
       " 'CGM gas rotation',\n",
       " 'COS-Halos',\n",
       " 'COS-halos',\n",
       " 'Cooling',\n",
       " 'FIRE',\n",
       " 'FIRE simulations',\n",
       " 'FIRE-2 simulations',\n",
       " 'GIZMO',\n",
       " 'H I',\n",
       " 'H I column',\n",
       " 'H I columns',\n",
       " 'H I to O VI column ratio',\n",
       " 'HST',\n",
       " 'HST survey',\n",
       " 'Hydrodynamic cosmological simulations',\n",
       " 'IGM',\n",
       " 'IGM accretion',\n",
       " 'ISM',\n",
       " 'ISM metal budget',\n",
       " 'ISM metallicity',\n",
       " 'L* galaxies',\n",
       " 'L* halos',\n",
       " 'LLS',\n",
       " 'LLS metallicity distribution',\n",
       " 'M31',\n",
       " 'Metal-enriched inflows',\n",
       " 'Milky Way',\n",
       " 'O VI',\n",
       " 'O VI column',\n",
       " 'O VI line widths',\n",
       " 'SFR',\n",
       " 'SNe',\n",
       " 'SZ',\n",
       " 'SZ flux',\n",
       " \"Sunyaev-Zel'dovich\",\n",
       " 'Toomre masses',\n",
       " 'X-ray',\n",
       " 'X-ray luminosity',\n",
       " 'absorption',\n",
       " 'accretion',\n",
       " 'accretion onto a galaxy',\n",
       " 'accretion shock',\n",
       " 'analytical chemical evolution models',\n",
       " 'baryon budget',\n",
       " 'baryon fraction',\n",
       " 'baryon fractions',\n",
       " 'bimodality',\n",
       " 'black hole feedback',\n",
       " 'central galaxy',\n",
       " 'central mass concentration',\n",
       " 'chemical evolution',\n",
       " 'chemistry prescription',\n",
       " 'cold mode accretion',\n",
       " 'collisionally-ionized',\n",
       " 'column ratio',\n",
       " 'compact galaxies',\n",
       " 'cool CGM gas',\n",
       " 'cooling prescription',\n",
       " 'cosmological H I columns',\n",
       " 'cosmological LLS metallicity distribution',\n",
       " 'cosmological simulations',\n",
       " 'cosmological timescales',\n",
       " 'covering fraction',\n",
       " 'dark matter initial conditions',\n",
       " 'dense CGM gas',\n",
       " 'deuterium abundance',\n",
       " 'deuterium fraction',\n",
       " 'differential extinction',\n",
       " 'ejected',\n",
       " 'extended disks',\n",
       " 'fate of the CGM',\n",
       " 'feedback',\n",
       " 'future observations',\n",
       " 'galactic wind',\n",
       " 'galactic winds',\n",
       " 'galaxies',\n",
       " 'galaxy',\n",
       " 'galaxy gas evolution',\n",
       " 'galaxy gas mass',\n",
       " 'galaxy plane',\n",
       " 'gas-phase deuterium abundance',\n",
       " 'halo-to-halo variability',\n",
       " 'high-redshift',\n",
       " 'high-redshift galaxies',\n",
       " 'hot CGM gas',\n",
       " 'hot halo',\n",
       " 'hot halos',\n",
       " 'hot mode accretion',\n",
       " 'hydrodynamic cosmological simulations',\n",
       " 'hydrostatic',\n",
       " 'inflows',\n",
       " 'inner CGM',\n",
       " 'inner galaxy',\n",
       " 'instantaneous star formation',\n",
       " 'intermediate-mass stars',\n",
       " 'kinematics',\n",
       " 'lifetime',\n",
       " 'line widths',\n",
       " 'low-ion absorption',\n",
       " 'low-redshift',\n",
       " 'metal',\n",
       " 'metal abundances',\n",
       " 'metal budget',\n",
       " 'metal fraction',\n",
       " 'metal-line cooling',\n",
       " 'metallicity',\n",
       " 'metals',\n",
       " 'morphology',\n",
       " 'multiphase CGM gas',\n",
       " 'observable properties',\n",
       " 'origin of O VI',\n",
       " 'origin of the CGM',\n",
       " 'origins of the CGM',\n",
       " 'outer CGM',\n",
       " 'outflow',\n",
       " 'outflow rate',\n",
       " 'outflows',\n",
       " 'oxygen abundance',\n",
       " 'particle-tracking',\n",
       " 'photo-ionized',\n",
       " 'primordial deuterium abundance',\n",
       " 'primordial deuterium fraction',\n",
       " 'proximate fate of the CGM',\n",
       " 'quasi-hydrostatic',\n",
       " 'radial velocity',\n",
       " 'radiative feedback',\n",
       " 'recycling',\n",
       " 'resolution',\n",
       " 'rotation-supported',\n",
       " 'satellite galaxies',\n",
       " 'satellite wind',\n",
       " 'single-phase gas',\n",
       " 'soft X-ray emission',\n",
       " 'star formation',\n",
       " 'star formation history',\n",
       " 'star-formation prescription',\n",
       " 'stars',\n",
       " 'stellar',\n",
       " 'stellar feedback',\n",
       " 'stellar kinematics',\n",
       " 'stellar mass loss',\n",
       " 'stellar masses',\n",
       " 'stellar morphology',\n",
       " 'stellar profiles',\n",
       " 'stellar surface density',\n",
       " 'subgrid metal diffusion',\n",
       " \"thermal Sunyaev-Zel'dovich effect\",\n",
       " 'thermal equilibrium',\n",
       " 'ultimate fate of the CGM',\n",
       " 'velocity width',\n",
       " 'virialized',\n",
       " 'visual morphologies',\n",
       " 'wind',\n",
       " 'winds',\n",
       " 'z=0',\n",
       " 'z=0.25',\n",
       " 'z=2',\n",
       " 'zoom-in',\n",
       " '{\\\\textgreater}1e10 Msun halos',\n",
       " '{\\\\textgreater}{\\\\~{}}1e11 Msun halos',\n",
       " '{\\\\textgreater}{\\\\~{}}1e12 Msun halos',\n",
       " '{\\\\textgreater}{\\\\~{}}1e13 Msun halos',\n",
       " '{\\\\textless}1e11 Msun halos',\n",
       " '{\\\\textless}1e12 Msun halos',\n",
       " '{\\\\textless}{\\\\~{}}1e11 Msun halos',\n",
       " '{\\\\textless}{\\\\~{}}1e12 Msun halos',\n",
       " '{\\\\~{}}1e11 Msun halos'}"
      ]
     },
     "execution_count": 13,
     "metadata": {},
     "output_type": "execute_result"
    }
   ],
   "source": [
    "a.all_key_concepts"
   ]
  },
  {
   "cell_type": "code",
   "execution_count": 14,
   "metadata": {},
   "outputs": [
    {
     "data": {
      "text/plain": [
       "{'1e9 msun halo',\n",
       " '21-cm emiss',\n",
       " 'absorpt',\n",
       " 'accret',\n",
       " 'accret onto a galaxi',\n",
       " 'accret shock',\n",
       " 'amiga',\n",
       " 'analyt chemic evolut model',\n",
       " 'baryon budget',\n",
       " 'baryon fraction',\n",
       " 'bimod',\n",
       " 'black hole feedback',\n",
       " 'central galaxi',\n",
       " 'central mass concentr',\n",
       " 'cgm gas rotat',\n",
       " 'chemic evolut',\n",
       " 'chemistri prescript',\n",
       " 'cold mode accret',\n",
       " 'collisionally-ion',\n",
       " 'column ratio',\n",
       " 'compact galaxi',\n",
       " 'cool',\n",
       " 'cool cgm gas',\n",
       " 'cool prescript',\n",
       " 'cos-halo',\n",
       " 'cosmolog h i column',\n",
       " 'cosmolog lls metal distribut',\n",
       " 'cosmolog simul',\n",
       " 'cosmolog timescal',\n",
       " 'cover fraction',\n",
       " 'dark matter initi condit',\n",
       " 'dens cgm gas',\n",
       " 'deuterium abund',\n",
       " 'deuterium fraction',\n",
       " 'differenti extinct',\n",
       " 'eject',\n",
       " 'extend disk',\n",
       " 'fate of the cgm',\n",
       " 'feedback',\n",
       " 'fire',\n",
       " 'fire simul',\n",
       " 'futur observ',\n",
       " 'galact wind',\n",
       " 'galaxi',\n",
       " 'galaxi gas evolut',\n",
       " 'galaxi gas mass',\n",
       " 'galaxi plane',\n",
       " 'gas-phas deuterium abund',\n",
       " 'gizmo',\n",
       " 'h i column',\n",
       " 'h i to o vi column ratio',\n",
       " 'halo-to-halo variabl',\n",
       " 'high-redshift',\n",
       " 'high-redshift galaxi',\n",
       " 'hot cgm gas',\n",
       " 'hot halo',\n",
       " 'hot mode accret',\n",
       " 'hst survey',\n",
       " 'hydrodynam cosmolog simul',\n",
       " 'hydrostat',\n",
       " 'igm accret',\n",
       " 'inflow',\n",
       " 'inner cgm',\n",
       " 'inner galaxi',\n",
       " 'instantan star format',\n",
       " 'intermediate-mass star',\n",
       " 'ism',\n",
       " 'ism metal',\n",
       " 'ism metal budget',\n",
       " 'kinemat',\n",
       " 'l* galaxi',\n",
       " 'l* halo',\n",
       " 'lifetim',\n",
       " 'line width',\n",
       " 'lls',\n",
       " 'lls metal distribut',\n",
       " 'low-ion absorpt',\n",
       " 'low-redshift',\n",
       " 'm31',\n",
       " 'metal',\n",
       " 'metal abund',\n",
       " 'metal budget',\n",
       " 'metal fraction',\n",
       " 'metal-enrich inflow',\n",
       " 'metal-lin cool',\n",
       " 'milki way',\n",
       " 'morpholog',\n",
       " 'multiphas cgm gas',\n",
       " 'o vi',\n",
       " 'o vi line width',\n",
       " 'observ properti',\n",
       " 'origin of o vi',\n",
       " 'origin of the cgm',\n",
       " 'outer cgm',\n",
       " 'outflow',\n",
       " 'outflow rate',\n",
       " 'oxygen abund',\n",
       " 'particle-track',\n",
       " 'photo-ion',\n",
       " 'primordi deuterium abund',\n",
       " 'primordi deuterium fraction',\n",
       " 'proxim fate of the cgm',\n",
       " 'quasi-hydrostat',\n",
       " 'radial veloc',\n",
       " 'radiat feedback',\n",
       " 'recycl',\n",
       " 'resolut',\n",
       " 'rotation-support',\n",
       " 'satellit galaxi',\n",
       " 'satellit wind',\n",
       " 'single-phas gas',\n",
       " 'sne',\n",
       " 'soft x-ray emiss',\n",
       " 'star',\n",
       " 'star format',\n",
       " 'star format histori',\n",
       " 'star-form prescript',\n",
       " 'stellar',\n",
       " 'stellar feedback',\n",
       " 'stellar kinemat',\n",
       " 'stellar mass',\n",
       " 'stellar mass loss',\n",
       " 'stellar morpholog',\n",
       " 'stellar profil',\n",
       " 'stellar surfac densiti',\n",
       " 'subgrid metal diffus',\n",
       " \"sunyaev-zel'dovich\",\n",
       " 'sz',\n",
       " 'sz flux',\n",
       " 'thermal equilibrium',\n",
       " \"thermal sunyaev-zel'dovich effect\",\n",
       " 'toomr mass',\n",
       " 'ultim fate of the cgm',\n",
       " 'veloc width',\n",
       " 'virial',\n",
       " 'visual morpholog',\n",
       " 'wind',\n",
       " 'x-ray',\n",
       " 'x-ray luminos',\n",
       " 'z=0.25',\n",
       " 'z=2',\n",
       " 'zoom-in',\n",
       " '{ \\\\textgreat } 1e10 msun halo',\n",
       " '{ \\\\textgreat } { \\\\~ { } } 1e13 msun halo',\n",
       " '{ \\\\textless } 1e11 msun halo',\n",
       " '{ \\\\textless } { \\\\~ { } } 1e12 msun halo',\n",
       " '{ \\\\~ { } } 1e11 msun halo'}"
      ]
     },
     "execution_count": 14,
     "metadata": {},
     "output_type": "execute_result"
    }
   ],
   "source": [
    "a.get_unique_key_concepts()"
   ]
  },
  {
   "cell_type": "code",
   "execution_count": 15,
   "metadata": {},
   "outputs": [],
   "source": [
    "d, paragraph = a.concept_search( 'recycling' )"
   ]
  },
  {
   "cell_type": "code",
   "execution_count": 16,
   "metadata": {},
   "outputs": [
    {
     "name": "stdout",
     "output_type": "stream",
     "text": [
      "\\cite{Hafen2016}: [Metal-enriched [inflows]] can occure do to [recycling] of [galactic [winds]].\n",
      "\\cite{Muratov2016}: [Cooling] and [recycling] from the [CGM] constrain the [ISM [metal budget]].\n",
      "\n"
     ]
    }
   ],
   "source": [
    "print( paragraph )"
   ]
  },
  {
   "cell_type": "markdown",
   "metadata": {},
   "source": [
    "# Scratch Below"
   ]
  },
  {
   "cell_type": "code",
   "execution_count": null,
   "metadata": {},
   "outputs": [],
   "source": [
    "import numpy as np\n",
    "import nltk"
   ]
  },
  {
   "cell_type": "code",
   "execution_count": null,
   "metadata": {},
   "outputs": [],
   "source": [
    "test_file = './tests/data/arxiv_source/Hafen2019/CGM_origin.tex'"
   ]
  },
  {
   "cell_type": "code",
   "execution_count": null,
   "metadata": {},
   "outputs": [],
   "source": [
    "lines = []\n",
    "with open( test_file ) as f:\n",
    "    for line in f:\n",
    "        lines.append( line )  "
   ]
  },
  {
   "cell_type": "markdown",
   "metadata": {},
   "source": [
    "Create code for loading in a paper and:\n",
    "* Cleaning out comments\n",
    "* Dividing into sections\n",
    "* Putting the results into nltk.Text classes"
   ]
  },
  {
   "cell_type": "code",
   "execution_count": null,
   "metadata": {},
   "outputs": [],
   "source": [
    "import os"
   ]
  },
  {
   "cell_type": "code",
   "execution_count": null,
   "metadata": {},
   "outputs": [],
   "source": [
    "os.makedirs( './tests/data/repp/Hafen2019' )"
   ]
  },
  {
   "cell_type": "code",
   "execution_count": null,
   "metadata": {},
   "outputs": [],
   "source": [
    "lines[2]"
   ]
  },
  {
   "cell_type": "code",
   "execution_count": null,
   "metadata": {},
   "outputs": [],
   "source": [
    "nltk.text.Text( ['dog cat', 'cat' ] ).concordance( 'dog cat' )"
   ]
  },
  {
   "cell_type": "code",
   "execution_count": null,
   "metadata": {},
   "outputs": [],
   "source": [
    "out = nltk.text.Text(lines[2])\n",
    "out"
   ]
  },
  {
   "cell_type": "code",
   "execution_count": null,
   "metadata": {},
   "outputs": [],
   "source": [
    "out.concordance( 'M' )"
   ]
  },
  {
   "cell_type": "code",
   "execution_count": null,
   "metadata": {},
   "outputs": [],
   "source": [
    "nltkm nltk.book import *"
   ]
  },
  {
   "cell_type": "code",
   "execution_count": null,
   "metadata": {},
   "outputs": [],
   "source": [
    "text1.concordance( 'dog' )"
   ]
  },
  {
   "cell_type": "code",
   "execution_count": null,
   "metadata": {},
   "outputs": [],
   "source": [
    "nltk.text.Text"
   ]
  }
 ],
 "metadata": {
  "kernelspec": {
   "display_name": "Python 3",
   "language": "python",
   "name": "python3"
  },
  "language_info": {
   "codemirror_mode": {
    "name": "ipython",
    "version": 3
   },
   "file_extension": ".py",
   "mimetype": "text/x-python",
   "name": "python",
   "nbconvert_exporter": "python",
   "pygments_lexer": "ipython3",
   "version": "3.6.7"
  }
 },
 "nbformat": 4,
 "nbformat_minor": 4
}
