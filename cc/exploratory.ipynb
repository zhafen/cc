{
 "cells": [
  {
   "cell_type": "code",
   "execution_count": 2,
   "metadata": {},
   "outputs": [],
   "source": [
    "import numpy as np\n",
    "import nltk"
   ]
  },
  {
   "cell_type": "code",
   "execution_count": 3,
   "metadata": {},
   "outputs": [],
   "source": [
    "test_file = './tests/data/arxiv_source/Hafen2019/CGM_origin.tex'"
   ]
  },
  {
   "cell_type": "code",
   "execution_count": 4,
   "metadata": {},
   "outputs": [],
   "source": [
    "lines = []\n",
    "with open( test_file ) as f:\n",
    "    for line in f:\n",
    "        lines.append( line )  "
   ]
  },
  {
   "cell_type": "markdown",
   "metadata": {},
   "source": [
    "Create code for loading in a paper and:\n",
    "* Cleaning out comments\n",
    "* Dividing into sections\n",
    "* Putting the results into nltk.Text classes"
   ]
  },
  {
   "cell_type": "code",
   "execution_count": 35,
   "metadata": {},
   "outputs": [],
   "source": [
    "import os"
   ]
  },
  {
   "cell_type": "code",
   "execution_count": 36,
   "metadata": {},
   "outputs": [],
   "source": [
    "os.makedirs( './tests/data/repp/Hafen2019' )"
   ]
  },
  {
   "cell_type": "code",
   "execution_count": 25,
   "metadata": {},
   "outputs": [
    {
     "data": {
      "text/plain": [
       "'% LaTeX template for creating an MNRAS paper\\n'"
      ]
     },
     "execution_count": 25,
     "metadata": {},
     "output_type": "execute_result"
    }
   ],
   "source": [
    "lines[2]"
   ]
  },
  {
   "cell_type": "code",
   "execution_count": 31,
   "metadata": {},
   "outputs": [
    {
     "name": "stdout",
     "output_type": "stream",
     "text": [
      "Displaying 1 of 1 matches:\n",
      "                                    dog cat cat\n"
     ]
    }
   ],
   "source": [
    "nltk.text.Text( ['dog cat', 'cat' ] ).concordance( 'dog cat' )"
   ]
  },
  {
   "cell_type": "code",
   "execution_count": 22,
   "metadata": {},
   "outputs": [
    {
     "data": {
      "text/plain": [
       "<Text: %   L a T e X  ...>"
      ]
     },
     "execution_count": 22,
     "metadata": {},
     "output_type": "execute_result"
    }
   ],
   "source": [
    "out = nltk.text.Text(lines[2])\n",
    "out"
   ]
  },
  {
   "cell_type": "code",
   "execution_count": 23,
   "metadata": {},
   "outputs": [
    {
     "name": "stdout",
     "output_type": "stream",
     "text": [
      "Displaying 2 of 2 matches:\n",
      "                                       m p l a t e   f o r   c r e a t i n g\n",
      " t e   f o r   c r e a t i n g   a n   M N R A S   p a p e r \n",
      "\n"
     ]
    }
   ],
   "source": [
    "out.concordance( 'M' )"
   ]
  },
  {
   "cell_type": "code",
   "execution_count": 5,
   "metadata": {},
   "outputs": [
    {
     "name": "stdout",
     "output_type": "stream",
     "text": [
      "*** Introductory Examples for the NLTK Book ***\n",
      "Loading text1, ..., text9 and sent1, ..., sent9\n",
      "Type the name of the text or sentence to view it.\n",
      "Type: 'texts()' or 'sents()' to list the materials.\n",
      "text1: Moby Dick by Herman Melville 1851\n",
      "text2: Sense and Sensibility by Jane Austen 1811\n",
      "text3: The Book of Genesis\n",
      "text4: Inaugural Address Corpus\n",
      "text5: Chat Corpus\n",
      "text6: Monty Python and the Holy Grail\n",
      "text7: Wall Street Journal\n",
      "text8: Personals Corpus\n",
      "text9: The Man Who Was Thursday by G . K . Chesterton 1908\n"
     ]
    }
   ],
   "source": [
    "nltkm nltk.book import *"
   ]
  },
  {
   "cell_type": "code",
   "execution_count": 7,
   "metadata": {},
   "outputs": [
    {
     "name": "stdout",
     "output_type": "stream",
     "text": [
      "Displaying 19 of 19 matches:\n",
      " himself all over like a Newfoundland dog just from the water , and sat up in b\n",
      "mpkin dandy -- a fellow that , in the dog - days , will mow his two acres in bu\n",
      "s or more he was seen swimming like a dog , throwing his long arms straight out\n",
      "to the filling one at last .-- Down , dog , and kennel !\" Starting at the unfor\n",
      "ned , \" I will not tamely be called a dog , sir .\" \" Then be called ten times a\n",
      " how ' s that ? didn ' t he call me a dog ? blazes ! he called me ten times a d\n",
      "dwinter sacrifice of the sacred White Dog was by far the holiest festival of th\n",
      "the same sort of life that lives in a dog or a horse . Indeed , in other respec\n",
      "wers to the sagacious kindness of the dog ? The accursed shark alone can in any\n",
      "ats . \" The ungracious and ungrateful dog !\" cried Starbuck ; \" he mocks and da\n",
      "e whisper --\" Give way , greyhounds ! Dog to it !\" \" I tell ye what it is , men\n",
      " the same respect to the whale that a dog does to the elephant ; nevertheless ,\n",
      "e ' s Aries , or the Ram -- lecherous dog , he begets us ; then , Taurus , or t\n",
      "ere , is Dr . Bunger . ( Bunger , you dog , laugh out ! why don ' t ye ? You kn\n",
      "ie , you ought to die in pickle , you dog ; you should be preserved to future a\n",
      "ingly walking round Ahab , and like a dog , strangely snuffing ; \" this man ' s\n",
      "e negro lad , five feet high , hang - dog look , and cowardly ! Jumped from a w\n",
      "p the sea air as a sagacious ship ' s dog will , in drawing nigh to some barbar\n",
      "inspecting the compass , and then the dog - vane , and then ascertaining the pr\n"
     ]
    }
   ],
   "source": [
    "text1.concordance( 'dog' )"
   ]
  },
  {
   "cell_type": "code",
   "execution_count": null,
   "metadata": {},
   "outputs": [],
   "source": [
    "nltk.text.Text"
   ]
  }
 ],
 "metadata": {
  "kernelspec": {
   "display_name": "Python 3",
   "language": "python",
   "name": "python3"
  },
  "language_info": {
   "codemirror_mode": {
    "name": "ipython",
    "version": 3
   },
   "file_extension": ".py",
   "mimetype": "text/x-python",
   "name": "python",
   "nbconvert_exporter": "python",
   "pygments_lexer": "ipython3",
   "version": "3.6.7"
  }
 },
 "nbformat": 4,
 "nbformat_minor": 4
}
