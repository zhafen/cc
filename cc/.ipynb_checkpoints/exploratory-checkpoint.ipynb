{
 "cells": [
  {
   "cell_type": "markdown",
   "metadata": {},
   "source": [
    "# Retrieve Metadata"
   ]
  },
  {
   "cell_type": "code",
   "execution_count": 4,
   "metadata": {},
   "outputs": [],
   "source": [
    "import publication"
   ]
  },
  {
   "cell_type": "code",
   "execution_count": 5,
   "metadata": {},
   "outputs": [],
   "source": [
    "p = publication.Publication( 'Hafen2019' )"
   ]
  },
  {
   "cell_type": "code",
   "execution_count": 6,
   "metadata": {
    "collapsed": true,
    "jupyter": {
     "outputs_hidden": true
    }
   },
   "outputs": [
    {
     "data": {
      "text/plain": [
       "{'ENTRYTYPE': 'article',\n",
       " 'ID': 'Hafen2019',\n",
       " 'abstract': 'We use a particle tracking analysis to study the origins of the circumgalactic medium (CGM), separating it into (1) accretion from the intergalactic medium (IGM), (2) wind from the central galaxy, and (3) gas ejected from other galaxies. Our sample consists of 21 FIRE-2 simulations, spanning the halo mass range Mh ∼ 1010–1012 M⊙, and we focus on z = 0.25 and z = 2. Owing to strong stellar feedback, only ∼L⋆ haloes retain a baryon mass {\\\\$}\\\\backslashgtrsim\\\\backslash! 50\\\\backslashhbox{\\\\{} per cent{\\\\}}{\\\\$} of their cosmic budget. Metals are more efficiently retained by haloes, with a retention fraction {\\\\$}\\\\backslashgtrsim\\\\backslash! 50\\\\backslashhbox{\\\\{} per cent{\\\\}}{\\\\$}. Across all masses and redshifts analysed {\\\\$}\\\\backslashgtrsim \\\\backslash!60\\\\backslashhbox{\\\\{} per cent{\\\\}}{\\\\$} of the CGM mass originates as IGM accretion (some of which is associated with infalling haloes). Overall, the second most important contribution is wind from the central galaxy, though gas ejected or stripped from satellites can contribute a comparable mass in ∼L⋆ haloes. Gas can persist in the CGM for billions of years, resulting in well mixed-halo gas. Sightlines through the CGM are therefore likely to intersect gas of multiple origins. For low-redshift ∼L⋆ haloes, cool gas (T {\\\\textless} 104.7 K) is distributed on average preferentially along the galaxy plane, however with strong halo-to-halo variability. The metallicity of IGM accretion is systematically lower than the metallicity of winds (typically by ≳1 dex), although CGM and IGM metallicities depend significantly on the treatment of subgrid metal diffusion. Our results highlight the multiple physical mechanisms that contribute to the CGM and will inform observational efforts to develop a cohesive picture.',\n",
       " 'archiveprefix': 'arXiv',\n",
       " 'arxivid': '1811.11753',\n",
       " 'author': \"Hafen, Zachary and Faucher-Gigu{\\\\`{e}}re, Claude-Andr{\\\\'{e}} and Angl{\\\\'{e}}s-Alc{\\\\'{a}}zar, Daniel and Stern, Jonathan and Kere{\\\\v{s}}, Du{\\\\v{s}}an and Hummels, Cameron and Esmerian, Clarke and Garrison-Kimmel, Shea and El-Badry, Kareem and Wetzel, Andrew and Chan, T. K. and Hopkins, Philip F. and Murray, Norman\",\n",
       " 'doi': '10.1093/mnras/stz1773',\n",
       " 'eprint': '1811.11753',\n",
       " 'file': ':Users/zhafen/Documents/Papers/Galaxies/CGM/Origins{\\\\_}of{\\\\_}the{\\\\_}CGM.pdf:pdf',\n",
       " 'issn': '0035-8711',\n",
       " 'journal': 'MNRAS',\n",
       " 'month': 'sep',\n",
       " 'number': '1',\n",
       " 'pages': '1248--1272',\n",
       " 'title': '{The origins of the circumgalactic medium in the FIRE simulations}',\n",
       " 'url': 'http://arxiv.org/abs/1811.11753 https://academic.oup.com/mnras/article/488/1/1248/5525100',\n",
       " 'volume': '488',\n",
       " 'year': '2019'}"
      ]
     },
     "execution_count": 6,
     "metadata": {},
     "output_type": "execute_result"
    }
   ],
   "source": [
    "p.read_citation( './tests/data/example.bib' )"
   ]
  },
  {
   "cell_type": "code",
   "execution_count": 16,
   "metadata": {},
   "outputs": [
    {
     "data": {
      "text/plain": [
       "<ads.search.Article at 0x10f1f24a8>"
      ]
     },
     "execution_count": 16,
     "metadata": {},
     "output_type": "execute_result"
    }
   ],
   "source": [
    "p.get_ads_data( p.citation['eprint'] )"
   ]
  },
  {
   "cell_type": "code",
   "execution_count": 20,
   "metadata": {},
   "outputs": [
    {
     "name": "stderr",
     "output_type": "stream",
     "text": [
      "/Applications/anaconda/envs/py36/lib/python3.6/site-packages/ads/utils.py:31: UserWarning: You are lazy loading attributes via 'citation_count', and so are making multiple calls to the API. This will impact your overall rate limits.\n",
      "  UserWarning,\n"
     ]
    },
    {
     "data": {
      "text/plain": [
       "30"
      ]
     },
     "execution_count": 20,
     "metadata": {},
     "output_type": "execute_result"
    }
   ],
   "source": [
    "p.ads_data.citation_count"
   ]
  },
  {
   "cell_type": "code",
   "execution_count": 21,
   "metadata": {},
   "outputs": [
    {
     "data": {
      "text/plain": [
       "{'limit': '5000', 'remaining': '4989', 'reset': '1585948909'}"
      ]
     },
     "execution_count": 21,
     "metadata": {},
     "output_type": "execute_result"
    }
   ],
   "source": [
    "# Show how many more calls we can make to ADS today.\n",
    "p.ads_query.response.get_ratelimits()"
   ]
  },
  {
   "cell_type": "markdown",
   "metadata": {},
   "source": [
    "# Scratch Below"
   ]
  },
  {
   "cell_type": "code",
   "execution_count": 2,
   "metadata": {},
   "outputs": [],
   "source": [
    "import numpy as np\n",
    "import nltk"
   ]
  },
  {
   "cell_type": "code",
   "execution_count": 3,
   "metadata": {},
   "outputs": [],
   "source": [
    "test_file = './tests/data/arxiv_source/Hafen2019/CGM_origin.tex'"
   ]
  },
  {
   "cell_type": "code",
   "execution_count": 4,
   "metadata": {},
   "outputs": [],
   "source": [
    "lines = []\n",
    "with open( test_file ) as f:\n",
    "    for line in f:\n",
    "        lines.append( line )  "
   ]
  },
  {
   "cell_type": "markdown",
   "metadata": {},
   "source": [
    "Create code for loading in a paper and:\n",
    "* Cleaning out comments\n",
    "* Dividing into sections\n",
    "* Putting the results into nltk.Text classes"
   ]
  },
  {
   "cell_type": "code",
   "execution_count": 35,
   "metadata": {},
   "outputs": [],
   "source": [
    "import os"
   ]
  },
  {
   "cell_type": "code",
   "execution_count": 36,
   "metadata": {},
   "outputs": [],
   "source": [
    "os.makedirs( './tests/data/repp/Hafen2019' )"
   ]
  },
  {
   "cell_type": "code",
   "execution_count": 25,
   "metadata": {},
   "outputs": [
    {
     "data": {
      "text/plain": [
       "'% LaTeX template for creating an MNRAS paper\\n'"
      ]
     },
     "execution_count": 25,
     "metadata": {},
     "output_type": "execute_result"
    }
   ],
   "source": [
    "lines[2]"
   ]
  },
  {
   "cell_type": "code",
   "execution_count": 31,
   "metadata": {},
   "outputs": [
    {
     "name": "stdout",
     "output_type": "stream",
     "text": [
      "Displaying 1 of 1 matches:\n",
      "                                    dog cat cat\n"
     ]
    }
   ],
   "source": [
    "nltk.text.Text( ['dog cat', 'cat' ] ).concordance( 'dog cat' )"
   ]
  },
  {
   "cell_type": "code",
   "execution_count": 22,
   "metadata": {},
   "outputs": [
    {
     "data": {
      "text/plain": [
       "<Text: %   L a T e X  ...>"
      ]
     },
     "execution_count": 22,
     "metadata": {},
     "output_type": "execute_result"
    }
   ],
   "source": [
    "out = nltk.text.Text(lines[2])\n",
    "out"
   ]
  },
  {
   "cell_type": "code",
   "execution_count": 23,
   "metadata": {},
   "outputs": [
    {
     "name": "stdout",
     "output_type": "stream",
     "text": [
      "Displaying 2 of 2 matches:\n",
      "                                       m p l a t e   f o r   c r e a t i n g\n",
      " t e   f o r   c r e a t i n g   a n   M N R A S   p a p e r \n",
      "\n"
     ]
    }
   ],
   "source": [
    "out.concordance( 'M' )"
   ]
  },
  {
   "cell_type": "code",
   "execution_count": 5,
   "metadata": {},
   "outputs": [
    {
     "name": "stdout",
     "output_type": "stream",
     "text": [
      "*** Introductory Examples for the NLTK Book ***\n",
      "Loading text1, ..., text9 and sent1, ..., sent9\n",
      "Type the name of the text or sentence to view it.\n",
      "Type: 'texts()' or 'sents()' to list the materials.\n",
      "text1: Moby Dick by Herman Melville 1851\n",
      "text2: Sense and Sensibility by Jane Austen 1811\n",
      "text3: The Book of Genesis\n",
      "text4: Inaugural Address Corpus\n",
      "text5: Chat Corpus\n",
      "text6: Monty Python and the Holy Grail\n",
      "text7: Wall Street Journal\n",
      "text8: Personals Corpus\n",
      "text9: The Man Who Was Thursday by G . K . Chesterton 1908\n"
     ]
    }
   ],
   "source": [
    "nltkm nltk.book import *"
   ]
  },
  {
   "cell_type": "code",
   "execution_count": 7,
   "metadata": {},
   "outputs": [
    {
     "name": "stdout",
     "output_type": "stream",
     "text": [
      "Displaying 19 of 19 matches:\n",
      " himself all over like a Newfoundland dog just from the water , and sat up in b\n",
      "mpkin dandy -- a fellow that , in the dog - days , will mow his two acres in bu\n",
      "s or more he was seen swimming like a dog , throwing his long arms straight out\n",
      "to the filling one at last .-- Down , dog , and kennel !\" Starting at the unfor\n",
      "ned , \" I will not tamely be called a dog , sir .\" \" Then be called ten times a\n",
      " how ' s that ? didn ' t he call me a dog ? blazes ! he called me ten times a d\n",
      "dwinter sacrifice of the sacred White Dog was by far the holiest festival of th\n",
      "the same sort of life that lives in a dog or a horse . Indeed , in other respec\n",
      "wers to the sagacious kindness of the dog ? The accursed shark alone can in any\n",
      "ats . \" The ungracious and ungrateful dog !\" cried Starbuck ; \" he mocks and da\n",
      "e whisper --\" Give way , greyhounds ! Dog to it !\" \" I tell ye what it is , men\n",
      " the same respect to the whale that a dog does to the elephant ; nevertheless ,\n",
      "e ' s Aries , or the Ram -- lecherous dog , he begets us ; then , Taurus , or t\n",
      "ere , is Dr . Bunger . ( Bunger , you dog , laugh out ! why don ' t ye ? You kn\n",
      "ie , you ought to die in pickle , you dog ; you should be preserved to future a\n",
      "ingly walking round Ahab , and like a dog , strangely snuffing ; \" this man ' s\n",
      "e negro lad , five feet high , hang - dog look , and cowardly ! Jumped from a w\n",
      "p the sea air as a sagacious ship ' s dog will , in drawing nigh to some barbar\n",
      "inspecting the compass , and then the dog - vane , and then ascertaining the pr\n"
     ]
    }
   ],
   "source": [
    "text1.concordance( 'dog' )"
   ]
  },
  {
   "cell_type": "code",
   "execution_count": null,
   "metadata": {},
   "outputs": [],
   "source": [
    "nltk.text.Text"
   ]
  }
 ],
 "metadata": {
  "kernelspec": {
   "display_name": "Python 3",
   "language": "python",
   "name": "python3"
  },
  "language_info": {
   "codemirror_mode": {
    "name": "ipython",
    "version": 3
   },
   "file_extension": ".py",
   "mimetype": "text/x-python",
   "name": "python",
   "nbconvert_exporter": "python",
   "pygments_lexer": "ipython3",
   "version": "3.6.7"
  }
 },
 "nbformat": 4,
 "nbformat_minor": 4
}
