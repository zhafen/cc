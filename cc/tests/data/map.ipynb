{
 "cells": [
  {
   "cell_type": "code",
   "execution_count": 1,
   "id": "3e198166-af9c-4df1-8ff9-1b3fdfd8e100",
   "metadata": {},
   "outputs": [],
   "source": [
    "import cc.atlas as atlas\n",
    "import cc.cartography as cartography"
   ]
  },
  {
   "cell_type": "code",
   "execution_count": 2,
   "id": "52363468-3289-428f-8fe1-d4300dc77a11",
   "metadata": {},
   "outputs": [],
   "source": [
    "import matplotlib\n",
    "import matplotlib.pyplot as plt\n",
    "matplotlib.style.use( '~/repos/clean-bold/clean-bold.mplstyle' )"
   ]
  },
  {
   "cell_type": "markdown",
   "id": "6435736a-d898-4b64-b45e-96f2b4e3cfc8",
   "metadata": {},
   "source": [
    "# Load Data"
   ]
  },
  {
   "cell_type": "code",
   "execution_count": 3,
   "id": "3ae0419b-c90c-44e6-9d2d-e0e4f2f6332c",
   "metadata": {},
   "outputs": [
    {
     "name": "stderr",
     "output_type": "stream",
     "text": [
      "/Users/zhafen/repos/verdict/verdict.py:1404: FutureWarning: Using a non-tuple sequence for multidimensional indexing is deprecated; use `arr[tuple(seq)]` instead of `arr[seq]`. In the future this will be interpreted as an array index, `arr[np.array(seq)]`, which will result either in an error or a different result.\n",
      "  if hasattr( a[first_element_index][0], 'decode' ):\n"
     ]
    }
   ],
   "source": [
    "fp = '../data/realistic_atlas/projection_for_testing.h5'\n",
    "c = cartography.Cartographer.from_hdf5( fp )\n",
    "map_fp = '../data/realistic_atlas/map.h5'"
   ]
  },
  {
   "cell_type": "code",
   "execution_count": 28,
   "id": "86af4605-4c7c-47f3-8963-8775c07fd6d1",
   "metadata": {},
   "outputs": [],
   "source": [
    "central_publication = 'Hafen2019'"
   ]
  },
  {
   "cell_type": "code",
   "execution_count": 5,
   "id": "c8611e30-fae7-4f4c-b8bc-cdaf7f8ee66c",
   "metadata": {},
   "outputs": [],
   "source": [
    "import numpy as np\n",
    "central_publication = np.random.choice( c.publications )"
   ]
  },
  {
   "cell_type": "markdown",
   "id": "c61f273d-7748-4544-b3c5-34f1c0a0170a",
   "metadata": {},
   "source": [
    "# Plot Map"
   ]
  },
  {
   "cell_type": "code",
   "execution_count": 37,
   "id": "340ba0ba-92e6-475c-8d92-f646ac6a34f0",
   "metadata": {
    "tags": []
   },
   "outputs": [
    {
     "name": "stderr",
     "output_type": "stream",
     "text": [
      "/Users/zhafen/repos/cc/cc/cartography.py:1246: RuntimeWarning: invalid value encountered in arccos\n",
      "  d_matrix = np.arccos( self.cospsi_matrix )\n"
     ]
    },
    {
     "name": "stdout",
     "output_type": "stream",
     "text": [
      "Sorting....\n"
     ]
    },
    {
     "name": "stderr",
     "output_type": "stream",
     "text": [
      "100%|██████████| 3877/3877 [00:00<00:00, 8476.39it/s] \n"
     ]
    },
    {
     "name": "stdout",
     "output_type": "stream",
     "text": [
      "1%\n",
      "10%\n",
      "20%\n",
      "30%\n",
      "40%\n",
      "50%\n",
      "60%\n",
      "70%\n",
      "80%\n",
      "90%\n",
      "100%\n"
     ]
    }
   ],
   "source": [
    "data = c.map(\n",
    "    central_publication,\n",
    "    save_filepath = map_fp,\n",
    "#     overwrite = True,\n",
    "#     max_links = 6,\n",
    "#     max_searched = 10,\n",
    ")"
   ]
  },
  {
   "cell_type": "code",
   "execution_count": 36,
   "id": "5655dab4-f70d-4dc9-a0d1-6535cdecc443",
   "metadata": {},
   "outputs": [],
   "source": [
    "central_publication = 'Yu2019'"
   ]
  },
  {
   "cell_type": "code",
   "execution_count": 38,
   "id": "bf6507e0-3335-439b-a797-8c20cc7916d9",
   "metadata": {},
   "outputs": [
    {
     "data": {
      "image/png": "[encoded data removed]",
      "text/plain": [
       "<Figure size 1050x787.5 with 1 Axes>"
      ]
     },
     "metadata": {},
     "output_type": "display_data"
    }
   ],
   "source": [
    "ax, (coords, inds, pairs) = c.plot_map(\n",
    "    central_publication,\n",
    "    data = data,\n",
    "    scatter = False,\n",
    "    scatter_kwargs = { 'alpha': 0.1 },\n",
    "    histogram = True,\n",
    "    range = [ -2.5, 2.5 ],\n",
    "#     labels = True,\n",
    ")\n",
    "\n",
    "# hist, x_edges, y_edges, img = ax.hist2d(\n",
    "#     coords[:,0],\n",
    "#     coords[:,1],\n",
    "#     bins = np.linspace( -1, 1, 128 ),\n",
    "#     norm = matplotlib.colors.LogNorm(),\n",
    "# )\n",
    "\n",
    "# ax.set_xlim( -0.05, 0.05 )\n",
    "# ax.set_ylim( -0.05, 0.05 )\n",
    "\n",
    "# ax.get_figure()"
   ]
  },
  {
   "cell_type": "code",
   "execution_count": 8,
   "id": "e977ecab-adea-45e0-bc90-2139a61bb740",
   "metadata": {},
   "outputs": [],
   "source": [
    "import numpy as np"
   ]
  },
  {
   "cell_type": "code",
   "execution_count": 9,
   "id": "6f730e0b-3e3e-4918-bb48-56e7f8d97f9c",
   "metadata": {},
   "outputs": [
    {
     "name": "stderr",
     "output_type": "stream",
     "text": [
      "<ipython-input-9-844b63abea0b>:1: RuntimeWarning: invalid value encountered in arccos\n",
      "  d_matrix = np.arccos( c.cospsi_matrix )\n"
     ]
    }
   ],
   "source": [
    "d_matrix = np.arccos( c.cospsi_matrix )\n",
    "d_med = np.nanmedian( d_matrix )\n",
    "d_std = np.nanstd( d_matrix )\n",
    "d_matrix = np.exp( ( d_matrix - d_med ) / d_std )\n",
    "n_p = len( c.publications )\n",
    "d_matrix[np.arange(n_p),np.arange(n_p)] = 0."
   ]
  },
  {
   "cell_type": "code",
   "execution_count": 10,
   "id": "47c4c23a-cae9-4f81-897e-140dee325555",
   "metadata": {},
   "outputs": [
    {
     "data": {
      "text/plain": [
       "('2018GeoRL..45.1086K', '2020JCli...33.1209L')"
      ]
     },
     "execution_count": 10,
     "metadata": {},
     "output_type": "execute_result"
    }
   ],
   "source": [
    "m = 2\n",
    "i = inds[m]\n",
    "i_center = inds[0]\n",
    "c.publications[i], c.publications[i_center]"
   ]
  },
  {
   "cell_type": "code",
   "execution_count": 11,
   "id": "7e1c2928-4357-4f02-b214-63428c3344c7",
   "metadata": {},
   "outputs": [],
   "source": [
    "import scipy.spatial.distance"
   ]
  },
  {
   "cell_type": "code",
   "execution_count": 12,
   "id": "e1fc99d3-3f93-4cd7-8d55-b7c2bf957eed",
   "metadata": {},
   "outputs": [],
   "source": [
    "plotted_distances = scipy.spatial.distance.cdist( coords, coords ).flatten()\n",
    "actual_distances = d_matrix.flatten()"
   ]
  },
  {
   "cell_type": "code",
   "execution_count": 13,
   "id": "0fd76dd8-5a8d-4eca-b923-7bd886402293",
   "metadata": {},
   "outputs": [
    {
     "name": "stderr",
     "output_type": "stream",
     "text": [
      "<ipython-input-13-2a3e930543c9>:1: RuntimeWarning: divide by zero encountered in log\n",
      "  plotted_cospsi = np.cos( d_std * np.log( plotted_distances ) + d_med )\n",
      "<ipython-input-13-2a3e930543c9>:1: RuntimeWarning: invalid value encountered in cos\n",
      "  plotted_cospsi = np.cos( d_std * np.log( plotted_distances ) + d_med )\n",
      "<ipython-input-13-2a3e930543c9>:2: RuntimeWarning: divide by zero encountered in log\n",
      "  actual_cospsi = np.cos( d_std * np.log( actual_distances ) + d_med )\n",
      "<ipython-input-13-2a3e930543c9>:2: RuntimeWarning: invalid value encountered in cos\n",
      "  actual_cospsi = np.cos( d_std * np.log( actual_distances ) + d_med )\n"
     ]
    }
   ],
   "source": [
    "plotted_cospsi = np.cos( d_std * np.log( plotted_distances ) + d_med )\n",
    "actual_cospsi = np.cos( d_std * np.log( actual_distances ) + d_med )"
   ]
  },
  {
   "cell_type": "code",
   "execution_count": 14,
   "id": "f09d8505-0ff7-461c-ae63-b9eee507094b",
   "metadata": {},
   "outputs": [],
   "source": [
    "import scipy.stats"
   ]
  },
  {
   "cell_type": "code",
   "execution_count": 15,
   "id": "8f346815-5689-4c9c-8a22-982aa670feb9",
   "metadata": {},
   "outputs": [],
   "source": [
    "valid = np.invert( np.isnan( actual_cospsi ) | np.isnan( plotted_cospsi ) )\n",
    "valid_inds = np.arange( actual_cospsi.size )[valid]"
   ]
  },
  {
   "cell_type": "code",
   "execution_count": 20,
   "id": "af6cc3c5-692c-4c9f-9fd9-e6120ff81f65",
   "metadata": {},
   "outputs": [],
   "source": [
    "bins = np.linspace( 0, np.nanpercentile( actual_distances, 99 ), 128 )\n",
    "median = scipy.stats.binned_statistic(\n",
    "    actual_distances[valid_inds],\n",
    "    plotted_distances[valid_inds],\n",
    "    statistic = 'median',\n",
    "    bins = bins,\n",
    ")\n",
    "low = scipy.stats.binned_statistic(\n",
    "    actual_distances[valid_inds],\n",
    "    plotted_distances[valid_inds],\n",
    "    statistic = lambda x: np.percentile( x, 16. ),\n",
    "    bins = bins,\n",
    ")\n",
    "high = scipy.stats.binned_statistic(\n",
    "    actual_distances[valid_inds],\n",
    "    plotted_distances[valid_inds],\n",
    "    statistic = lambda x: np.percentile( x, 84. ),\n",
    "    bins = bins,\n",
    ")"
   ]
  },
  {
   "cell_type": "code",
   "execution_count": 21,
   "id": "b538993c-09da-4bf1-adbd-04bbde3c1168",
   "metadata": {},
   "outputs": [],
   "source": [
    "centers = 0.5 * ( bins[:-1] + bins[1:] )"
   ]
  },
  {
   "cell_type": "code",
   "execution_count": 24,
   "id": "1cde36a7-5555-4099-9338-108b66012ef1",
   "metadata": {},
   "outputs": [
    {
     "data": {
      "image/png": "[encoded data removed]",
      "text/plain": [
       "<Figure size 1050x787.5 with 1 Axes>"
      ]
     },
     "metadata": {
      "needs_background": "light"
     },
     "output_type": "display_data"
    }
   ],
   "source": [
    "fig = plt.figure()\n",
    "ax = plt.gca()\n",
    "\n",
    "# ax.hist2d(\n",
    "#     actual_distances,\n",
    "#     plotted_distances,\n",
    "#     bins = np.linspace( 0, 6, 128 ),\n",
    "#     norm = matplotlib.colors.LogNorm(),\n",
    "# )\n",
    "\n",
    "# ax.hist2d(\n",
    "#     actual_cospsi,\n",
    "#     plotted_cospsi,\n",
    "#     bins = np.linspace( 0., 1., 128 ),\n",
    "#     norm = matplotlib.colors.LogNorm(),\n",
    "# )\n",
    "\n",
    "ax.plot(\n",
    "    centers,\n",
    "    median.statistic,\n",
    ")\n",
    "\n",
    "ax.fill_between(\n",
    "    centers,\n",
    "    low.statistic,\n",
    "    high.statistic,\n",
    "    alpha = 0.2,\n",
    ")\n",
    "\n",
    "ax.plot(\n",
    "    [ 0, centers[-1] ],\n",
    "    [ 0, centers[-1] ],\n",
    ")\n",
    "\n",
    "ax.set_xlabel( 'actual distance', fontsize=14 )\n",
    "ax.set_ylabel( 'projected distance', fontsize=14 )\n",
    "\n",
    "\n",
    "ax.set_xlim( 0, centers[-1] )\n",
    "ax.set_ylim( 0, centers[-1] )\n",
    "\n",
    "ax.set_aspect( 'equal' )"
   ]
  },
  {
   "cell_type": "code",
   "execution_count": 27,
   "id": "e20185e9-d3b2-4722-ba49-1a5ba6d5eaf6",
   "metadata": {},
   "outputs": [
    {
     "data": {
      "image/png": "[encoded data removed]",
      "text/plain": [
       "<Figure size 1050x787.5 with 1 Axes>"
      ]
     },
     "metadata": {
      "needs_background": "light"
     },
     "output_type": "display_data"
    }
   ],
   "source": [
    "fig = plt.figure()\n",
    "ax = plt.gca()\n",
    "\n",
    "# ax.hist2d(\n",
    "#     actual_distances,\n",
    "#     plotted_distances,\n",
    "#     bins = np.linspace( 0, 6, 128 ),\n",
    "#     norm = matplotlib.colors.LogNorm(),\n",
    "# )\n",
    "\n",
    "# ax.hist2d(\n",
    "#     actual_cospsi,\n",
    "#     plotted_cospsi,\n",
    "#     bins = np.linspace( 0., 1., 128 ),\n",
    "#     norm = matplotlib.colors.LogNorm(),\n",
    "# )\n",
    "\n",
    "ax.plot(\n",
    "    centers,\n",
    "    median.statistic,\n",
    ")\n",
    "\n",
    "ax.fill_between(\n",
    "    centers,\n",
    "    low.statistic,\n",
    "    high.statistic,\n",
    "    alpha = 0.2,\n",
    ")\n",
    "\n",
    "ax.plot(\n",
    "    [ 0, 1 ],\n",
    "    [ 0, 1 ],\n",
    ")\n",
    "\n",
    "ax.set_xlabel( 'actual similarity', fontsize=14 )\n",
    "ax.set_ylabel( 'projected similarity', fontsize=14 )\n",
    "\n",
    "\n",
    "ax.set_xlim( 0, centers[-1] )\n",
    "ax.set_ylim( 0, centers[-1] )\n",
    "\n",
    "ax.set_aspect( 'equal' )"
   ]
  },
  {
   "cell_type": "markdown",
   "id": "7b476594-c0d0-4a2d-8e0c-5c6a3452a835",
   "metadata": {},
   "source": [
    "# DEBUG"
   ]
  },
  {
   "cell_type": "code",
   "execution_count": 18,
   "id": "1658f821-ce1a-476e-a6f1-ad99ecd2df52",
   "metadata": {},
   "outputs": [],
   "source": [
    "import numpy as np"
   ]
  },
  {
   "cell_type": "code",
   "execution_count": 19,
   "id": "447abe15-6ecc-46a3-a27f-e760d14dc965",
   "metadata": {},
   "outputs": [
    {
     "name": "stderr",
     "output_type": "stream",
     "text": [
      "<ipython-input-19-844b63abea0b>:1: RuntimeWarning: invalid value encountered in arccos\n",
      "  d_matrix = np.arccos( c.cospsi_matrix )\n"
     ]
    }
   ],
   "source": [
    "d_matrix = np.arccos( c.cospsi_matrix )\n",
    "d_med = np.nanmedian( d_matrix )\n",
    "d_std = np.nanstd( d_matrix )\n",
    "d_matrix = np.exp( ( d_matrix - d_med ) / d_std )\n",
    "n_p = len( c.publications )\n",
    "d_matrix[np.arange(n_p),np.arange(n_p)] = 0."
   ]
  },
  {
   "cell_type": "code",
   "execution_count": 28,
   "id": "468cd98c-fb2a-42e5-9e3b-b9ba86b6e0c6",
   "metadata": {},
   "outputs": [
    {
     "data": {
      "text/plain": [
       "('Hafen2020', 'Hafen2019')"
      ]
     },
     "execution_count": 28,
     "metadata": {},
     "output_type": "execute_result"
    }
   ],
   "source": [
    "m = 2\n",
    "i = inds[m]\n",
    "i_center = inds[0]\n",
    "c.publications[i], c.publications[i_center]"
   ]
  },
  {
   "cell_type": "code",
   "execution_count": 35,
   "id": "27a1ea2c-23e3-4a7c-a949-e6705d260ea0",
   "metadata": {},
   "outputs": [
    {
     "data": {
      "text/plain": [
       "858"
      ]
     },
     "execution_count": 35,
     "metadata": {},
     "output_type": "execute_result"
    }
   ],
   "source": [
    "inds[2]"
   ]
  },
  {
   "cell_type": "code",
   "execution_count": 34,
   "id": "f6bacf03-af8a-4c30-a091-3d083144f7d1",
   "metadata": {},
   "outputs": [
    {
     "data": {
      "text/plain": [
       "0.0009928405532651252"
      ]
     },
     "execution_count": 34,
     "metadata": {},
     "output_type": "execute_result"
    }
   ],
   "source": [
    "d_matrix[i_center,i]"
   ]
  },
  {
   "cell_type": "code",
   "execution_count": 29,
   "id": "16d73017-d54a-4229-bd5d-d9d80d31b12c",
   "metadata": {},
   "outputs": [],
   "source": [
    "nan_inds = np.arange( n_p )[np.isnan( coords[:,0] )]"
   ]
  },
  {
   "cell_type": "code",
   "execution_count": 30,
   "id": "813d4175-f909-4259-95e2-4787a8e4d50f",
   "metadata": {},
   "outputs": [
    {
     "data": {
      "text/plain": [
       "array([nan, nan])"
      ]
     },
     "execution_count": 30,
     "metadata": {},
     "output_type": "execute_result"
    }
   ],
   "source": [
    "coords[inds[2]]"
   ]
  },
  {
   "cell_type": "code",
   "execution_count": 31,
   "id": "fd56c68e-c692-4156-bd74-9c213fa38087",
   "metadata": {},
   "outputs": [
    {
     "data": {
      "text/plain": [
       "array([False, False,  True, ...,  True,  True,  True])"
      ]
     },
     "execution_count": 31,
     "metadata": {},
     "output_type": "execute_result"
    }
   ],
   "source": [
    "np.isnan( coords[:,0] )[inds]"
   ]
  },
  {
   "cell_type": "code",
   "execution_count": 32,
   "id": "5deb5a6c-0e8d-4fd5-901c-2d3b32b45ddc",
   "metadata": {},
   "outputs": [
    {
     "ename": "IndexError",
     "evalue": "index 3770 is out of bounds for axis 0 with size 3502",
     "output_type": "error",
     "traceback": [
      "\u001b[0;31m---------------------------------------------------------------------------\u001b[0m",
      "\u001b[0;31mIndexError\u001b[0m                                Traceback (most recent call last)",
      "\u001b[0;32m<ipython-input-32-5396332dcece>\u001b[0m in \u001b[0;36m<module>\u001b[0;34m\u001b[0m\n\u001b[0;32m----> 1\u001b[0;31m \u001b[0mnan_inds\u001b[0m\u001b[0;34m[\u001b[0m\u001b[0minds\u001b[0m\u001b[0;34m]\u001b[0m\u001b[0;34m\u001b[0m\u001b[0;34m\u001b[0m\u001b[0m\n\u001b[0m",
      "\u001b[0;31mIndexError\u001b[0m: index 3770 is out of bounds for axis 0 with size 3502"
     ]
    }
   ],
   "source": [
    "nan_inds[inds]"
   ]
  },
  {
   "cell_type": "markdown",
   "id": "d136d977-cfd4-456d-a6e1-fb5af8dace93",
   "metadata": {},
   "source": [
    "# Profile"
   ]
  },
  {
   "cell_type": "code",
   "execution_count": 4,
   "id": "bded75ac-6667-4f61-869e-47354518edd4",
   "metadata": {},
   "outputs": [],
   "source": [
    "import cProfile\n",
    "import line_profiler"
   ]
  },
  {
   "cell_type": "code",
   "execution_count": 5,
   "id": "a1e5f297-5f42-4287-97bb-4fdf9fce0266",
   "metadata": {},
   "outputs": [],
   "source": [
    "lp = line_profiler.LineProfiler()"
   ]
  },
  {
   "cell_type": "code",
   "execution_count": 6,
   "id": "728d866e-f6e8-4c60-8127-3df0cdc83ce0",
   "metadata": {},
   "outputs": [],
   "source": [
    "lp.add_function( c.map )"
   ]
  },
  {
   "cell_type": "code",
   "execution_count": 7,
   "id": "8e2453ba-ff0b-4f77-985a-db46c8a2be8a",
   "metadata": {},
   "outputs": [],
   "source": [
    "lp.add_function( cartography.generate_map )"
   ]
  },
  {
   "cell_type": "code",
   "execution_count": 5,
   "id": "a4907e95-e130-4d10-b307-85ebb17f8979",
   "metadata": {
    "tags": []
   },
   "outputs": [
    {
     "ename": "NameError",
     "evalue": "name 'lp' is not defined",
     "output_type": "error",
     "traceback": [
      "\u001b[0;31m---------------------------------------------------------------------------\u001b[0m",
      "\u001b[0;31mNameError\u001b[0m                                 Traceback (most recent call last)",
      "\u001b[0;32m<ipython-input-5-52f17c5f782c>\u001b[0m in \u001b[0;36m<module>\u001b[0;34m\u001b[0m\n\u001b[0;32m----> 1\u001b[0;31m lp.run(\n\u001b[0m\u001b[1;32m      2\u001b[0m     \u001b[0;34m'''c.map( 'Hafen2019', save_filepath=map_fp, overwrite=True, )'''\u001b[0m\u001b[0;34m\u001b[0m\u001b[0;34m\u001b[0m\u001b[0m\n\u001b[1;32m      3\u001b[0m )\n",
      "\u001b[0;31mNameError\u001b[0m: name 'lp' is not defined"
     ]
    }
   ],
   "source": [
    "lp.run(\n",
    "    '''c.map( 'Hafen2019', save_filepath=map_fp, overwrite=True, )'''\n",
    ")"
   ]
  },
  {
   "cell_type": "code",
   "execution_count": 9,
   "id": "67e4ac86-6a6e-4f4b-a996-dccd33c4c75d",
   "metadata": {},
   "outputs": [
    {
     "name": "stdout",
     "output_type": "stream",
     "text": [
      "Timer unit: 1e-06 s\n",
      "\n",
      "Total time: 2069.18 s\n",
      "File: /Users/zhafen/repos/cc/cc/cartography.py\n",
      "Function: map at line 1172\n",
      "\n",
      "Line #      Hits         Time  Per Hit   % Time  Line Contents\n",
      "==============================================================\n",
      "  1172                                               def map(\n",
      "  1173                                                   self,\n",
      "  1174                                                   center,\n",
      "  1175                                                   distance_transformation = 'exponential',\n",
      "  1176                                                   max_links = None,\n",
      "  1177                                                   max_searched = None,\n",
      "  1178                                                   save_filepath = None,\n",
      "  1179                                                   overwrite = False,\n",
      "  1180                                                   use_numba = True,\n",
      "  1181                                               ):\n",
      "  1182                                                   '''Generate a map of the publications.\n",
      "  1183                                                   When projecting from an N-dimensional space to a two dimensional space, we can only preserve\n",
      "  1184                                                   two of the distances per publication. The default for the map preserves the distance between\n",
      "  1185                                                   publication i and the central publication, and publication i and the most similar publication.\n",
      "  1186                                           \n",
      "  1187                                                   Args:\n",
      "  1188                                                       center (str):\n",
      "  1189                                                           Citation key for the central publication.\n",
      "  1190                                           \n",
      "  1191                                                       distance_transformation (str):\n",
      "  1192                                                           What are the distances between particles? Options:\n",
      "  1193                                                           'arc length':\n",
      "  1194                                                               arccos( cospsi ), since vectors are normalized to a sphere of radius 1.\n",
      "  1195                                                           'exponential':\n",
      "  1196                                                               exp( ( psi_ij - [median psi] ) / [std psi] )\n",
      "  1197                                           \n",
      "  1198                                                       max_links (int or None):\n",
      "  1199                                                           Maximum number of times an individual publication can be linked to, including\n",
      "  1200                                                           the central publication. Changes the appearance of the map.\n",
      "  1201                                           \n",
      "  1202                                                       save_filepath (str):\n",
      "  1203                                                           Location to save the data at, if given.\n",
      "  1204                                           \n",
      "  1205                                                       overwrite (bool):\n",
      "  1206                                                           If True, overwrite any saved data, otherwise use existing data.\n",
      "  1207                                           \n",
      "  1208                                                       use_numba (bool):\n",
      "  1209                                                           If True, use numba for the calculation.\n",
      "  1210                                                   '''\n",
      "  1211                                                   \n",
      "  1212                                                   # Retrieve saved data, if any\n",
      "  1213         1          7.0      7.0      0.0          if save_filepath is not None:\n",
      "  1214         1       8219.0   8219.0      0.0              save_data = verdict.Dict.from_hdf5( save_filepath, create_nonexistent=True )\n",
      "  1215         1          2.0      2.0      0.0              if not overwrite and ( center in save_data ):\n",
      "  1216                                                           group = save_data[center]\n",
      "  1217                                                           return group['coordinates'], group['ordered indices'], group['pairs']\n",
      "  1218                                           \n",
      "  1219                                                   # Setup relation to central publication\n",
      "  1220         1        107.0    107.0      0.0          i_center = self.inds[center == self.publications][0]\n",
      "  1221         1    5183138.0 5183138.0      0.3          cospsi_0is = self.cospsi_matrix[i_center]\n",
      "  1222         1        274.0    274.0      0.0          sort_inds = np.argsort( cospsi_0is )[::-1]\n",
      "  1223                                           \n",
      "  1224                                                   # Get distances\n",
      "  1225         1     128070.0 128070.0      0.0          d_matrix = np.arccos( self.cospsi_matrix )\n",
      "  1226         1          1.0      1.0      0.0          if distance_transformation == 'arc length':\n",
      "  1227                                                       pass\n",
      "  1228         1          1.0      1.0      0.0          elif distance_transformation == 'exponential':\n",
      "  1229         1     243811.0 243811.0      0.0              d_med = np.nanmedian( d_matrix )\n",
      "  1230         1     113539.0 113539.0      0.0              d_std = np.nanstd( d_matrix )\n",
      "  1231         1     178411.0 178411.0      0.0              d_matrix = np.exp( ( d_matrix - d_med ) / d_std )\n",
      "  1232                                                   else:\n",
      "  1233                                                       raise KeyError( 'Unrecognized distance_transformation, {}'.format( distance_transformation ) )\n",
      "  1234                                                   # Set diagonals to 0\n",
      "  1235         1          6.0      6.0      0.0          n_p = len( self.publications )\n",
      "  1236         1       1018.0   1018.0      0.0          d_matrix[np.arange(n_p),np.arange(n_p)] = 0.\n",
      "  1237                                           \n",
      "  1238                                                   # Build sorted indices matrix\n",
      "  1239         1      14041.0  14041.0      0.0          sort_inds_matrix = np.full( d_matrix.shape, -9999 )\n",
      "  1240         1        162.0    162.0      0.0          print( 'Sorting....' )\n",
      "  1241      4026      28885.0      7.2      0.0          for m, i in enumerate( tqdm( sort_inds ) ):\n",
      "  1242      4025       2904.0      0.7      0.0              if m < 2:\n",
      "  1243         2          2.0      1.0      0.0                  continue\n",
      "  1244      4023      37333.0      9.3      0.0              d_for_sorting = d_matrix[i][sort_inds[:m]]\n",
      "  1245      4023     444800.0    110.6      0.0              sort_inds_matrix[i][:m] = sort_inds[:m][np.argsort( d_for_sorting )]\n",
      "  1246                                           \n",
      "  1247                                                   # Setup data structures\n",
      "  1248         1        121.0    121.0      0.0          coords = np.full( ( n_p, 2 ), fill_value=np.nan )\n",
      "  1249                                                   # mapped_inds = np.full( len( sort_inds ), fill_value=-9999, dtype=int )\n",
      "  1250         1         97.0     97.0      0.0          pairs = np.full( ( n_p, 2 ), fill_value=-9999, dtype=int )\n",
      "  1251         1         13.0     13.0      0.0          n_linked = np.zeros( n_p, dtype=int )\n",
      "  1252                                           \n",
      "  1253                                                   # Input central data\n",
      "  1254         2         95.0     47.5      0.0          coords[i_center,:] = np.array([\n",
      "  1255         1          0.0      0.0      0.0              [ 0., 0., ],\n",
      "  1256                                                   ])\n",
      "  1257         2          5.0      2.5      0.0          coords[sort_inds[1],:] = np.array([\n",
      "  1258         1          2.0      2.0      0.0              [ d_matrix[i_center][sort_inds[1]], 0. ]\n",
      "  1259                                                   ])\n",
      "  1260         1          1.0      1.0      0.0          pairs[sort_inds[1],0] = i_center\n",
      "  1261         1          2.0      2.0      0.0          n_linked[i_center] += 1\n",
      "  1262         1          1.0      1.0      0.0          n_linked[sort_inds[1]] += 1\n",
      "  1263                                           \n",
      "  1264                                           \n",
      "  1265                                                   # Format for function\n",
      "  1266         1          1.0      1.0      0.0          if max_links is None:\n",
      "  1267         1          1.0      1.0      0.0              max_links = -1\n",
      "  1268         1          1.0      1.0      0.0          if max_searched is None:\n",
      "  1269         1          1.0      1.0      0.0              max_searched = -1\n",
      "  1270                                           \n",
      "  1271         1          0.0      0.0      0.0          if use_numba:\n",
      "  1272         1       2149.0   2149.0      0.0              map_fn = numba.njit( generate_map )\n",
      "  1273                                                   else:\n",
      "  1274                                                       map_fn = generate_map\n",
      "  1275                                           \n",
      "  1276         2 2062690223.0 1031345111.5     99.7          coords, mapped_inds, pairs = map_fn(\n",
      "  1277         1          0.0      0.0      0.0              sort_inds,\n",
      "  1278         1          1.0      1.0      0.0              coords,\n",
      "  1279         1          0.0      0.0      0.0              sort_inds_matrix,\n",
      "  1280         1          1.0      1.0      0.0              pairs,\n",
      "  1281         1          1.0      1.0      0.0              n_linked,\n",
      "  1282         1          0.0      0.0      0.0              d_matrix,\n",
      "  1283         1          1.0      1.0      0.0              max_links,\n",
      "  1284         1          0.0      0.0      0.0              max_searched,\n",
      "  1285                                                   )\n",
      "  1286                                           \n",
      "  1287         1         21.0     21.0      0.0          if save_filepath is not None:\n",
      "  1288         1         62.0     62.0      0.0              save_data[center] = {\n",
      "  1289         1          0.0      0.0      0.0                  'coordinates': coords,\n",
      "  1290         1          1.0      1.0      0.0                  'ordered indices': mapped_inds,\n",
      "  1291         1          0.0      0.0      0.0                  'pairs': pairs,\n",
      "  1292                                                       }\n",
      "  1293         1     104589.0 104589.0      0.0              save_data.to_hdf5( save_filepath )\n",
      "  1294                                           \n",
      "  1295         1          1.0      1.0      0.0          return coords, mapped_inds, pairs\n",
      "\n",
      "Total time: 0 s\n",
      "File: /Users/zhafen/repos/cc/cc/cartography.py\n",
      "Function: generate_map at line 1513\n",
      "\n",
      "Line #      Hits         Time  Per Hit   % Time  Line Contents\n",
      "==============================================================\n",
      "  1513                                           def generate_map(\n",
      "  1514                                               sort_inds,\n",
      "  1515                                               coords,\n",
      "  1516                                               sort_inds_matrix,\n",
      "  1517                                               pairs,\n",
      "  1518                                               n_linked,\n",
      "  1519                                               d_matrix,\n",
      "  1520                                               max_links,\n",
      "  1521                                               max_searched,\n",
      "  1522                                           ):\n",
      "  1523                                           \n",
      "  1524                                               percentile_mult = 5\n",
      "  1525                                               n_print = 100 // percentile_mult + 1\n",
      "  1526                                               print_progress = len( sort_inds ) > n_print\n",
      "  1527                                               if print_progress:\n",
      "  1528                                                   percentile_int = len( sort_inds[2:] ) // percentile_mult\n",
      "  1529                                           \n",
      "  1530                                               for m, i in enumerate( sort_inds[2:] ):\n",
      "  1531                                           \n",
      "  1532                                                   if print_progress:\n",
      "  1533                                                       if m % percentile_int == 0:\n",
      "  1534                                                           print( str( m // percentile_int * percentile_mult ) + '%' )\n",
      "  1535                                           \n",
      "  1536                                                   # Because we start at sort_inds[2]\n",
      "  1537                                                   m_i = m + 2\n",
      "  1538                                           \n",
      "  1539                                                   sort_inds_for_j = sort_inds_matrix[i,:m_i]\n",
      "  1540                                                   sort_inds_for_k = sort_inds[:m_i]\n",
      "  1541                                           \n",
      "  1542                                                   # Shorten, if necessary\n",
      "  1543                                                   if max_searched != -1:\n",
      "  1544                                                       if len( sort_inds_for_j ) > max_searched:\n",
      "  1545                                                           sort_inds_for_j = sort_inds_for_j[:max_searched]\n",
      "  1546                                                       if len( sort_inds_for_k ) > max_searched:\n",
      "  1547                                                           sort_inds_for_k = sort_inds_for_k[:max_searched]\n",
      "  1548                                           \n",
      "  1549                                                   # Omit publications linked too much\n",
      "  1550                                                   if max_links != -1:\n",
      "  1551                                           \n",
      "  1552                                                       n_linked_k = n_linked[sort_inds_for_k]\n",
      "  1553                                                       if np.sum( n_linked_k ) == max_links * len( n_linked_k ):\n",
      "  1554                                                           print(\n",
      "  1555                                                               'No available publications to link to.' + \\\n",
      "  1556                                                               'Increasing number of max links allowed from ' + \\\n",
      "  1557                                                               str( max_links ) + ' to ' + str( max_links + 1 )\n",
      "  1558                                                           )\n",
      "  1559                                                           max_links += 1\n",
      "  1560                                           \n",
      "  1561                                                       sort_inds_for_j = sort_inds_for_j[n_linked[sort_inds_for_j] < max_links]\n",
      "  1562                                                       sort_inds_for_k = sort_inds_for_k[n_linked_k < max_links]\n",
      "  1563                                           \n",
      "  1564                                                   valid_pairs_may_exist = (\n",
      "  1565                                                       ( len( sort_inds_for_j ) > 0 ) &\n",
      "  1566                                                       ( len( sort_inds_for_k ) > 0 )\n",
      "  1567                                                   )\n",
      "  1568                                                   two_valid_pairs = False\n",
      "  1569                                                   if valid_pairs_may_exist:\n",
      "  1570                                                       for m_k, k in enumerate( sort_inds_for_k ):\n",
      "  1571                                                           for m_j, j in enumerate( sort_inds_for_j ):\n",
      "  1572                                           \n",
      "  1573                                                               # Skip duplicates\n",
      "  1574                                                               if j == k:\n",
      "  1575                                                                   continue\n",
      "  1576                                           \n",
      "  1577                                                               # Get distances\n",
      "  1578                                                               d_ij = d_matrix[i,j]\n",
      "  1579                                                               d_ik = d_matrix[i,k]\n",
      "  1580                                                               # Important to use actual distance here,\n",
      "  1581                                                               # because distance between j and k may not be preserved\n",
      "  1582                                                               r_kj = coords[j] - coords[k]\n",
      "  1583                                                               d_jk = ( r_kj[0]**2. + r_kj[1]**2. )**0.5\n",
      "  1584                                           \n",
      "  1585                                                               if d_ij + d_ik > d_jk:\n",
      "  1586                                                                   two_valid_pairs = True\n",
      "  1587                                                                   break\n",
      "  1588                                           \n",
      "  1589                                                           if two_valid_pairs:\n",
      "  1590                                                               break\n",
      "  1591                                           \n",
      "  1592                                                   # Most common case, where we can find a way to preserve two distances\n",
      "  1593                                                   if two_valid_pairs:\n",
      "  1594                                           \n",
      "  1595                                                       # Calculate directions parallel and perpendicular to r_kj (vector between j and k)\n",
      "  1596                                                       parallel_hat = r_kj / d_jk\n",
      "  1597                                                       perpendicular_hat = np.array([ -parallel_hat[1], parallel_hat[0] ])\n",
      "  1598                                           \n",
      "  1599                                                       # Calculate angle of publication i relative to r_kj\n",
      "  1600                                                       costhetak = ( d_ik**2. + d_jk**2. - d_ij**2. ) / ( 2. * d_ik * d_jk )\n",
      "  1601                                           \n",
      "  1602                                                       # coord i components\n",
      "  1603                                                       r_ki_llel = d_ik * costhetak * parallel_hat \n",
      "  1604                                                       r_ki_perp = d_ik * ( 1. - costhetak**2. )**0.5 * perpendicular_hat\n",
      "  1605                                                       coords_i_a = coords[k] + r_ki_llel + r_ki_perp\n",
      "  1606                                                       coords_i_b = coords[k] + r_ki_llel - r_ki_perp\n",
      "  1607                                           \n",
      "  1608                                                       # Identify which of the two intersections to use\n",
      "  1609                                                       # We use the intersection farthest from the least similar publication\n",
      "  1610                                                       if len( sort_inds_for_j ) < 3:\n",
      "  1611                                                           coords[i] = coords_i_a\n",
      "  1612                                                       else:\n",
      "  1613                                                           for l in sort_inds_for_j[::-1]:\n",
      "  1614                                                               if ( l != j ) and ( l != k ):\n",
      "  1615                                                                   break\n",
      "  1616                                                           r_il_a = coords_i_a - coords[l]\n",
      "  1617                                                           d_il_a = ( r_il_a[0]**2. + r_il_a[1]**2. )**0.5\n",
      "  1618                                                           r_il_b = coords_i_b - coords[l]\n",
      "  1619                                                           d_il_b = ( r_il_b[0]**2. + r_il_b[1]**2. )**0.5\n",
      "  1620                                           \n",
      "  1621                                                           if d_il_a > d_il_b:\n",
      "  1622                                                               coords[i] = coords_i_a\n",
      "  1623                                                           else:\n",
      "  1624                                                               coords[i] = coords_i_b\n",
      "  1625                                           \n",
      "  1626                                                       # Append other info\n",
      "  1627                                                       pairs[i,:] = np.array([ j, k ])\n",
      "  1628                                                       n_linked[i] += 2\n",
      "  1629                                                       n_linked[j] += 1\n",
      "  1630                                                       n_linked[k] += 1\n",
      "  1631                                           \n",
      "  1632                                                   # Backup case, where we can only preserve one distance\n",
      "  1633                                                   else:\n",
      "  1634                                                       k = sort_inds_for_k[0]\n",
      "  1635                                                       d_ik = d_matrix[i,k]\n",
      "  1636                                                       \n",
      "  1637                                                       # Choose a random location\n",
      "  1638                                                       x = np.random.uniform( -1, 1 )\n",
      "  1639                                                       y = np.random.uniform( -1, 1 )\n",
      "  1640                                                       r_ik_hat = np.array([ x, y ]) / ( x**2. + y**2. )**0.5\n",
      "  1641                                                       r_ik = d_ik * r_ik_hat\n",
      "  1642                                                       coords[i] = coords[k] + r_ik\n",
      "  1643                                           \n",
      "  1644                                                       # Append other info\n",
      "  1645                                                       pairs[i,0] = k\n",
      "  1646                                                       n_linked[i] += 1\n",
      "  1647                                                       n_linked[k] += 1\n",
      "  1648                                           \n",
      "  1649                                               return coords, sort_inds, pairs\n",
      "\n"
     ]
    }
   ],
   "source": [
    "lp.print_stats()"
   ]
  },
  {
   "cell_type": "code",
   "execution_count": null,
   "id": "a99c5906-1ed4-4825-9bf1-e9da7f990d33",
   "metadata": {},
   "outputs": [],
   "source": []
  }
 ],
 "metadata": {
  "kernelspec": {
   "display_name": "Python 3",
   "language": "python",
   "name": "python3"
  },
  "language_info": {
   "codemirror_mode": {
    "name": "ipython",
    "version": 3
   },
   "file_extension": ".py",
   "mimetype": "text/x-python",
   "name": "python",
   "nbconvert_exporter": "python",
   "pygments_lexer": "ipython3",
   "version": "3.9.6"
  }
 },
 "nbformat": 4,
 "nbformat_minor": 5
}
