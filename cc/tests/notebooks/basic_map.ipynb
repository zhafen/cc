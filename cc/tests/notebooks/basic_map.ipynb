{
 "cells": [
  {
   "cell_type": "code",
   "execution_count": null,
   "id": "efc12e73-e779-45f5-9e21-03fcb17b4a75",
   "metadata": {},
   "outputs": [],
   "source": [
    "import cc.atlas as atlas\n",
    "import cc.cartography as cartography"
   ]
  },
  {
   "cell_type": "code",
   "execution_count": null,
   "id": "3045ccb8-12eb-4220-b81d-2c91fc0c7ebb",
   "metadata": {},
   "outputs": [],
   "source": [
    "import matplotlib\n",
    "import matplotlib.pyplot as plt\n",
    "matplotlib.style.use( '~/repos/clean-bold/clean-bold.mplstyle' )"
   ]
  },
  {
   "cell_type": "markdown",
   "id": "e48476b1-9413-43c3-bab6-4257b2afda55",
   "metadata": {},
   "source": [
    "# Load Data"
   ]
  },
  {
   "cell_type": "code",
   "execution_count": null,
   "id": "adf576a6-cdb5-469b-b93a-84fa56641e6f",
   "metadata": {},
   "outputs": [],
   "source": [
    "fp = '../data/example_atlas/projection.h5'\n",
    "c = cartography.Cartographer.from_hdf5( fp )"
   ]
  },
  {
   "cell_type": "markdown",
   "id": "ac4ce391-59bb-40c4-844b-1555f30e3b6d",
   "metadata": {},
   "source": [
    "# Generate Map"
   ]
  },
  {
   "cell_type": "code",
   "execution_count": null,
   "id": "b77cd1e3-d052-4ee5-bea1-885ea2503b82",
   "metadata": {},
   "outputs": [],
   "source": [
    "coords, inds, pairs = c.map(\n",
    "    'Hafen2019',\n",
    "    max_searched = 3,\n",
    ")"
   ]
  },
  {
   "cell_type": "code",
   "execution_count": null,
   "id": "dfc52108-f536-4986-9fc1-8fe29c69ccd1",
   "metadata": {
    "tags": []
   },
   "outputs": [],
   "source": [
    "fig = plt.figure()\n",
    "ax = plt.gca()\n",
    "\n",
    "ax, (coords0, inds0, pairs0) = c.plot_map(\n",
    "    'Hafen2019',\n",
    "    data = ( coords, inds, pairs ),\n",
    "    max_searched = 3,\n",
    "    labels = True,\n",
    "    ax = ax,\n",
    "    labels_kwargs = { 'fontsize': 6, 'offset_magnitude': 5 },\n",
    "    links = True,\n",
    "#     voronoi = True,\n",
    ")"
   ]
  }
 ],
 "metadata": {
  "kernelspec": {
   "display_name": "Python 3",
   "language": "python",
   "name": "python3"
  },
  "language_info": {
   "codemirror_mode": {
    "name": "ipython",
    "version": 3
   },
   "file_extension": ".py",
   "mimetype": "text/x-python",
   "name": "python",
   "nbconvert_exporter": "python",
   "pygments_lexer": "ipython3",
   "version": "3.9.6"
  }
 },
 "nbformat": 4,
 "nbformat_minor": 5
}
