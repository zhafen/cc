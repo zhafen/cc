{
 "cells": [
  {
   "cell_type": "code",
   "execution_count": null,
   "id": "efc12e73-e779-45f5-9e21-03fcb17b4a75",
   "metadata": {},
   "outputs": [],
   "source": [
    "import cc.atlas as atlas\n",
    "import cc.cartography as cartography"
   ]
  },
  {
   "cell_type": "code",
   "execution_count": null,
   "id": "3045ccb8-12eb-4220-b81d-2c91fc0c7ebb",
   "metadata": {},
   "outputs": [],
   "source": [
    "import matplotlib\n",
    "import matplotlib.pyplot as plt\n",
    "matplotlib.style.use( '~/repos/clean-bold/clean-bold.mplstyle' )"
   ]
  },
  {
   "cell_type": "markdown",
   "id": "e48476b1-9413-43c3-bab6-4257b2afda55",
   "metadata": {},
   "source": [
    "# Load Data"
   ]
  },
  {
   "cell_type": "code",
   "execution_count": null,
   "id": "adf576a6-cdb5-469b-b93a-84fa56641e6f",
   "metadata": {},
   "outputs": [],
   "source": [
    "fp = '../data/example_atlas/projection.h5'\n",
    "c = cartography.Cartographer.from_hdf5( fp )"
   ]
  },
  {
   "cell_type": "markdown",
   "id": "ac4ce391-59bb-40c4-844b-1555f30e3b6d",
   "metadata": {},
   "source": [
    "# Generate Map"
   ]
  },
  {
   "cell_type": "code",
   "execution_count": null,
   "id": "b77cd1e3-d052-4ee5-bea1-885ea2503b82",
   "metadata": {},
   "outputs": [],
   "source": [
    "coords, inds, pairs = c.map(\n",
    "    'Hafen2019',\n",
    "    max_searched = 3,\n",
    ")"
   ]
  },
  {
   "cell_type": "code",
   "execution_count": null,
   "id": "a58db090-1b3a-45db-8464-7b4fa1051c43",
   "metadata": {},
   "outputs": [],
   "source": [
    "c.publications[inds0]"
   ]
  },
  {
   "cell_type": "code",
   "execution_count": null,
   "id": "c783f6e1-caaf-40dd-ac74-971e7bc27a40",
   "metadata": {},
   "outputs": [],
   "source": [
    "coords0"
   ]
  },
  {
   "cell_type": "code",
   "execution_count": null,
   "id": "dfc52108-f536-4986-9fc1-8fe29c69ccd1",
   "metadata": {},
   "outputs": [],
   "source": [
    "ax, (coords0, inds0, pairs0) = c.plot_map(\n",
    "    'Hafen2019',\n",
    "    data = ( coords, inds, pairs ),\n",
    "    max_searched = 3,\n",
    ")\n",
    "\n",
    "vor = voronoi_labels( coords0, c.publications, ax )\n",
    "\n",
    "scipy.spatial.voronoi_plot_2d( vor, ax )"
   ]
  },
  {
   "cell_type": "markdown",
   "id": "672d24ae-6c98-4121-a08c-0c06a965dd77",
   "metadata": {
    "tags": []
   },
   "source": [
    "# DEBUG"
   ]
  },
  {
   "cell_type": "code",
   "execution_count": null,
   "id": "6bdf1842-31b5-41a0-9044-3c29107ff870",
   "metadata": {},
   "outputs": [],
   "source": [
    "vdiag = skgeom.voronoi.VoronoiDiagram()"
   ]
  },
  {
   "cell_type": "code",
   "execution_count": null,
   "id": "5a02c015-83f3-4847-8cdf-5b0c2f64e5d0",
   "metadata": {},
   "outputs": [],
   "source": [
    "for p in coords0:\n",
    "    vdiag.insert( skgeom.Point2( *p ) )\n",
    "\n",
    "for he in vdiag.edges:\n",
    "    source, target = he.source(), he.target()\n",
    "    if source and target:\n",
    "        plt.plot([source.point().x(), target.point().x()], [source.point().y(), target.point().y()])\n",
    "\n",
    "plt.scatter(coords0[:, 0], coords0[:, 1])\n",
    "\n",
    "plt.axis('equal')\n",
    "plt.gca().set_adjustable(\"box\")\n",
    "# plt.gca().set_xlim([-10, 10])\n",
    "# plt.gca().set_ylim([-10, 10])\n",
    "plt.show()"
   ]
  },
  {
   "cell_type": "code",
   "execution_count": null,
   "id": "780cf058-0432-4708-8247-a6b858096356",
   "metadata": {},
   "outputs": [],
   "source": [
    "import shapely"
   ]
  },
  {
   "cell_type": "code",
   "execution_count": null,
   "id": "1dcb3e7d-c2e4-42ef-8fd1-86cd1fbfd66b",
   "metadata": {},
   "outputs": [],
   "source": [
    "import scipy"
   ]
  },
  {
   "cell_type": "code",
   "execution_count": null,
   "id": "43f3991d-f406-4007-b2c9-df1e67d64c04",
   "metadata": {},
   "outputs": [],
   "source": [
    "points = coords0"
   ]
  },
  {
   "cell_type": "code",
   "execution_count": null,
   "id": "5d2bb56d-d33f-4809-a684-14a1b0020a3e",
   "metadata": {},
   "outputs": [],
   "source": [
    "vertices = vor.vertices[region]"
   ]
  },
  {
   "cell_type": "code",
   "execution_count": null,
   "id": "4f4966ca-f282-4698-b593-e26b57d8a793",
   "metadata": {},
   "outputs": [],
   "source": [
    "i = 1"
   ]
  },
  {
   "cell_type": "code",
   "execution_count": null,
   "id": "ecde7629-79e9-49c2-9197-c02af5067284",
   "metadata": {},
   "outputs": [],
   "source": []
  },
  {
   "cell_type": "code",
   "execution_count": null,
   "id": "1a5e46ab-fbe6-4429-b96c-3001e2a998b8",
   "metadata": {},
   "outputs": [],
   "source": [
    "text = ax.annotate('alskfdjal', ( 0.5, 0.5 ), )"
   ]
  },
  {
   "cell_type": "code",
   "execution_count": null,
   "id": "f30554e3-70e2-4dfa-8a05-51638ef24fcd",
   "metadata": {},
   "outputs": [],
   "source": [
    "def voronoi_labels( points, labels, ax, offset_magnitude=5, annotate_kwargs={} ):\n",
    "\n",
    "    vor = scipy.spatial.Voronoi( points )\n",
    "\n",
    "    for i, point in enumerate( points ):\n",
    "        \n",
    "        # Get data for this point\n",
    "        i_region = vor.point_region[i]\n",
    "        region = np.array( vor.regions[i_region] )\n",
    "        is_neg = region == -1\n",
    "        is_on_edge = is_neg.sum() > 0\n",
    "        region = region[np.invert(is_neg)]\n",
    "        vertices = vor.vertices[region]\n",
    "        \n",
    "        # Identify closest vertix and vector pointing from it to the point\n",
    "        points_all = np.concatenate( [ points[:i], points[i+1:], vertices, ], )\n",
    "        v_vertices = point - points_all\n",
    "        j_closest = np.argmin( np.linalg.norm( v_vertices, axis=1 ) )\n",
    "        v_closest = v_vertices[j_closest]\n",
    "        vhat_closest = v_closest / np.linalg.norm( v_closest )\n",
    "\n",
    "        # Choose orientation of label\n",
    "        sign = np.sign( v_closest ).astype( int )\n",
    "        if sign[0] == -1:\n",
    "            ha = 'right'\n",
    "        else:\n",
    "            ha = 'left'\n",
    "        if sign[1] == -1:\n",
    "            va = 'top'\n",
    "        else:\n",
    "            va = 'bottom'\n",
    "\n",
    "        used_kwargs = dict(\n",
    "            xycoords = 'data',\n",
    "            xytext = vhat_closest * offset_magnitude,\n",
    "            textcoords = 'offset points',\n",
    "            ha = ha,\n",
    "            va = va,\n",
    "        )\n",
    "        used_kwargs.update( annotate_kwargs )\n",
    "        text = ax.annotate(\n",
    "            text = labels[i],\n",
    "            xy = point,\n",
    "            **used_kwargs\n",
    "        )\n",
    "        \n",
    "        # Assess if area is large enough\n",
    "        ## Get size of text\n",
    "        bbox_text = text.get_window_extent( ax.figure.canvas.get_renderer() )\n",
    "        display_to_data = ax.transData.inverted()\n",
    "        text_data_corners = display_to_data.transform( bbox_text.corners() )\n",
    "        ax.plot( text_data_corners[:,0], text_data_corners[:,1] )\n",
    "        \n",
    "        ## Compare to size of voronoi area\n",
    "        x, y = vertices.transpose()\n",
    "        # Shoelace formula for area\n",
    "        area = 0.5 * np.abs( np.dot( x, np.roll(y,1) ) - np.dot( y, np.roll(x,1) ) )\n",
    "\n",
    "    return vor"
   ]
  },
  {
   "cell_type": "code",
   "execution_count": null,
   "id": "861249f8-5470-4c99-b433-6eaa7ec30d6a",
   "metadata": {},
   "outputs": [],
   "source": []
  }
 ],
 "metadata": {
  "kernelspec": {
   "display_name": "Python 3",
   "language": "python",
   "name": "python3"
  },
  "language_info": {
   "codemirror_mode": {
    "name": "ipython",
    "version": 3
   },
   "file_extension": ".py",
   "mimetype": "text/x-python",
   "name": "python",
   "nbconvert_exporter": "python",
   "pygments_lexer": "ipython3",
   "version": "3.9.6"
  }
 },
 "nbformat": 4,
 "nbformat_minor": 5
}
