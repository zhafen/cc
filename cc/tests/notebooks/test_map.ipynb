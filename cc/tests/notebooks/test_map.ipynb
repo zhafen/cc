{
 "cells": [
  {
   "cell_type": "code",
   "execution_count": 1,
   "id": "efc12e73-e779-45f5-9e21-03fcb17b4a75",
   "metadata": {},
   "outputs": [],
   "source": [
    "import cc.atlas as atlas\n",
    "import cc.cartography as cartography"
   ]
  },
  {
   "cell_type": "code",
   "execution_count": 2,
   "id": "3045ccb8-12eb-4220-b81d-2c91fc0c7ebb",
   "metadata": {},
   "outputs": [],
   "source": [
    "import matplotlib\n",
    "import matplotlib.pyplot as plt\n",
    "matplotlib.style.use( '~/repos/clean-bold/clean-bold.mplstyle' )"
   ]
  },
  {
   "cell_type": "markdown",
   "id": "e48476b1-9413-43c3-bab6-4257b2afda55",
   "metadata": {},
   "source": [
    "# Load Data"
   ]
  },
  {
   "cell_type": "code",
   "execution_count": 3,
   "id": "adf576a6-cdb5-469b-b93a-84fa56641e6f",
   "metadata": {},
   "outputs": [
    {
     "name": "stderr",
     "output_type": "stream",
     "text": [
      "/Users/zhafen/repos/verdict/verdict.py:1404: FutureWarning: Using a non-tuple sequence for multidimensional indexing is deprecated; use `arr[tuple(seq)]` instead of `arr[seq]`. In the future this will be interpreted as an array index, `arr[np.array(seq)]`, which will result either in an error or a different result.\n",
      "  if hasattr( a[first_element_index][0], 'decode' ):\n"
     ]
    }
   ],
   "source": [
    "fp = '../data/example_atlas/projection.h5'\n",
    "c = cartography.Cartographer.from_hdf5( fp )"
   ]
  },
  {
   "cell_type": "markdown",
   "id": "d5e71628-0dbf-4a11-9da8-09867c8bfceb",
   "metadata": {},
   "source": [
    "# DEBUG"
   ]
  },
  {
   "cell_type": "markdown",
   "id": "ac4ce391-59bb-40c4-844b-1555f30e3b6d",
   "metadata": {},
   "source": [
    "# Generate Map"
   ]
  },
  {
   "cell_type": "code",
   "execution_count": 4,
   "id": "14d5d560-f525-41dc-a7da-1b6345d66add",
   "metadata": {},
   "outputs": [
    {
     "name": "stderr",
     "output_type": "stream",
     "text": [
      "/Users/zhafen/repos/cc/cc/cartography.py:1208: RuntimeWarning: invalid value encountered in arccos\n",
      "  d_matrix = np.arccos( self.cospsi_matrix )\n",
      "100%|██████████| 8/8 [00:00<00:00, 3099.72it/s]\n"
     ]
    },
    {
     "data": {
      "image/png": "[encoded data removed]",
      "text/plain": [
       "<Figure size 1050x787.5 with 1 Axes>"
      ]
     },
     "metadata": {},
     "output_type": "display_data"
    }
   ],
   "source": [
    "fig, (coords, inds, pairs) = c.plot_map( 'Hafen2019', )"
   ]
  },
  {
   "cell_type": "markdown",
   "id": "0aba2fd4-c98c-44ee-8c7a-d6db231b7266",
   "metadata": {},
   "source": [
    "# Plot"
   ]
  },
  {
   "cell_type": "code",
   "execution_count": 5,
   "id": "a4e0248e-2ecb-4f4b-953f-8730b6a2d2d2",
   "metadata": {},
   "outputs": [],
   "source": [
    "# fig = plt.figure()\n",
    "# ax = plt.gca()\n",
    "\n",
    "# ax.scatter(\n",
    "#     coords[:,0],\n",
    "#     coords[:,1],\n",
    "#     color = 'k',\n",
    "# )\n",
    "\n",
    "# for pair in pairs:\n",
    "    \n",
    "#     ax.plot(\n",
    "#         coords[pair][:,0],\n",
    "#         coords[pair][:,1],\n",
    "#         color = 'k',\n",
    "#     )\n",
    "    \n",
    "# ax.set_aspect( 'equal' )"
   ]
  }
 ],
 "metadata": {
  "kernelspec": {
   "display_name": "Python 3",
   "language": "python",
   "name": "python3"
  },
  "language_info": {
   "codemirror_mode": {
    "name": "ipython",
    "version": 3
   },
   "file_extension": ".py",
   "mimetype": "text/x-python",
   "name": "python",
   "nbconvert_exporter": "python",
   "pygments_lexer": "ipython3",
   "version": "3.9.6"
  }
 },
 "nbformat": 4,
 "nbformat_minor": 5
}
