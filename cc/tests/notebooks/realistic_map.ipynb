{
 "cells": [
  {
   "cell_type": "code",
   "execution_count": null,
   "id": "acf2c134-b15b-4df8-b89b-095863923422",
   "metadata": {},
   "outputs": [],
   "source": [
    "import numpy as np"
   ]
  },
  {
   "cell_type": "code",
   "execution_count": null,
   "id": "efc12e73-e779-45f5-9e21-03fcb17b4a75",
   "metadata": {},
   "outputs": [],
   "source": [
    "import cc.atlas as atlas\n",
    "import cc.cartography as cartography"
   ]
  },
  {
   "cell_type": "code",
   "execution_count": null,
   "id": "3045ccb8-12eb-4220-b81d-2c91fc0c7ebb",
   "metadata": {},
   "outputs": [],
   "source": [
    "import matplotlib\n",
    "import matplotlib.pyplot as plt"
   ]
  },
  {
   "cell_type": "markdown",
   "id": "e48476b1-9413-43c3-bab6-4257b2afda55",
   "metadata": {},
   "source": [
    "# Load Data"
   ]
  },
  {
   "cell_type": "code",
   "execution_count": null,
   "id": "adf576a6-cdb5-469b-b93a-84fa56641e6f",
   "metadata": {},
   "outputs": [],
   "source": [
    "fp = '../data/realistic_atlas/projection_for_testing.h5'\n",
    "c = cartography.Cartographer.from_hdf5( fp )"
   ]
  },
  {
   "cell_type": "markdown",
   "id": "ac4ce391-59bb-40c4-844b-1555f30e3b6d",
   "metadata": {},
   "source": [
    "# Generate Map"
   ]
  },
  {
   "cell_type": "markdown",
   "id": "96726c28-ea79-4b40-9da1-525195a2d665",
   "metadata": {},
   "source": [
    "### Preserving Pairwise Distances"
   ]
  },
  {
   "cell_type": "code",
   "execution_count": null,
   "id": "3a781c5d-dc38-4c44-80e9-840cb83cb007",
   "metadata": {},
   "outputs": [],
   "source": [
    "x_key = 'Hafen2019'"
   ]
  },
  {
   "cell_type": "code",
   "execution_count": null,
   "id": "b77cd1e3-d052-4ee5-bea1-885ea2503b82",
   "metadata": {},
   "outputs": [],
   "source": [
    "coords, inds, pairs = c.map(\n",
    "    x_key,\n",
    ")"
   ]
  },
  {
   "cell_type": "markdown",
   "id": "4099ce9b-a061-45e6-82f9-13cd36cfc542",
   "metadata": {},
   "source": [
    "### Just similarity between two central publications"
   ]
  },
  {
   "cell_type": "code",
   "execution_count": null,
   "id": "e0e8a8f4-4f35-42b1-8b2c-267457f79ecf",
   "metadata": {},
   "outputs": [],
   "source": [
    "np.random.seed( 1234 )"
   ]
  },
  {
   "cell_type": "code",
   "execution_count": null,
   "id": "dd5e15e0-e625-4741-8f61-89f2c98ccef2",
   "metadata": {},
   "outputs": [],
   "source": [
    "y_key = np.random.choice( c.publications )"
   ]
  },
  {
   "cell_type": "code",
   "execution_count": null,
   "id": "d7bc62fc-e71d-4d31-a9ce-c5e32f19ae04",
   "metadata": {},
   "outputs": [],
   "source": [
    "x = c.cospsi( x_key, 'all' )\n",
    "y = c.cospsi( y_key, 'all' )\n",
    "simple_coords = np.array([ x, y ]).transpose()"
   ]
  },
  {
   "cell_type": "code",
   "execution_count": null,
   "id": "12806088-a0f7-4e10-ad48-29675ea8bef9",
   "metadata": {},
   "outputs": [],
   "source": [
    "simple_inds = np.argsort( x )[::-1]"
   ]
  },
  {
   "cell_type": "code",
   "execution_count": null,
   "id": "d8b7fddf-321b-4c0f-a55c-1776dcc44ea9",
   "metadata": {},
   "outputs": [],
   "source": [
    "simple_pairs = None"
   ]
  },
  {
   "cell_type": "markdown",
   "id": "9f782aa6-db62-484d-be68-494536af0c41",
   "metadata": {},
   "source": [
    "### For coloring the maps"
   ]
  },
  {
   "cell_type": "code",
   "execution_count": null,
   "id": "bfbe2bff-3ca1-4d31-91e7-263291829340",
   "metadata": {},
   "outputs": [],
   "source": [
    "keys = [ x_key, y_key ]\n",
    "colors = [ c.cospsi( _, 'all' ) for _ in keys ]"
   ]
  },
  {
   "cell_type": "code",
   "execution_count": null,
   "id": "93e52cbf-1144-431b-bbdd-1f5bafec9ab9",
   "metadata": {},
   "outputs": [],
   "source": [
    "vlim = [ 0., 0.4 ]"
   ]
  },
  {
   "cell_type": "markdown",
   "id": "05028e60-fe53-4bd5-9802-ee6b36b79acf",
   "metadata": {},
   "source": [
    "# Plot"
   ]
  },
  {
   "cell_type": "markdown",
   "id": "b1109221-c357-427c-9b8e-789a6fd4da3e",
   "metadata": {},
   "source": [
    "## Scatter"
   ]
  },
  {
   "cell_type": "markdown",
   "id": "524a7f53-dd6d-468f-81c8-1cfa8985d837",
   "metadata": {},
   "source": [
    "### Big Picture"
   ]
  },
  {
   "cell_type": "code",
   "execution_count": null,
   "id": "f809f4e2-8dd6-46a3-8c86-6ebd77233d98",
   "metadata": {},
   "outputs": [],
   "source": [
    "fig = plt.figure()\n",
    "ax = plt.gca()\n",
    "\n",
    "ax, (coords0, inds0, pairs0) = c.plot_map(\n",
    "    x_key,\n",
    "    coords = coords,\n",
    "    ax = ax,\n",
    "    scatter_kwargs = { 's': 1 },\n",
    ")"
   ]
  },
  {
   "cell_type": "markdown",
   "id": "dc6fd9b3-9bdb-427d-bd1c-3022a9c4bf82",
   "metadata": {},
   "source": [
    "### Zoomed In"
   ]
  },
  {
   "cell_type": "code",
   "execution_count": null,
   "id": "fd744641-9511-407d-a6c0-8d8ad519802a",
   "metadata": {},
   "outputs": [],
   "source": [
    "for i, key in enumerate( keys ):\n",
    "\n",
    "    fig = plt.figure()\n",
    "    ax = plt.gca()\n",
    "\n",
    "    ax, (coords0, inds0, pairs0) = c.plot_map(\n",
    "        key,\n",
    "        coords = coords,\n",
    "        pairs = pairs,\n",
    "        colors = colors[i],\n",
    "        ax = ax,\n",
    "        xlim = [ -0.05, 0.05 ],\n",
    "        ylim = [ -0.05, 0.05 ],\n",
    "        vlim = vlim,\n",
    "        links = True,\n",
    "    )"
   ]
  },
  {
   "cell_type": "markdown",
   "id": "434b361d-ade4-4278-b184-b999d6cbc90d",
   "metadata": {},
   "source": [
    "## Histogram"
   ]
  },
  {
   "cell_type": "markdown",
   "id": "4cea9659-1fb7-4232-a444-f41552e873a0",
   "metadata": {},
   "source": [
    "### Big Picture"
   ]
  },
  {
   "cell_type": "code",
   "execution_count": null,
   "id": "bb3b8807-8f12-4d65-bddb-6362b70f4b97",
   "metadata": {},
   "outputs": [],
   "source": [
    "fig = plt.figure()\n",
    "ax = plt.gca()\n",
    "\n",
    "ax, (coords0, inds0, pairs0) = c.plot_map(\n",
    "    x_key,\n",
    "    coords = coords,\n",
    "    ax = ax,\n",
    "    scatter = False,\n",
    "    histogram = True,\n",
    "    cmap = 'viridis',\n",
    ")"
   ]
  },
  {
   "cell_type": "markdown",
   "id": "dd6973dc-6959-4b4e-81f6-a43937c26855",
   "metadata": {},
   "source": [
    "### Big Picture Colored"
   ]
  },
  {
   "cell_type": "code",
   "execution_count": null,
   "id": "ef9264e9-9889-454f-951e-7bfe5e7fb416",
   "metadata": {},
   "outputs": [],
   "source": [
    "for i, key in enumerate( keys ):\n",
    "\n",
    "    fig = plt.figure()\n",
    "    ax = plt.gca()\n",
    "\n",
    "    ax, (coords0, inds0, pairs0) = c.plot_map(\n",
    "        x_key,\n",
    "        coords = coords,\n",
    "        colors = colors[i],\n",
    "        ax = ax,\n",
    "        scatter = False,\n",
    "        histogram = True,\n",
    "        vlim = vlim,\n",
    "    )"
   ]
  },
  {
   "cell_type": "markdown",
   "id": "bf4a9985-b578-46a6-8353-e87b86172660",
   "metadata": {},
   "source": [
    "### Big Picture Simple"
   ]
  },
  {
   "cell_type": "code",
   "execution_count": null,
   "id": "2192f8aa-1305-4966-b989-645578702338",
   "metadata": {},
   "outputs": [],
   "source": [
    "fig = plt.figure()\n",
    "ax = plt.gca()\n",
    "\n",
    "ax, (coords0, inds0, pairs0) = c.plot_map(\n",
    "    x_key,\n",
    "    coords = simple_coords,\n",
    "    ax = ax,\n",
    "    scatter = False,\n",
    "    histogram = True,\n",
    "    cmap = 'viridis',\n",
    ")"
   ]
  },
  {
   "cell_type": "markdown",
   "id": "273c7fba-dd0e-4588-9146-36549aa3a683",
   "metadata": {},
   "source": [
    "### Big Picture Colored Simple"
   ]
  },
  {
   "cell_type": "code",
   "execution_count": null,
   "id": "bd1cbb8d-e429-44d9-b63e-f317a1215d06",
   "metadata": {},
   "outputs": [],
   "source": [
    "for i, key in enumerate( keys ):\n",
    "\n",
    "    fig = plt.figure()\n",
    "    ax = plt.gca()\n",
    "\n",
    "    ax, (coords0, inds0, pairs0) = c.plot_map(\n",
    "        x_key,\n",
    "        coords = simple_coords,\n",
    "        colors = colors[i],\n",
    "        ax = ax,\n",
    "        scatter = False,\n",
    "        histogram = True,\n",
    "        vlim = vlim,\n",
    "    )"
   ]
  },
  {
   "cell_type": "markdown",
   "id": "0045bb88-c52f-491b-974b-ae58b00fa34c",
   "metadata": {},
   "source": [
    "### Zoomed In"
   ]
  },
  {
   "cell_type": "code",
   "execution_count": null,
   "id": "05793db8-cf45-49be-9285-4e40c3c0583d",
   "metadata": {},
   "outputs": [],
   "source": [
    "for i, key in enumerate( keys ):\n",
    "\n",
    "    fig = plt.figure()\n",
    "    ax = plt.gca()\n",
    "\n",
    "    ax, (coords0, inds0, pairs0) = c.plot_map(\n",
    "        key,\n",
    "        coords = coords,\n",
    "        colors = colors[i],\n",
    "        ax = ax,\n",
    "        scatter = False,\n",
    "        histogram = True,\n",
    "        xlim = [ -0.5, 0.5 ],\n",
    "        ylim = [ -0.5, 0.5 ],\n",
    "        vlim = vlim,\n",
    "    )"
   ]
  },
  {
   "cell_type": "markdown",
   "id": "49aa45e7-85e2-4bd9-832b-4d4db67b87a1",
   "metadata": {},
   "source": [
    "## Voronoi"
   ]
  },
  {
   "cell_type": "markdown",
   "id": "1cccb337-af63-49ba-9f06-60d35b98cd5b",
   "metadata": {},
   "source": [
    "### Big Picture Colored"
   ]
  },
  {
   "cell_type": "code",
   "execution_count": null,
   "id": "b5f01ad2-0996-43ad-87f2-50e4b0932c26",
   "metadata": {},
   "outputs": [],
   "source": [
    "for i, key in enumerate( keys ):\n",
    "\n",
    "    fig = plt.figure()\n",
    "    ax = plt.gca()\n",
    "\n",
    "    ax, (coords0, inds0, pairs0) = c.plot_map(\n",
    "        x_key,\n",
    "        coords = coords,\n",
    "        colors = colors[i],\n",
    "        edgecolors = colors[i],\n",
    "        ax = ax,\n",
    "        scatter = False,\n",
    "        voronoi = True,\n",
    "        vlim = vlim,\n",
    "    )"
   ]
  },
  {
   "cell_type": "markdown",
   "id": "3348bc3a-bace-4806-9ecd-a94cb3da87f6",
   "metadata": {},
   "source": [
    "### Big Picture Colored Simple"
   ]
  },
  {
   "cell_type": "code",
   "execution_count": null,
   "id": "b16c4ade-43c4-4c6b-9c27-8150047eed4b",
   "metadata": {},
   "outputs": [],
   "source": [
    "for i, key in enumerate( keys ):\n",
    "\n",
    "    fig = plt.figure()\n",
    "    ax = plt.gca()\n",
    "\n",
    "    ax, (coords0, inds0, pairs0) = c.plot_map(\n",
    "        x_key,\n",
    "        coords = simple_coords,\n",
    "        colors = colors[i],\n",
    "        edgecolors = colors[i],\n",
    "        ax = ax,\n",
    "        scatter = False,\n",
    "        voronoi = True,\n",
    "        vlim = vlim,\n",
    "    )"
   ]
  },
  {
   "cell_type": "markdown",
   "id": "7d130901-97f0-40e1-a80b-327970a6fd2e",
   "metadata": {},
   "source": [
    "### Zoomed In"
   ]
  },
  {
   "cell_type": "code",
   "execution_count": null,
   "id": "3dd50320-871f-4acf-950a-f5e944820c86",
   "metadata": {},
   "outputs": [],
   "source": [
    "hatching = np.array([ '//' if _ else None for _ in np.random.randint( 0, 2, colors[0].size ).astype( 'bool' )  ])"
   ]
  },
  {
   "cell_type": "code",
   "execution_count": null,
   "id": "5d0ee4e4-2d1b-4e7b-bc3a-d99b509cdecd",
   "metadata": {},
   "outputs": [],
   "source": [
    "for i, key in enumerate( keys ):\n",
    "\n",
    "    fig = plt.figure()\n",
    "    ax = plt.gca()\n",
    "\n",
    "    ax, (coords0, inds0, pairs0) = c.plot_map(\n",
    "        key,\n",
    "        coords = coords,\n",
    "        colors = colors[i],\n",
    "        hatching = hatching,\n",
    "        ax = ax,\n",
    "        scatter = False,\n",
    "        voronoi = True,\n",
    "        labels = True,\n",
    "        xlim = [ -0.005, 0.005 ],\n",
    "        ylim = [ -0.005, 0.005 ],\n",
    "        vlim = vlim,\n",
    "    )"
   ]
  },
  {
   "cell_type": "code",
   "execution_count": null,
   "id": "88bb35c4-f04d-4516-844d-f14c64cd3a28",
   "metadata": {},
   "outputs": [],
   "source": []
  }
 ],
 "metadata": {
  "kernelspec": {
   "display_name": "Python 3 (ipykernel)",
   "language": "python",
   "name": "python3"
  },
  "language_info": {
   "codemirror_mode": {
    "name": "ipython",
    "version": 3
   },
   "file_extension": ".py",
   "mimetype": "text/x-python",
   "name": "python",
   "nbconvert_exporter": "python",
   "pygments_lexer": "ipython3",
   "version": "3.9.12"
  }
 },
 "nbformat": 4,
 "nbformat_minor": 5
}
