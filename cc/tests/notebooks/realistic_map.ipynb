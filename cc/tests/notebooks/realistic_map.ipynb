{
 "cells": [
  {
   "cell_type": "code",
   "execution_count": null,
   "id": "efc12e73-e779-45f5-9e21-03fcb17b4a75",
   "metadata": {},
   "outputs": [],
   "source": [
    "import cc.atlas as atlas\n",
    "import cc.cartography as cartography"
   ]
  },
  {
   "cell_type": "code",
   "execution_count": null,
   "id": "3045ccb8-12eb-4220-b81d-2c91fc0c7ebb",
   "metadata": {},
   "outputs": [],
   "source": [
    "import matplotlib\n",
    "import matplotlib.pyplot as plt\n",
    "matplotlib.style.use( '~/repos/clean-bold/clean-bold.mplstyle' )"
   ]
  },
  {
   "cell_type": "markdown",
   "id": "e48476b1-9413-43c3-bab6-4257b2afda55",
   "metadata": {},
   "source": [
    "# Load Data"
   ]
  },
  {
   "cell_type": "code",
   "execution_count": null,
   "id": "adf576a6-cdb5-469b-b93a-84fa56641e6f",
   "metadata": {},
   "outputs": [],
   "source": [
    "fp = '../data/realistic_atlas/projection_for_testing.h5'\n",
    "c = cartography.Cartographer.from_hdf5( fp )"
   ]
  },
  {
   "cell_type": "markdown",
   "id": "ac4ce391-59bb-40c4-844b-1555f30e3b6d",
   "metadata": {},
   "source": [
    "# Generate Map"
   ]
  },
  {
   "cell_type": "code",
   "execution_count": null,
   "id": "b77cd1e3-d052-4ee5-bea1-885ea2503b82",
   "metadata": {},
   "outputs": [],
   "source": [
    "coords, inds, pairs = c.map(\n",
    "    'Hafen2019',\n",
    "    max_searched = 3,\n",
    ")"
   ]
  },
  {
   "cell_type": "code",
   "execution_count": null,
   "id": "db9a051a-ee0e-4eea-87ee-c1f3c1fc9da1",
   "metadata": {},
   "outputs": [],
   "source": [
    "c.publications[inds[0]]"
   ]
  },
  {
   "cell_type": "code",
   "execution_count": null,
   "id": "47b48edb-609e-45b0-8e7c-872d65b721b3",
   "metadata": {},
   "outputs": [],
   "source": [
    "import re"
   ]
  },
  {
   "cell_type": "code",
   "execution_count": null,
   "id": "4232217c-6c04-47fc-b94e-ef3bd19c77f6",
   "metadata": {},
   "outputs": [],
   "source": [
    "def label_formatter( i, m_i, c ):\n",
    "    key = c.publications[i]\n",
    "    key_split = re.findall( r'[^\\W\\d_]+|\\d+', key )\n",
    "    if '.' in key:\n",
    "        return '{}'.format( i )\n",
    "    else:\n",
    "        if not key_split[-1].isalpha():\n",
    "            year = key_split[-1]\n",
    "        else:\n",
    "            year = key_split[-2]\n",
    "        label = '{}: {}{}'.format( i, key[0], year[2:] )\n",
    "        return label"
   ]
  },
  {
   "cell_type": "code",
   "execution_count": null,
   "id": "acf2c134-b15b-4df8-b89b-095863923422",
   "metadata": {},
   "outputs": [],
   "source": [
    "import palettable\n",
    "import numpy as np"
   ]
  },
  {
   "cell_type": "code",
   "execution_count": null,
   "id": "bfbe2bff-3ca1-4d31-91e7-263291829340",
   "metadata": {},
   "outputs": [],
   "source": [
    "color_values = 1. - c.cospsi( 'Hafen2019', 'all' )[inds]"
   ]
  },
  {
   "cell_type": "code",
   "execution_count": null,
   "id": "93e52cbf-1144-431b-bbdd-1f5bafec9ab9",
   "metadata": {},
   "outputs": [],
   "source": [
    "cmin = np.nanpercentile( color_values, 1 )\n",
    "cmax = np.nanpercentile( color_values, 99 )\n",
    "color_values = matplotlib.colors.Normalize( vmin=cmin, vmax=cmax )( color_values )"
   ]
  },
  {
   "cell_type": "code",
   "execution_count": null,
   "id": "8529b0eb-57c1-4a46-983a-c76558506886",
   "metadata": {},
   "outputs": [],
   "source": [
    "colors = palettable.matplotlib.Viridis_10_r.mpl_colormap( color_values )"
   ]
  },
  {
   "cell_type": "code",
   "execution_count": null,
   "id": "3dd50320-871f-4acf-950a-f5e944820c86",
   "metadata": {},
   "outputs": [],
   "source": [
    "hatching = [ '/' if _ else None for _ in np.random.randint( 0, 2, color_values.size ).astype( 'bool' )  ]"
   ]
  },
  {
   "cell_type": "code",
   "execution_count": null,
   "id": "dfc52108-f536-4986-9fc1-8fe29c69ccd1",
   "metadata": {
    "tags": []
   },
   "outputs": [],
   "source": [
    "fig = plt.figure()\n",
    "ax = plt.gca()\n",
    "\n",
    "ax, (coords0, inds0, pairs0) = c.plot_map(\n",
    "    'Hafen2019',\n",
    "    data = ( coords, inds, pairs ),\n",
    "    ax = ax,\n",
    "    xlim = [ -0.005, 0.005 ],\n",
    "    ylim = [ -0.005, 0.005 ],\n",
    "    clean_plot = False,\n",
    "    scatter = False,\n",
    "    # histogram = False,\n",
    "    voronoi = True,\n",
    "    voronoi_kwargs = { 'colors': colors, 'hatching': hatching },\n",
    "    labels = True,\n",
    "    labels_formatter = label_formatter,\n",
    "    # labels_kwargs = { 'fontsize': 6 },\n",
    ")"
   ]
  },
  {
   "cell_type": "code",
   "execution_count": null,
   "id": "5ce90fbd-af71-47a0-bbed-c266354982da",
   "metadata": {},
   "outputs": [],
   "source": [
    "text = ax.annotate( 'test', ( 0.5, 0.5 ) )"
   ]
  },
  {
   "cell_type": "code",
   "execution_count": null,
   "id": "f4ee2725-905a-4364-88ed-d04cb6f29294",
   "metadata": {},
   "outputs": [],
   "source": [
    "text.get_fontsize()"
   ]
  },
  {
   "cell_type": "code",
   "execution_count": null,
   "id": "54469d8b-4087-49ba-84e0-8db28eac2ac9",
   "metadata": {},
   "outputs": [],
   "source": []
  }
 ],
 "metadata": {
  "kernelspec": {
   "display_name": "Python 3 (ipykernel)",
   "language": "python",
   "name": "python3"
  },
  "language_info": {
   "codemirror_mode": {
    "name": "ipython",
    "version": 3
   },
   "file_extension": ".py",
   "mimetype": "text/x-python",
   "name": "python",
   "nbconvert_exporter": "python",
   "pygments_lexer": "ipython3",
   "version": "3.9.12"
  }
 },
 "nbformat": 4,
 "nbformat_minor": 5
}
