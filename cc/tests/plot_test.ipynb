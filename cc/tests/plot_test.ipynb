{
 "cells": [
  {
   "cell_type": "code",
   "execution_count": 7,
   "metadata": {},
   "outputs": [],
   "source": [
    "import copy\n",
    "import h5py\n",
    "from mock import patch\n",
    "import numpy as np\n",
    "import numpy.testing as npt\n",
    "import os\n",
    "import pytest\n",
    "import scipy.sparse as ss\n",
    "import shutil\n",
    "import unittest\n",
    "import verdict\n",
    "import warnings\n",
    "\n",
    "import cc.atlas as atlas\n",
    "import cc.cartography as cartography\n",
    "import cc.api as api\n",
    "\n",
    "########################################################################\n",
    "\n",
    "filepath = './tests/data/arxiv_source/Hafen2019/CGM_origin.tex'\n",
    "\n",
    "########################################################################"
   ]
  },
  {
   "cell_type": "code",
   "execution_count": 8,
   "metadata": {},
   "outputs": [
    {
     "data": {
      "text/plain": [
       "'/Users/nathanielimel/metascience/cc/cc/tests'"
      ]
     },
     "execution_count": 8,
     "metadata": {},
     "output_type": "execute_result"
    }
   ],
   "source": [
    "os.getcwd()"
   ]
  },
  {
   "cell_type": "code",
   "execution_count": 9,
   "metadata": {},
   "outputs": [
    {
     "name": "stdout",
     "output_type": "stream",
     "text": [
      "Loading bibliography entries.\n",
      "Storing bibliography entries.\n"
     ]
    },
    {
     "name": "stderr",
     "output_type": "stream",
     "text": [
      "100%|████████████████████████████████████████| 10/10 [00:00<00:00, 7686.10it/s]"
     ]
    },
    {
     "name": "stdout",
     "output_type": "stream",
     "text": [
      "Loading saved atlas data.\n"
     ]
    },
    {
     "name": "stderr",
     "output_type": "stream",
     "text": [
      "\n",
      "100%|████████████████████████████████████████| 10/10 [00:00<00:00, 9715.78it/s]\n",
      "100%|██████████████████████████████████████| 10/10 [00:00<00:00, 207638.81it/s]\n"
     ]
    }
   ],
   "source": [
    "# setup\n",
    "\n",
    "atlas_dir = './data/example_atlas'\n",
    "bibtex_fp = os.path.join(atlas_dir, api.DEFAULT_BIB_NAME)\n",
    "\n",
    "if os.path.isfile( bibtex_fp ):\n",
    "    os.remove( bibtex_fp )\n",
    "\n",
    "fp = './data/example_atlas/projection.h5'\n",
    "c = cartography.Cartographer.from_hdf5( fp )\n",
    "a = atlas.Atlas( './data/example_atlas', atlas_data_format='hdf5' )"
   ]
  },
  {
   "cell_type": "code",
   "execution_count": 10,
   "metadata": {},
   "outputs": [
    {
     "name": "stdout",
     "output_type": "stream",
     "text": [
      "Expansion will include 247 new publications.\n"
     ]
    },
    {
     "ename": "APIResponseError",
     "evalue": "'{\\n  \"error\": \"Too many requests\"\\n}\\n'",
     "output_type": "error",
     "traceback": [
      "\u001b[0;31m---------------------------------------------------------------------------\u001b[0m",
      "\u001b[0;31mAPIResponseError\u001b[0m                          Traceback (most recent call last)",
      "File \u001b[0;32m~/metascience/cc/cc/atlas.py:1904\u001b[0m, in \u001b[0;36msave_ads_bibcodes_to_bibtex\u001b[0;34m(bibcodes, bibtex_fp, call_size)\u001b[0m\n\u001b[1;32m   1903\u001b[0m     q \u001b[39m=\u001b[39m ads\u001b[39m.\u001b[39mExportQuery( bibcodes )\n\u001b[0;32m-> 1904\u001b[0m     bibtex_str_i \u001b[39m=\u001b[39m q\u001b[39m.\u001b[39;49mexecute()\n\u001b[1;32m   1905\u001b[0m \u001b[39m# Try again if there was an error on the ADS side\u001b[39;00m\n",
      "File \u001b[0;32m~/miniforge3/envs/literature-topography/lib/python3.10/site-packages/ads/export.py:62\u001b[0m, in \u001b[0;36mExportQuery.execute\u001b[0;34m(self)\u001b[0m\n\u001b[1;32m     61\u001b[0m url \u001b[39m=\u001b[39m os\u001b[39m.\u001b[39mpath\u001b[39m.\u001b[39mjoin(\u001b[39mself\u001b[39m\u001b[39m.\u001b[39mHTTP_ENDPOINT, \u001b[39mself\u001b[39m\u001b[39m.\u001b[39mformat)\n\u001b[0;32m---> 62\u001b[0m \u001b[39mself\u001b[39m\u001b[39m.\u001b[39mresponse \u001b[39m=\u001b[39m ExportResponse\u001b[39m.\u001b[39;49mload_http_response(\n\u001b[1;32m     63\u001b[0m     \u001b[39mself\u001b[39;49m\u001b[39m.\u001b[39;49msession\u001b[39m.\u001b[39;49mpost(url, data\u001b[39m=\u001b[39;49m\u001b[39mself\u001b[39;49m\u001b[39m.\u001b[39;49mjson_payload)\n\u001b[1;32m     64\u001b[0m )\n\u001b[1;32m     65\u001b[0m \u001b[39mreturn\u001b[39;00m \u001b[39mself\u001b[39m\u001b[39m.\u001b[39mresponse\u001b[39m.\u001b[39mresult\n",
      "File \u001b[0;32m~/miniforge3/envs/literature-topography/lib/python3.10/site-packages/ads/base.py:94\u001b[0m, in \u001b[0;36mAPIResponse.load_http_response\u001b[0;34m(cls, http_response)\u001b[0m\n\u001b[1;32m     93\u001b[0m \u001b[39mif\u001b[39;00m \u001b[39mnot\u001b[39;00m http_response\u001b[39m.\u001b[39mok:\n\u001b[0;32m---> 94\u001b[0m     \u001b[39mraise\u001b[39;00m APIResponseError(http_response\u001b[39m.\u001b[39mtext)\n\u001b[1;32m     95\u001b[0m c \u001b[39m=\u001b[39m \u001b[39mcls\u001b[39m(http_response)\n",
      "\u001b[0;31mAPIResponseError\u001b[0m: '{\\n  \"error\": \"Too many requests\"\\n}\\n'",
      "\nDuring handling of the above exception, another exception occurred:\n",
      "\u001b[0;31mAPIResponseError\u001b[0m                          Traceback (most recent call last)",
      "Cell \u001b[0;32mIn[10], line 4\u001b[0m\n\u001b[1;32m      1\u001b[0m \u001b[39m# expand \u001b[39;00m\n\u001b[1;32m      3\u001b[0m n_downloaded \u001b[39m=\u001b[39m \u001b[39mlen\u001b[39m( a[\u001b[39m'\u001b[39m\u001b[39mHafen2019\u001b[39m\u001b[39m'\u001b[39m]\u001b[39m.\u001b[39mreferences ) \u001b[39m+\u001b[39m \u001b[39mlen\u001b[39m( a[\u001b[39m'\u001b[39m\u001b[39mHafen2019a\u001b[39m\u001b[39m'\u001b[39m]\u001b[39m.\u001b[39mreferences )\n\u001b[0;32m----> 4\u001b[0m new_a \u001b[39m=\u001b[39m c\u001b[39m.\u001b[39;49mexpand( a, center\u001b[39m=\u001b[39;49m\u001b[39m'\u001b[39;49m\u001b[39mHafen2019\u001b[39;49m\u001b[39m'\u001b[39;49m, n_pubs_max\u001b[39m=\u001b[39;49mn_downloaded\u001b[39m+\u001b[39;49m\u001b[39m1\u001b[39;49m )\n",
      "File \u001b[0;32m~/metascience/cc/cc/cartography.py:780\u001b[0m, in \u001b[0;36mCartographer.expand\u001b[0;34m(self, a, api_name, center, n_pubs_max, n_sources_max, bibtex_fp)\u001b[0m\n\u001b[1;32m    777\u001b[0m \u001b[39mprint\u001b[39m( \u001b[39m'\u001b[39m\u001b[39mExpansion will include \u001b[39m\u001b[39m{}\u001b[39;00m\u001b[39m new publications.\u001b[39m\u001b[39m'\u001b[39m\u001b[39m.\u001b[39mformat( \u001b[39mlen\u001b[39m( ids ) ) )\n\u001b[1;32m    779\u001b[0m \u001b[39m# New atlas\u001b[39;00m\n\u001b[0;32m--> 780\u001b[0m a_exp \u001b[39m=\u001b[39m atlas\u001b[39m.\u001b[39;49mAtlas\u001b[39m.\u001b[39;49mto_and_from_ids( \n\u001b[1;32m    781\u001b[0m     a\u001b[39m.\u001b[39;49matlas_dir, \n\u001b[1;32m    782\u001b[0m     ids, \n\u001b[1;32m    783\u001b[0m     api_name \u001b[39m=\u001b[39;49m api_name, \n\u001b[1;32m    784\u001b[0m     bibtex_fp \u001b[39m=\u001b[39;49m bibtex_fp,\n\u001b[1;32m    785\u001b[0m )\n\u001b[1;32m    787\u001b[0m \u001b[39m# Update the new atlas\u001b[39;00m\n\u001b[1;32m    788\u001b[0m a_exp\u001b[39m.\u001b[39mdata\u001b[39m.\u001b[39m_storage\u001b[39m.\u001b[39mupdate( a\u001b[39m.\u001b[39mdata )\n",
      "File \u001b[0;32m~/metascience/cc/cc/atlas.py:270\u001b[0m, in \u001b[0;36mAtlas.to_and_from_ids\u001b[0;34m(cls, atlas_dir, ids, api_name, bibtex_fp, data_fp, load_atlas_data, **kwargs)\u001b[0m\n\u001b[1;32m    267\u001b[0m     bibtex_fp \u001b[39m=\u001b[39m os\u001b[39m.\u001b[39mpath\u001b[39m.\u001b[39mjoin( atlas_dir, api\u001b[39m.\u001b[39mDEFAULT_BIB_NAME )\n\u001b[1;32m    269\u001b[0m \u001b[39m# breakpoint()\u001b[39;00m\n\u001b[0;32m--> 270\u001b[0m save_ids_to_bibtex( ids, bibtex_fp, api_name \u001b[39m=\u001b[39;49m api_name )\n\u001b[1;32m    272\u001b[0m result \u001b[39m=\u001b[39m Atlas(\n\u001b[1;32m    273\u001b[0m     atlas_dir \u001b[39m=\u001b[39m atlas_dir,\n\u001b[1;32m    274\u001b[0m     bibtex_fp \u001b[39m=\u001b[39m bibtex_fp,\n\u001b[0;32m   (...)\u001b[0m\n\u001b[1;32m    277\u001b[0m     \u001b[39m*\u001b[39m\u001b[39m*\u001b[39mkwargs\n\u001b[1;32m    278\u001b[0m )\n\u001b[1;32m    280\u001b[0m \u001b[39mreturn\u001b[39;00m result\n",
      "File \u001b[0;32m~/metascience/cc/cc/atlas.py:1783\u001b[0m, in \u001b[0;36msave_ids_to_bibtex\u001b[0;34m(api_name, *args, **kwargs)\u001b[0m\n\u001b[1;32m   1780\u001b[0m api\u001b[39m.\u001b[39mvalidate_api(api_name)\n\u001b[1;32m   1782\u001b[0m \u001b[39mif\u001b[39;00m api_name \u001b[39m==\u001b[39m api\u001b[39m.\u001b[39mADS_API_NAME:\n\u001b[0;32m-> 1783\u001b[0m     save_ads_bibcodes_to_bibtex( \u001b[39m*\u001b[39;49margs, \u001b[39m*\u001b[39;49m\u001b[39m*\u001b[39;49mkwargs )\n\u001b[1;32m   1784\u001b[0m \u001b[39mif\u001b[39;00m api_name \u001b[39m==\u001b[39m api\u001b[39m.\u001b[39mS2_API_NAME:\n\u001b[1;32m   1785\u001b[0m     save_s2_paperids_to_bibtex( \u001b[39m*\u001b[39margs, \u001b[39m*\u001b[39m\u001b[39m*\u001b[39mkwargs )\n",
      "File \u001b[0;32m~/metascience/cc/cc/atlas.py:1908\u001b[0m, in \u001b[0;36msave_ads_bibcodes_to_bibtex\u001b[0;34m(bibcodes, bibtex_fp, call_size)\u001b[0m\n\u001b[1;32m   1906\u001b[0m \u001b[39mexcept\u001b[39;00m ads\u001b[39m.\u001b[39mexceptions\u001b[39m.\u001b[39mAPIResponseError:\n\u001b[1;32m   1907\u001b[0m     q \u001b[39m=\u001b[39m ads\u001b[39m.\u001b[39mExportQuery( bibcodes )\n\u001b[0;32m-> 1908\u001b[0m     bibtex_str_i \u001b[39m=\u001b[39m q\u001b[39m.\u001b[39;49mexecute()\n\u001b[1;32m   1910\u001b[0m \u001b[39m# Reformat some lines to work with bibtexparser\u001b[39;00m\n\u001b[1;32m   1911\u001b[0m \u001b[39m# This is not optimized.\u001b[39;00m\n\u001b[1;32m   1912\u001b[0m l \u001b[39m=\u001b[39m []\n",
      "File \u001b[0;32m~/miniforge3/envs/literature-topography/lib/python3.10/site-packages/ads/export.py:62\u001b[0m, in \u001b[0;36mExportQuery.execute\u001b[0;34m(self)\u001b[0m\n\u001b[1;32m     57\u001b[0m \u001b[39m\u001b[39m\u001b[39m\"\"\"\u001b[39;00m\n\u001b[1;32m     58\u001b[0m \u001b[39mExecute the http request to the metrics service\u001b[39;00m\n\u001b[1;32m     59\u001b[0m \u001b[39m:return ads-classic formatted export string\u001b[39;00m\n\u001b[1;32m     60\u001b[0m \u001b[39m\"\"\"\u001b[39;00m\n\u001b[1;32m     61\u001b[0m url \u001b[39m=\u001b[39m os\u001b[39m.\u001b[39mpath\u001b[39m.\u001b[39mjoin(\u001b[39mself\u001b[39m\u001b[39m.\u001b[39mHTTP_ENDPOINT, \u001b[39mself\u001b[39m\u001b[39m.\u001b[39mformat)\n\u001b[0;32m---> 62\u001b[0m \u001b[39mself\u001b[39m\u001b[39m.\u001b[39mresponse \u001b[39m=\u001b[39m ExportResponse\u001b[39m.\u001b[39;49mload_http_response(\n\u001b[1;32m     63\u001b[0m     \u001b[39mself\u001b[39;49m\u001b[39m.\u001b[39;49msession\u001b[39m.\u001b[39;49mpost(url, data\u001b[39m=\u001b[39;49m\u001b[39mself\u001b[39;49m\u001b[39m.\u001b[39;49mjson_payload)\n\u001b[1;32m     64\u001b[0m )\n\u001b[1;32m     65\u001b[0m \u001b[39mreturn\u001b[39;00m \u001b[39mself\u001b[39m\u001b[39m.\u001b[39mresponse\u001b[39m.\u001b[39mresult\n",
      "File \u001b[0;32m~/miniforge3/envs/literature-topography/lib/python3.10/site-packages/ads/base.py:94\u001b[0m, in \u001b[0;36mAPIResponse.load_http_response\u001b[0;34m(cls, http_response)\u001b[0m\n\u001b[1;32m     89\u001b[0m \u001b[39m\u001b[39m\u001b[39m\"\"\"\u001b[39;00m\n\u001b[1;32m     90\u001b[0m \u001b[39mThis method should return an instantiated class and set its response\u001b[39;00m\n\u001b[1;32m     91\u001b[0m \u001b[39mto the requests.Response object.\u001b[39;00m\n\u001b[1;32m     92\u001b[0m \u001b[39m\"\"\"\u001b[39;00m\n\u001b[1;32m     93\u001b[0m \u001b[39mif\u001b[39;00m \u001b[39mnot\u001b[39;00m http_response\u001b[39m.\u001b[39mok:\n\u001b[0;32m---> 94\u001b[0m     \u001b[39mraise\u001b[39;00m APIResponseError(http_response\u001b[39m.\u001b[39mtext)\n\u001b[1;32m     95\u001b[0m c \u001b[39m=\u001b[39m \u001b[39mcls\u001b[39m(http_response)\n\u001b[1;32m     96\u001b[0m c\u001b[39m.\u001b[39mresponse \u001b[39m=\u001b[39m http_response\n",
      "\u001b[0;31mAPIResponseError\u001b[0m: '{\\n  \"error\": \"Too many requests\"\\n}\\n'"
     ]
    }
   ],
   "source": [
    "# expand \n",
    "\n",
    "# n_downloaded = len( a['Hafen2019'].references ) + len( a['Hafen2019a'].references )\n",
    "# new_a = c.expand( a, center='Hafen2019', n_pubs_max=n_downloaded+1 )"
   ]
  },
  {
   "cell_type": "code",
   "execution_count": 11,
   "metadata": {},
   "outputs": [
    {
     "name": "stdout",
     "output_type": "stream",
     "text": [
      "No publications to retrieve data for.\n",
      "    Doing NLP...\n"
     ]
    },
    {
     "name": "stderr",
     "output_type": "stream",
     "text": [
      "100%|███████████████████████████████████████| 10/10 [00:00<00:00, 57456.22it/s]"
     ]
    },
    {
     "name": "stdout",
     "output_type": "stream",
     "text": [
      "Vectorizing text...\n",
      "Using saved vectorized text...\n"
     ]
    },
    {
     "name": "stderr",
     "output_type": "stream",
     "text": [
      "\n"
     ]
    }
   ],
   "source": [
    "a.process_abstracts( identifier='from_citation' )\n",
    "vp = a.vectorize()"
   ]
  },
  {
   "cell_type": "code",
   "execution_count": 16,
   "metadata": {},
   "outputs": [
    {
     "ename": "IndexError",
     "evalue": "index 0 is out of bounds for axis 0 with size 0",
     "output_type": "error",
     "traceback": [
      "\u001b[0;31m---------------------------------------------------------------------------\u001b[0m",
      "\u001b[0;31mIndexError\u001b[0m                                Traceback (most recent call last)",
      "Cell \u001b[0;32mIn[16], line 3\u001b[0m\n\u001b[1;32m      1\u001b[0m \u001b[39m# plot\u001b[39;00m\n\u001b[0;32m----> 3\u001b[0m ax, ( coords, inds, pairs ) \u001b[39m=\u001b[39m c\u001b[39m.\u001b[39;49mplot_map()\n",
      "File \u001b[0;32m~/metascience/cc/cc/cartography.py:1475\u001b[0m, in \u001b[0;36mCartographer.plot_map\u001b[0;34m(self, center, coords, inds, pairs, ax, colors, edgecolors, cmap, norm, hatching, xlim, ylim, vlim, scatter, scatter_kwargs, links, links_kwargs, histogram, histogram_kwargs, histogram_plot_kwargs, voronoi, voronoi_kwargs, labels, labels_placer_voronoi, labels_formatter, labels_kwargs, **kwargs)\u001b[0m\n\u001b[1;32m   1473\u001b[0m \u001b[39m# Get needed data\u001b[39;00m\n\u001b[1;32m   1474\u001b[0m \u001b[39mif\u001b[39;00m coords \u001b[39mis\u001b[39;00m \u001b[39mNone\u001b[39;00m:\n\u001b[0;32m-> 1475\u001b[0m     coords, inds, pairs \u001b[39m=\u001b[39m \u001b[39mself\u001b[39;49m\u001b[39m.\u001b[39;49mmap( center, \u001b[39m*\u001b[39;49m\u001b[39m*\u001b[39;49mkwargs )\n\u001b[1;32m   1476\u001b[0m \u001b[39mif\u001b[39;00m inds \u001b[39mis\u001b[39;00m \u001b[39mNone\u001b[39;00m:\n\u001b[1;32m   1477\u001b[0m     inds \u001b[39m=\u001b[39m np\u001b[39m.\u001b[39marange( coords\u001b[39m.\u001b[39mshape[\u001b[39m0\u001b[39m] )\n",
      "File \u001b[0;32m~/metascience/cc/cc/cartography.py:1274\u001b[0m, in \u001b[0;36mCartographer.map\u001b[0;34m(self, center, distance_transformation, median_psi, std_psi, max_links, max_searched, save_filepath, overwrite, use_numba)\u001b[0m\n\u001b[1;32m   1271\u001b[0m         \u001b[39mreturn\u001b[39;00m group[\u001b[39m'\u001b[39m\u001b[39mcoordinates\u001b[39m\u001b[39m'\u001b[39m], group[\u001b[39m'\u001b[39m\u001b[39mordered indices\u001b[39m\u001b[39m'\u001b[39m], group[\u001b[39m'\u001b[39m\u001b[39mpairs\u001b[39m\u001b[39m'\u001b[39m]\n\u001b[1;32m   1273\u001b[0m \u001b[39m# Setup relation to central publication\u001b[39;00m\n\u001b[0;32m-> 1274\u001b[0m i_center \u001b[39m=\u001b[39m \u001b[39mself\u001b[39;49m\u001b[39m.\u001b[39;49minds[center \u001b[39m==\u001b[39;49m \u001b[39mself\u001b[39;49m\u001b[39m.\u001b[39;49mpublications][\u001b[39m0\u001b[39;49m]\n\u001b[1;32m   1275\u001b[0m cospsi_0is \u001b[39m=\u001b[39m \u001b[39mself\u001b[39m\u001b[39m.\u001b[39mcospsi_matrix[i_center]\n\u001b[1;32m   1276\u001b[0m sort_inds \u001b[39m=\u001b[39m np\u001b[39m.\u001b[39margsort( cospsi_0is )[::\u001b[39m-\u001b[39m\u001b[39m1\u001b[39m]\n",
      "\u001b[0;31mIndexError\u001b[0m: index 0 is out of bounds for axis 0 with size 0"
     ]
    }
   ],
   "source": [
    "# plot\n",
    "ax, ( coords, inds, pairs ) = c.plot_map()"
   ]
  },
  {
   "cell_type": "code",
   "execution_count": 15,
   "metadata": {},
   "outputs": [
    {
     "data": {
      "text/plain": [
       "'VandeVoort2018a'"
      ]
     },
     "execution_count": 15,
     "metadata": {},
     "output_type": "execute_result"
    }
   ],
   "source": []
  },
  {
   "cell_type": "code",
   "execution_count": null,
   "metadata": {},
   "outputs": [],
   "source": [
    "# not sure if I should do this?\n",
    "ax.scatter()"
   ]
  }
 ],
 "metadata": {
  "kernelspec": {
   "display_name": "literature-topography",
   "language": "python",
   "name": "python3"
  },
  "language_info": {
   "codemirror_mode": {
    "name": "ipython",
    "version": 3
   },
   "file_extension": ".py",
   "mimetype": "text/x-python",
   "name": "python",
   "nbconvert_exporter": "python",
   "pygments_lexer": "ipython3",
   "version": "3.10.9"
  },
  "orig_nbformat": 4
 },
 "nbformat": 4,
 "nbformat_minor": 2
}
