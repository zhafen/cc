{
 "cells": [
  {
   "cell_type": "code",
   "execution_count": 1,
   "metadata": {},
   "outputs": [],
   "source": [
    "import copy\n",
    "import h5py\n",
    "from mock import patch\n",
    "import numpy as np\n",
    "import numpy.testing as npt\n",
    "import os\n",
    "import pytest\n",
    "import scipy.sparse as ss\n",
    "import shutil\n",
    "import unittest\n",
    "import verdict\n",
    "import warnings\n",
    "\n",
    "import cc.atlas as atlas\n",
    "import cc.cartography as cartography\n",
    "import cc.api as api\n",
    "\n",
    "########################################################################\n",
    "\n",
    "filepath = './tests/data/arxiv_source/Hafen2019/CGM_origin.tex'\n",
    "\n",
    "########################################################################"
   ]
  },
  {
   "cell_type": "code",
   "execution_count": 3,
   "metadata": {},
   "outputs": [
    {
     "data": {
      "text/plain": [
       "'/Users/nathanielimel/metascience/cc/cc/tests'"
      ]
     },
     "execution_count": 3,
     "metadata": {},
     "output_type": "execute_result"
    }
   ],
   "source": [
    "os.getcwd()"
   ]
  },
  {
   "cell_type": "code",
   "execution_count": 4,
   "metadata": {},
   "outputs": [
    {
     "name": "stdout",
     "output_type": "stream",
     "text": [
      "Loading bibliography entries.\n",
      "Storing bibliography entries.\n"
     ]
    },
    {
     "name": "stderr",
     "output_type": "stream",
     "text": [
      "100%|████████████████████████████████████████| 10/10 [00:00<00:00, 3431.77it/s]"
     ]
    },
    {
     "name": "stdout",
     "output_type": "stream",
     "text": [
      "Loading saved atlas data.\n"
     ]
    },
    {
     "name": "stderr",
     "output_type": "stream",
     "text": [
      "\n",
      "100%|███████████████████████████████████████| 10/10 [00:00<00:00, 17600.94it/s]\n",
      "100%|██████████████████████████████████████| 10/10 [00:00<00:00, 181571.60it/s]\n"
     ]
    }
   ],
   "source": [
    "# setup\n",
    "\n",
    "atlas_dir = './data/example_atlas'\n",
    "bibtex_fp = os.path.join(atlas_dir, api.DEFAULT_BIB_NAME)\n",
    "\n",
    "if os.path.isfile( bibtex_fp ):\n",
    "    os.remove( bibtex_fp )\n",
    "\n",
    "fp = './data/example_atlas/projection.h5'\n",
    "c = cartography.Cartographer.from_hdf5( fp )\n",
    "a = atlas.Atlas( './data/example_atlas', atlas_data_format='hdf5' )"
   ]
  },
  {
   "cell_type": "code",
   "execution_count": 5,
   "metadata": {},
   "outputs": [
    {
     "name": "stdout",
     "output_type": "stream",
     "text": [
      "Expansion will include 247 new publications.\n",
      "Loading bibliography entries.\n",
      "Storing bibliography entries.\n"
     ]
    },
    {
     "name": "stderr",
     "output_type": "stream",
     "text": [
      "100%|█████████████████████████████████████| 247/247 [00:00<00:00, 69422.58it/s]\n"
     ]
    }
   ],
   "source": [
    "# expand \n",
    "\n",
    "n_downloaded = len( a['Hafen2019'].references ) + len( a['Hafen2019a'].references )\n",
    "new_a = c.expand( a, center='Hafen2019', n_pubs_max=n_downloaded+1 )"
   ]
  },
  {
   "cell_type": "code",
   "execution_count": 6,
   "metadata": {},
   "outputs": [
    {
     "ename": "IndexError",
     "evalue": "index 0 is out of bounds for axis 0 with size 0",
     "output_type": "error",
     "traceback": [
      "\u001b[0;31m---------------------------------------------------------------------------\u001b[0m",
      "\u001b[0;31mIndexError\u001b[0m                                Traceback (most recent call last)",
      "Cell \u001b[0;32mIn[6], line 3\u001b[0m\n\u001b[1;32m      1\u001b[0m \u001b[39m# plot\u001b[39;00m\n\u001b[0;32m----> 3\u001b[0m ax, ( coords, inds, pairs ) \u001b[39m=\u001b[39m c\u001b[39m.\u001b[39;49mplot_map()\n",
      "File \u001b[0;32m~/metascience/cc/cc/cartography.py:1475\u001b[0m, in \u001b[0;36mCartographer.plot_map\u001b[0;34m(self, center, coords, inds, pairs, ax, colors, edgecolors, cmap, norm, hatching, xlim, ylim, vlim, scatter, scatter_kwargs, links, links_kwargs, histogram, histogram_kwargs, histogram_plot_kwargs, voronoi, voronoi_kwargs, labels, labels_placer_voronoi, labels_formatter, labels_kwargs, **kwargs)\u001b[0m\n\u001b[1;32m   1473\u001b[0m \u001b[39m# Get needed data\u001b[39;00m\n\u001b[1;32m   1474\u001b[0m \u001b[39mif\u001b[39;00m coords \u001b[39mis\u001b[39;00m \u001b[39mNone\u001b[39;00m:\n\u001b[0;32m-> 1475\u001b[0m     coords, inds, pairs \u001b[39m=\u001b[39m \u001b[39mself\u001b[39;49m\u001b[39m.\u001b[39;49mmap( center, \u001b[39m*\u001b[39;49m\u001b[39m*\u001b[39;49mkwargs )\n\u001b[1;32m   1476\u001b[0m \u001b[39mif\u001b[39;00m inds \u001b[39mis\u001b[39;00m \u001b[39mNone\u001b[39;00m:\n\u001b[1;32m   1477\u001b[0m     inds \u001b[39m=\u001b[39m np\u001b[39m.\u001b[39marange( coords\u001b[39m.\u001b[39mshape[\u001b[39m0\u001b[39m] )\n",
      "File \u001b[0;32m~/metascience/cc/cc/cartography.py:1274\u001b[0m, in \u001b[0;36mCartographer.map\u001b[0;34m(self, center, distance_transformation, median_psi, std_psi, max_links, max_searched, save_filepath, overwrite, use_numba)\u001b[0m\n\u001b[1;32m   1271\u001b[0m         \u001b[39mreturn\u001b[39;00m group[\u001b[39m'\u001b[39m\u001b[39mcoordinates\u001b[39m\u001b[39m'\u001b[39m], group[\u001b[39m'\u001b[39m\u001b[39mordered indices\u001b[39m\u001b[39m'\u001b[39m], group[\u001b[39m'\u001b[39m\u001b[39mpairs\u001b[39m\u001b[39m'\u001b[39m]\n\u001b[1;32m   1273\u001b[0m \u001b[39m# Setup relation to central publication\u001b[39;00m\n\u001b[0;32m-> 1274\u001b[0m i_center \u001b[39m=\u001b[39m \u001b[39mself\u001b[39;49m\u001b[39m.\u001b[39;49minds[center \u001b[39m==\u001b[39;49m \u001b[39mself\u001b[39;49m\u001b[39m.\u001b[39;49mpublications][\u001b[39m0\u001b[39;49m]\n\u001b[1;32m   1275\u001b[0m cospsi_0is \u001b[39m=\u001b[39m \u001b[39mself\u001b[39m\u001b[39m.\u001b[39mcospsi_matrix[i_center]\n\u001b[1;32m   1276\u001b[0m sort_inds \u001b[39m=\u001b[39m np\u001b[39m.\u001b[39margsort( cospsi_0is )[::\u001b[39m-\u001b[39m\u001b[39m1\u001b[39m]\n",
      "\u001b[0;31mIndexError\u001b[0m: index 0 is out of bounds for axis 0 with size 0"
     ]
    }
   ],
   "source": [
    "# plot\n",
    "\n",
    "ax, ( coords, inds, pairs ) = c.plot_map()"
   ]
  },
  {
   "cell_type": "code",
   "execution_count": null,
   "metadata": {},
   "outputs": [],
   "source": [
    "# not sure if I should do this?\n",
    "ax.scatter()"
   ]
  }
 ],
 "metadata": {
  "kernelspec": {
   "display_name": "literature-topography",
   "language": "python",
   "name": "python3"
  },
  "language_info": {
   "codemirror_mode": {
    "name": "ipython",
    "version": 3
   },
   "file_extension": ".py",
   "mimetype": "text/x-python",
   "name": "python",
   "nbconvert_exporter": "python",
   "pygments_lexer": "ipython3",
   "version": "3.10.9"
  },
  "orig_nbformat": 4
 },
 "nbformat": 4,
 "nbformat_minor": 2
}
